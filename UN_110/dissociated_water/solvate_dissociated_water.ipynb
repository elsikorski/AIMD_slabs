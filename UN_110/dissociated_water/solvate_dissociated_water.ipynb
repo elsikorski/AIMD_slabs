{
 "cells": [
  {
   "cell_type": "code",
   "execution_count": 32,
   "metadata": {
    "jupyter": {
     "outputs_hidden": false
    }
   },
   "outputs": [],
   "source": [
    "# Run me\n",
    "\n",
    "from __future__ import print_function\n",
    "\n",
    "import mbuild as mb\n",
    "from mbuild.lib.moieties import H2O\n",
    "from mbuild.examples import Ethane\n",
    "\n",
    "water = H2O()\n",
    "\n",
    "from mbuild.formats.vasp import write_poscar\n",
    "\n",
    "class O2(mb.Compound):\n",
    "    def __init__(self):\n",
    "        super(O2, self).__init__()\n",
    "        oxygen = mb.Particle(name='O')\n",
    "        self.add(oxygen)\n",
    "        self.add(mb.Particle(name='O', pos=[0, 0, 0.12]))\n",
    "        self.add_bond((self[0], self[1]))\n",
    "        \n",
    "o2 = O2()\n",
    "\n",
    "#dissociated water\n",
    "\n",
    "class Methane(mb.Compound):\n",
    "    def __init__(self):\n",
    "        super(Methane, self).__init__()\n",
    "        carbon = mb.Particle(name='C')\n",
    "        self.add(carbon)\n",
    "\n",
    "        hydrogen = mb.Particle(name='H', pos=[0.1, 0, -0.07])\n",
    "        self.add(hydrogen)\n",
    "\n",
    "        self.add_bond((self[0], self[1]))\n",
    "\n",
    "        self.add(mb.Particle(name='H', pos=[-0.1, 0, -0.07]))\n",
    "        self.add(mb.Particle(name='H', pos=[0, 0.1, 0.07]))\n",
    "        self.add(mb.Particle(name='H', pos=[0, -0.1, 0.07]))\n",
    "\n",
    "        self.add_bond((self[0], self[2]))\n",
    "        self.add_bond((self[0], self[3]))\n",
    "        self.add_bond((self[0], self[4]))\n",
    "\n",
    "class dissociated_water(mb.Compound):\n",
    "    def __init__(self):\n",
    "        super(dissociated_water, self).__init__()\n",
    "        oxygen = mb.Particle(name='O')\n",
    "        self.add(oxygen)\n",
    "        self.add(mb.Particle(name='H', pos=[0, 0, 0.097]))\n",
    "        self.add_bond((self[0], self[1]))\n",
    "\n",
    "OH = dissociated_water \n",
    "\n",
    "class H(mb.Compound):\n",
    "    def __init__(self):\n",
    "        super(H, self).__init__()\n",
    "        hydrogen = mb.Particle(name='H')\n",
    "        self.add(hydrogen)\n"
   ]
  },
  {
   "cell_type": "code",
   "execution_count": 33,
   "metadata": {},
   "outputs": [
    {
     "name": "stdout",
     "output_type": "stream",
     "text": [
      "<dissociated_water 2 particles, non-periodic, 1 bonds, id: 4791054288>\n"
     ]
    },
    {
     "data": {
      "application/3dmoljs_load.v0": "<div id=\"3dmolviewer_1575578629164768\"  style=\"position: relative; width: 640px; height: 480px\">\n        <p id=\"3dmolwarning_1575578629164768\" style=\"background-color:#ffcccc;color:black\">You appear to be running in JupyterLab (or JavaScript failed to load for some other reason).  You need to install the 3dmol extension: <br>\n        <tt>jupyter labextension install jupyterlab_3dmol</tt></p>\n        </div>\n<script>\n\nvar loadScriptAsync = function(uri){\n  return new Promise((resolve, reject) => {\n    var tag = document.createElement('script');\n    tag.src = uri;\n    tag.async = true;\n    tag.onload = () => {\n      resolve();\n    };\n  var firstScriptTag = document.getElementsByTagName('script')[0];\n  firstScriptTag.parentNode.insertBefore(tag, firstScriptTag);\n});\n};\n\nif(typeof $3Dmolpromise === 'undefined') {\n$3Dmolpromise = null;\n  $3Dmolpromise = loadScriptAsync('https://3dmol.csb.pitt.edu/build/3Dmol.js');\n}\n\nvar viewer_1575578629164768 = null;\nvar warn = document.getElementById(\"3dmolwarning_1575578629164768\");\nif(warn) {\n    warn.parentNode.removeChild(warn);\n}\n$3Dmolpromise.then(function() {\nviewer_1575578629164768 = $3Dmol.createViewer($(\"#3dmolviewer_1575578629164768\"),{backgroundColor:\"white\"});\n\tviewer_1575578629164768.addModel(\"@<TRIPOS>MOLECULE\\nRES\\n2 1 1 0 1\\nSMALL\\nNO_CHARGES\\n@<TRIPOS>CRYSIN\\n    5.0000     5.0000     5.9700    90.0000    90.0000    90.0000  1  1\\n@<TRIPOS>ATOM\\n       1 O            0.0000     0.0000     0.0000 O             1 RES     \\n       2 H            0.0000     0.0000     0.9700 H             1 RES     \\n@<TRIPOS>BOND\\n       1        2        1 1\\n@<TRIPOS>SUBSTRUCTURE\\n       1 RES             1 RESIDUE    0 **** ROOT      0\\n\",\"mol2\");\n\tviewer_1575578629164768.setStyle({\"stick\": {\"radius\": 0.2, \"color\": \"grey\"}, \"sphere\": {\"scale\": 0.3, \"colorscheme\": {}}});\n\tviewer_1575578629164768.zoomTo();\nviewer_1575578629164768.render();\n});\n</script>",
      "text/html": [
       "<div id=\"3dmolviewer_1575578629164768\"  style=\"position: relative; width: 640px; height: 480px\">\n",
       "        <p id=\"3dmolwarning_1575578629164768\" style=\"background-color:#ffcccc;color:black\">You appear to be running in JupyterLab (or JavaScript failed to load for some other reason).  You need to install the 3dmol extension: <br>\n",
       "        <tt>jupyter labextension install jupyterlab_3dmol</tt></p>\n",
       "        </div>\n",
       "<script>\n",
       "\n",
       "var loadScriptAsync = function(uri){\n",
       "  return new Promise((resolve, reject) => {\n",
       "    var tag = document.createElement('script');\n",
       "    tag.src = uri;\n",
       "    tag.async = true;\n",
       "    tag.onload = () => {\n",
       "      resolve();\n",
       "    };\n",
       "  var firstScriptTag = document.getElementsByTagName('script')[0];\n",
       "  firstScriptTag.parentNode.insertBefore(tag, firstScriptTag);\n",
       "});\n",
       "};\n",
       "\n",
       "if(typeof $3Dmolpromise === 'undefined') {\n",
       "$3Dmolpromise = null;\n",
       "  $3Dmolpromise = loadScriptAsync('https://3dmol.csb.pitt.edu/build/3Dmol.js');\n",
       "}\n",
       "\n",
       "var viewer_1575578629164768 = null;\n",
       "var warn = document.getElementById(\"3dmolwarning_1575578629164768\");\n",
       "if(warn) {\n",
       "    warn.parentNode.removeChild(warn);\n",
       "}\n",
       "$3Dmolpromise.then(function() {\n",
       "viewer_1575578629164768 = $3Dmol.createViewer($(\"#3dmolviewer_1575578629164768\"),{backgroundColor:\"white\"});\n",
       "\tviewer_1575578629164768.addModel(\"@<TRIPOS>MOLECULE\\nRES\\n2 1 1 0 1\\nSMALL\\nNO_CHARGES\\n@<TRIPOS>CRYSIN\\n    5.0000     5.0000     5.9700    90.0000    90.0000    90.0000  1  1\\n@<TRIPOS>ATOM\\n       1 O            0.0000     0.0000     0.0000 O             1 RES     \\n       2 H            0.0000     0.0000     0.9700 H             1 RES     \\n@<TRIPOS>BOND\\n       1        2        1 1\\n@<TRIPOS>SUBSTRUCTURE\\n       1 RES             1 RESIDUE    0 **** ROOT      0\\n\",\"mol2\");\n",
       "\tviewer_1575578629164768.setStyle({\"stick\": {\"radius\": 0.2, \"color\": \"grey\"}, \"sphere\": {\"scale\": 0.3, \"colorscheme\": {}}});\n",
       "\tviewer_1575578629164768.zoomTo();\n",
       "viewer_1575578629164768.render();\n",
       "});\n",
       "</script>"
      ]
     },
     "metadata": {},
     "output_type": "display_data"
    },
    {
     "data": {
      "text/plain": [
       "<py3Dmol.view at 0x11d8a1ee0>"
      ]
     },
     "execution_count": 33,
     "metadata": {},
     "output_type": "execute_result"
    }
   ],
   "source": [
    "OH = dissociated_water()\n",
    "print(OH)\n",
    "OH.visualize()"
   ]
  },
  {
   "cell_type": "code",
   "execution_count": 34,
   "metadata": {},
   "outputs": [
    {
     "name": "stdout",
     "output_type": "stream",
     "text": [
      "<H 1 particles, non-periodic, 0 bonds, id: 4791185808>\n"
     ]
    },
    {
     "data": {
      "application/3dmoljs_load.v0": "<div id=\"3dmolviewer_157557862989402\"  style=\"position: relative; width: 640px; height: 480px\">\n        <p id=\"3dmolwarning_157557862989402\" style=\"background-color:#ffcccc;color:black\">You appear to be running in JupyterLab (or JavaScript failed to load for some other reason).  You need to install the 3dmol extension: <br>\n        <tt>jupyter labextension install jupyterlab_3dmol</tt></p>\n        </div>\n<script>\n\nvar loadScriptAsync = function(uri){\n  return new Promise((resolve, reject) => {\n    var tag = document.createElement('script');\n    tag.src = uri;\n    tag.async = true;\n    tag.onload = () => {\n      resolve();\n    };\n  var firstScriptTag = document.getElementsByTagName('script')[0];\n  firstScriptTag.parentNode.insertBefore(tag, firstScriptTag);\n});\n};\n\nif(typeof $3Dmolpromise === 'undefined') {\n$3Dmolpromise = null;\n  $3Dmolpromise = loadScriptAsync('https://3dmol.csb.pitt.edu/build/3Dmol.js');\n}\n\nvar viewer_157557862989402 = null;\nvar warn = document.getElementById(\"3dmolwarning_157557862989402\");\nif(warn) {\n    warn.parentNode.removeChild(warn);\n}\n$3Dmolpromise.then(function() {\nviewer_157557862989402 = $3Dmol.createViewer($(\"#3dmolviewer_157557862989402\"),{backgroundColor:\"white\"});\n\tviewer_157557862989402.addModel(\"@<TRIPOS>MOLECULE\\nRES\\n1 0 1 0 1\\nSMALL\\nNO_CHARGES\\n@<TRIPOS>CRYSIN\\n    5.0000     5.0000     5.0000    90.0000    90.0000    90.0000  1  1\\n@<TRIPOS>ATOM\\n       1 H            0.0000     0.0000     0.0000 H             1 RES     \\n@<TRIPOS>BOND\\n@<TRIPOS>SUBSTRUCTURE\\n       1 RES             1 RESIDUE    0 **** ROOT      0\\n\",\"mol2\");\n\tviewer_157557862989402.setStyle({\"stick\": {\"radius\": 0.2, \"color\": \"grey\"}, \"sphere\": {\"scale\": 0.3, \"colorscheme\": {}}});\n\tviewer_157557862989402.zoomTo();\nviewer_157557862989402.render();\n});\n</script>",
      "text/html": [
       "<div id=\"3dmolviewer_157557862989402\"  style=\"position: relative; width: 640px; height: 480px\">\n",
       "        <p id=\"3dmolwarning_157557862989402\" style=\"background-color:#ffcccc;color:black\">You appear to be running in JupyterLab (or JavaScript failed to load for some other reason).  You need to install the 3dmol extension: <br>\n",
       "        <tt>jupyter labextension install jupyterlab_3dmol</tt></p>\n",
       "        </div>\n",
       "<script>\n",
       "\n",
       "var loadScriptAsync = function(uri){\n",
       "  return new Promise((resolve, reject) => {\n",
       "    var tag = document.createElement('script');\n",
       "    tag.src = uri;\n",
       "    tag.async = true;\n",
       "    tag.onload = () => {\n",
       "      resolve();\n",
       "    };\n",
       "  var firstScriptTag = document.getElementsByTagName('script')[0];\n",
       "  firstScriptTag.parentNode.insertBefore(tag, firstScriptTag);\n",
       "});\n",
       "};\n",
       "\n",
       "if(typeof $3Dmolpromise === 'undefined') {\n",
       "$3Dmolpromise = null;\n",
       "  $3Dmolpromise = loadScriptAsync('https://3dmol.csb.pitt.edu/build/3Dmol.js');\n",
       "}\n",
       "\n",
       "var viewer_157557862989402 = null;\n",
       "var warn = document.getElementById(\"3dmolwarning_157557862989402\");\n",
       "if(warn) {\n",
       "    warn.parentNode.removeChild(warn);\n",
       "}\n",
       "$3Dmolpromise.then(function() {\n",
       "viewer_157557862989402 = $3Dmol.createViewer($(\"#3dmolviewer_157557862989402\"),{backgroundColor:\"white\"});\n",
       "\tviewer_157557862989402.addModel(\"@<TRIPOS>MOLECULE\\nRES\\n1 0 1 0 1\\nSMALL\\nNO_CHARGES\\n@<TRIPOS>CRYSIN\\n    5.0000     5.0000     5.0000    90.0000    90.0000    90.0000  1  1\\n@<TRIPOS>ATOM\\n       1 H            0.0000     0.0000     0.0000 H             1 RES     \\n@<TRIPOS>BOND\\n@<TRIPOS>SUBSTRUCTURE\\n       1 RES             1 RESIDUE    0 **** ROOT      0\\n\",\"mol2\");\n",
       "\tviewer_157557862989402.setStyle({\"stick\": {\"radius\": 0.2, \"color\": \"grey\"}, \"sphere\": {\"scale\": 0.3, \"colorscheme\": {}}});\n",
       "\tviewer_157557862989402.zoomTo();\n",
       "viewer_157557862989402.render();\n",
       "});\n",
       "</script>"
      ]
     },
     "metadata": {},
     "output_type": "display_data"
    },
    {
     "data": {
      "text/plain": [
       "<py3Dmol.view at 0x11d91ad30>"
      ]
     },
     "execution_count": 34,
     "metadata": {},
     "output_type": "execute_result"
    }
   ],
   "source": [
    "H = H()\n",
    "print(H)\n",
    "H.visualize()"
   ]
  },
  {
   "cell_type": "code",
   "execution_count": 58,
   "metadata": {},
   "outputs": [
    {
     "data": {
      "application/3dmoljs_load.v0": "<div id=\"3dmolviewer_1575578970346831\"  style=\"position: relative; width: 640px; height: 480px\">\n        <p id=\"3dmolwarning_1575578970346831\" style=\"background-color:#ffcccc;color:black\">You appear to be running in JupyterLab (or JavaScript failed to load for some other reason).  You need to install the 3dmol extension: <br>\n        <tt>jupyter labextension install jupyterlab_3dmol</tt></p>\n        </div>\n<script>\n\nvar loadScriptAsync = function(uri){\n  return new Promise((resolve, reject) => {\n    var tag = document.createElement('script');\n    tag.src = uri;\n    tag.async = true;\n    tag.onload = () => {\n      resolve();\n    };\n  var firstScriptTag = document.getElementsByTagName('script')[0];\n  firstScriptTag.parentNode.insertBefore(tag, firstScriptTag);\n});\n};\n\nif(typeof $3Dmolpromise === 'undefined') {\n$3Dmolpromise = null;\n  $3Dmolpromise = loadScriptAsync('https://3dmol.csb.pitt.edu/build/3Dmol.js');\n}\n\nvar viewer_1575578970346831 = null;\nvar warn = document.getElementById(\"3dmolwarning_1575578970346831\");\nif(warn) {\n    warn.parentNode.removeChild(warn);\n}\n$3Dmolpromise.then(function() {\nviewer_1575578970346831 = $3Dmol.createViewer($(\"#3dmolviewer_1575578970346831\"),{backgroundColor:\"white\"});\n\tviewer_1575578970346831.addModel(\"@<TRIPOS>MOLECULE\\nRES\\n48 16 1 0 1\\nSMALL\\nNO_CHARGES\\n@<TRIPOS>CRYSIN\\n    9.0000    13.0000     5.5000    90.0000    90.0000    90.0000  1  1\\n@<TRIPOS>ATOM\\n       1 H            6.8060     9.4859     2.6682 H             1 RES     \\n       2 H            3.8821     0.0064     4.4846 H             1 RES     \\n       3 H            0.0060     0.0093     0.2871 H             1 RES     \\n       4 H            7.9848     1.3578     2.0517 H             1 RES     \\n       5 H            7.9953     5.5723     0.4526 H             1 RES     \\n       6 H            7.9851    10.1059     0.0230 H             1 RES     \\n       7 H            7.9987     1.9700     0.0145 H             1 RES     \\n       8 H            6.1022     1.8474     2.1892 H             1 RES     \\n       9 H            6.7122     9.0758     0.0115 H             1 RES     \\n      10 H            3.1264     0.0106     2.7542 H             1 RES     \\n      11 H            7.9839     8.9389     4.4982 H             1 RES     \\n      12 H            3.2401     3.3859     4.4926 H             1 RES     \\n      13 H            0.0055     2.0162     0.0141 H             1 RES     \\n      14 H            1.7735     9.4088     0.0149 H             1 RES     \\n      15 H            7.8641    11.8699     4.4873 H             1 RES     \\n      16 H            7.9977    11.9913     0.0113 H             1 RES     \\n      17 O            0.1189    11.1914     4.4991 O             1 RES     \\n      18 H            0.0002    11.1902     3.5364 H             1 RES     \\n      19 O            3.9135    11.9964     0.0071 O             1 RES     \\n      20 H            4.1955    11.0684     0.0000 H             1 RES     \\n      21 O            1.9345     8.6361     1.9322 O             1 RES     \\n      22 H            2.2248     7.7110     1.9047 H             1 RES     \\n      23 O            4.4442     4.7438     0.2014 O             1 RES     \\n      24 H            3.5048     4.8745    -0.0018 H             1 RES     \\n      25 O           -0.0001     6.7748     0.7905 O             1 RES     \\n      26 H            0.5130     6.5388     0.0019 H             1 RES     \\n      27 O            0.4055     0.7381     4.4975 O             1 RES     \\n      28 H            0.0029    -0.0006     4.0146 H             1 RES     \\n      29 O            8.0002     0.1427     0.0007 O             1 RES     \\n      30 H            7.9812    -0.0016     0.9597 H             1 RES     \\n      31 O            3.9481     0.1621     0.0841 O             1 RES     \\n      32 H            2.9958    -0.0014    -0.0008 H             1 RES     \\n      33 O            2.9267    11.9925     4.4861 O             1 RES     \\n      34 H            3.6837    11.3862     4.4998 H             1 RES     \\n      35 O            0.0300    11.5779     0.8751 O             1 RES     \\n      36 H           -0.0000    12.0003     0.0024 H             1 RES     \\n      37 O            7.3006     5.4161     4.4679 O             1 RES     \\n      38 H            7.9656     4.7106     4.5005 H             1 RES     \\n      39 O            1.1776     2.3209     1.5705 O             1 RES     \\n      40 H            0.5245     3.0095     1.7708 H             1 RES     \\n      41 O            0.0562     6.2769     4.2755 O             1 RES     \\n      42 H           -0.0002     5.3353     4.5016 H             1 RES     \\n      43 O            7.9219     0.0008     4.0055 O             1 RES     \\n      44 H            7.9999     0.8319     4.4995 H             1 RES     \\n      45 O            3.9524     8.2858     4.4294 O             1 RES     \\n      46 H            2.9898     8.3810     4.5011 H             1 RES     \\n      47 O            7.9992    11.6389     2.6731 O             1 RES     \\n      48 H            7.0991    11.9996     2.7005 H             1 RES     \\n@<TRIPOS>BOND\\n       1       47       48 1\\n       2       23       24 1\\n       3       27       28 1\\n       4       43       44 1\\n       5       25       26 1\\n       6       17       18 1\\n       7       41       42 1\\n       8       29       30 1\\n       9       39       40 1\\n      10       31       32 1\\n      11       19       20 1\\n      12       35       36 1\\n      13       45       46 1\\n      14       21       22 1\\n      15       33       34 1\\n      16       37       38 1\\n@<TRIPOS>SUBSTRUCTURE\\n       1 RES             1 RESIDUE    0 **** ROOT      0\\n\",\"mol2\");\n\tviewer_1575578970346831.setStyle({\"stick\": {\"radius\": 0.2, \"color\": \"grey\"}, \"sphere\": {\"scale\": 0.3, \"colorscheme\": {}}});\n\tviewer_1575578970346831.zoomTo();\nviewer_1575578970346831.render();\n});\n</script>",
      "text/html": [
       "<div id=\"3dmolviewer_1575578970346831\"  style=\"position: relative; width: 640px; height: 480px\">\n",
       "        <p id=\"3dmolwarning_1575578970346831\" style=\"background-color:#ffcccc;color:black\">You appear to be running in JupyterLab (or JavaScript failed to load for some other reason).  You need to install the 3dmol extension: <br>\n",
       "        <tt>jupyter labextension install jupyterlab_3dmol</tt></p>\n",
       "        </div>\n",
       "<script>\n",
       "\n",
       "var loadScriptAsync = function(uri){\n",
       "  return new Promise((resolve, reject) => {\n",
       "    var tag = document.createElement('script');\n",
       "    tag.src = uri;\n",
       "    tag.async = true;\n",
       "    tag.onload = () => {\n",
       "      resolve();\n",
       "    };\n",
       "  var firstScriptTag = document.getElementsByTagName('script')[0];\n",
       "  firstScriptTag.parentNode.insertBefore(tag, firstScriptTag);\n",
       "});\n",
       "};\n",
       "\n",
       "if(typeof $3Dmolpromise === 'undefined') {\n",
       "$3Dmolpromise = null;\n",
       "  $3Dmolpromise = loadScriptAsync('https://3dmol.csb.pitt.edu/build/3Dmol.js');\n",
       "}\n",
       "\n",
       "var viewer_1575578970346831 = null;\n",
       "var warn = document.getElementById(\"3dmolwarning_1575578970346831\");\n",
       "if(warn) {\n",
       "    warn.parentNode.removeChild(warn);\n",
       "}\n",
       "$3Dmolpromise.then(function() {\n",
       "viewer_1575578970346831 = $3Dmol.createViewer($(\"#3dmolviewer_1575578970346831\"),{backgroundColor:\"white\"});\n",
       "\tviewer_1575578970346831.addModel(\"@<TRIPOS>MOLECULE\\nRES\\n48 16 1 0 1\\nSMALL\\nNO_CHARGES\\n@<TRIPOS>CRYSIN\\n    9.0000    13.0000     5.5000    90.0000    90.0000    90.0000  1  1\\n@<TRIPOS>ATOM\\n       1 H            6.8060     9.4859     2.6682 H             1 RES     \\n       2 H            3.8821     0.0064     4.4846 H             1 RES     \\n       3 H            0.0060     0.0093     0.2871 H             1 RES     \\n       4 H            7.9848     1.3578     2.0517 H             1 RES     \\n       5 H            7.9953     5.5723     0.4526 H             1 RES     \\n       6 H            7.9851    10.1059     0.0230 H             1 RES     \\n       7 H            7.9987     1.9700     0.0145 H             1 RES     \\n       8 H            6.1022     1.8474     2.1892 H             1 RES     \\n       9 H            6.7122     9.0758     0.0115 H             1 RES     \\n      10 H            3.1264     0.0106     2.7542 H             1 RES     \\n      11 H            7.9839     8.9389     4.4982 H             1 RES     \\n      12 H            3.2401     3.3859     4.4926 H             1 RES     \\n      13 H            0.0055     2.0162     0.0141 H             1 RES     \\n      14 H            1.7735     9.4088     0.0149 H             1 RES     \\n      15 H            7.8641    11.8699     4.4873 H             1 RES     \\n      16 H            7.9977    11.9913     0.0113 H             1 RES     \\n      17 O            0.1189    11.1914     4.4991 O             1 RES     \\n      18 H            0.0002    11.1902     3.5364 H             1 RES     \\n      19 O            3.9135    11.9964     0.0071 O             1 RES     \\n      20 H            4.1955    11.0684     0.0000 H             1 RES     \\n      21 O            1.9345     8.6361     1.9322 O             1 RES     \\n      22 H            2.2248     7.7110     1.9047 H             1 RES     \\n      23 O            4.4442     4.7438     0.2014 O             1 RES     \\n      24 H            3.5048     4.8745    -0.0018 H             1 RES     \\n      25 O           -0.0001     6.7748     0.7905 O             1 RES     \\n      26 H            0.5130     6.5388     0.0019 H             1 RES     \\n      27 O            0.4055     0.7381     4.4975 O             1 RES     \\n      28 H            0.0029    -0.0006     4.0146 H             1 RES     \\n      29 O            8.0002     0.1427     0.0007 O             1 RES     \\n      30 H            7.9812    -0.0016     0.9597 H             1 RES     \\n      31 O            3.9481     0.1621     0.0841 O             1 RES     \\n      32 H            2.9958    -0.0014    -0.0008 H             1 RES     \\n      33 O            2.9267    11.9925     4.4861 O             1 RES     \\n      34 H            3.6837    11.3862     4.4998 H             1 RES     \\n      35 O            0.0300    11.5779     0.8751 O             1 RES     \\n      36 H           -0.0000    12.0003     0.0024 H             1 RES     \\n      37 O            7.3006     5.4161     4.4679 O             1 RES     \\n      38 H            7.9656     4.7106     4.5005 H             1 RES     \\n      39 O            1.1776     2.3209     1.5705 O             1 RES     \\n      40 H            0.5245     3.0095     1.7708 H             1 RES     \\n      41 O            0.0562     6.2769     4.2755 O             1 RES     \\n      42 H           -0.0002     5.3353     4.5016 H             1 RES     \\n      43 O            7.9219     0.0008     4.0055 O             1 RES     \\n      44 H            7.9999     0.8319     4.4995 H             1 RES     \\n      45 O            3.9524     8.2858     4.4294 O             1 RES     \\n      46 H            2.9898     8.3810     4.5011 H             1 RES     \\n      47 O            7.9992    11.6389     2.6731 O             1 RES     \\n      48 H            7.0991    11.9996     2.7005 H             1 RES     \\n@<TRIPOS>BOND\\n       1       47       48 1\\n       2       23       24 1\\n       3       27       28 1\\n       4       43       44 1\\n       5       25       26 1\\n       6       17       18 1\\n       7       41       42 1\\n       8       29       30 1\\n       9       39       40 1\\n      10       31       32 1\\n      11       19       20 1\\n      12       35       36 1\\n      13       45       46 1\\n      14       21       22 1\\n      15       33       34 1\\n      16       37       38 1\\n@<TRIPOS>SUBSTRUCTURE\\n       1 RES             1 RESIDUE    0 **** ROOT      0\\n\",\"mol2\");\n",
       "\tviewer_1575578970346831.setStyle({\"stick\": {\"radius\": 0.2, \"color\": \"grey\"}, \"sphere\": {\"scale\": 0.3, \"colorscheme\": {}}});\n",
       "\tviewer_1575578970346831.zoomTo();\n",
       "viewer_1575578970346831.render();\n",
       "});\n",
       "</script>"
      ]
     },
     "metadata": {},
     "output_type": "display_data"
    },
    {
     "data": {
      "text/plain": [
       "<py3Dmol.view at 0x11e137700>"
      ]
     },
     "execution_count": 58,
     "metadata": {},
     "output_type": "execute_result"
    }
   ],
   "source": [
    "solvate_box = [0.9, 1.3, 0.55]\n",
    "\n",
    "solvate_test = mb.packing.fill_box(compound=[H, OH], n_compounds=[16,16], box=solvate_box, density=None, \n",
    "                    overlap=0.5, seed=12345, edge=0.1, \n",
    "                    aspect_ratio=None, fix_orientation=False, temp_file=None, update_port_locations=False)\n",
    "solvate_test.visualize()\n"
   ]
  },
  {
   "cell_type": "code",
   "execution_count": 59,
   "metadata": {},
   "outputs": [
    {
     "name": "stdout",
     "output_type": "stream",
     "text": [
      "heck\n"
     ]
    }
   ],
   "source": [
    "write_poscar(solvate_test, \"POSCAR\",1,bravais=[[9.82850,0,0],\n",
    "    [0,13.89990,0],[0,0,5]], coord='cartesian')\n"
   ]
  },
  {
   "cell_type": "code",
   "execution_count": 60,
   "metadata": {},
   "outputs": [
    {
     "name": "stdout",
     "output_type": "stream",
     "text": [
      "  _________________________________________\r\n",
      " |      o---o                     O        |\r\n",
      " |     o---o|   _____________     |        |\r\n",
      " |     |   |o    A T O M S K     ,0;-o     |\r\n",
      " |     o---o                   o'   'O     |\r\n",
      " |   Version Beta-0.10.6                   |\r\n",
      " |   (C) 2010 Pierre Hirel                 |\r\n",
      " |_________________________________________|\r\n",
      " >>> Opening the input file: POSCAR\r\n",
      " ..> Input file was read successfully (48 atoms).\r\n",
      " >>> Shifting all atoms by (0.000,0.000,-30.000)\r\n",
      " ..> 48 atoms were shifted.\r\n",
      " >>> Writing output file(s) (48 atoms):\r\n",
      " ..> Successfully wrote POSCAR file: POSCAR\r\n",
      " \\o/ Program terminated successfully!\r\n",
      "     Total time: 0.004 s.; CPU time: 0.003 s.\r\n"
     ]
    }
   ],
   "source": [
    "\n",
    "!atomsk POSCAR -shift 0.0 0.0 -30.0 CONTCAR -ow"
   ]
  },
  {
   "cell_type": "code",
   "execution_count": 61,
   "metadata": {},
   "outputs": [
    {
     "name": "stdout",
     "output_type": "stream",
     "text": [
      "  _________________________________________\r\n",
      " |      o---o                     O        |\r\n",
      " |     o---o|   _____________     |        |\r\n",
      " |     |   |o    A T O M S K     ,0;-o     |\r\n",
      " |     o---o                   o'   'O     |\r\n",
      " |   Version Beta-0.10.6                   |\r\n",
      " |   (C) 2010 Pierre Hirel                 |\r\n",
      " |_________________________________________|\r\n",
      " >>> Concatenating the systems along z...\r\n",
      " >>> Opening the input file: CONTCAR_110slab\r\n",
      " ..> Input file was read successfully (128 atoms).\r\n",
      " >>> Opening the input file: POSCAR\r\n",
      " ..> Input file was read successfully (48 atoms).\r\n",
      " ..> 2 systems were merged.\r\n",
      " >>> Writing output file(s) (176 atoms):\r\n",
      " ..> Successfully wrote POSCAR file: POSCAR\r\n",
      " \\o/ Program terminated successfully!\r\n",
      "     Total time: 0.007 s.; CPU time: 0.007 s.\r\n"
     ]
    }
   ],
   "source": [
    "!atomsk --merge z 2 CONTCAR_110slab POSCAR CONTCAR -ow\n",
    "\n"
   ]
  },
  {
   "cell_type": "code",
   "execution_count": 62,
   "metadata": {},
   "outputs": [
    {
     "name": "stdout",
     "output_type": "stream",
     "text": [
      "  _________________________________________\r\n",
      " |      o---o                     O        |\r\n",
      " |     o---o|   _____________     |        |\r\n",
      " |     |   |o    A T O M S K     ,0;-o     |\r\n",
      " |     o---o                   o'   'O     |\r\n",
      " |   Version Beta-0.10.6                   |\r\n",
      " |   (C) 2010 Pierre Hirel                 |\r\n",
      " |_________________________________________|\r\n",
      " >>> Opening the input file: POSCAR\r\n",
      " ..> Input file was read successfully (176 atoms).\r\n",
      " >>> Writing output file(s) (176 atoms):\r\n",
      " ..> Successfully wrote XYZ file: POSCAR.xyz\r\n",
      " \\o/ Program terminated successfully!\r\n",
      "     Total time: 0.008 s.; CPU time: 0.007 s.\r\n"
     ]
    }
   ],
   "source": [
    "!atomsk POSCAR xyz -ow"
   ]
  },
  {
   "cell_type": "code",
   "execution_count": 63,
   "metadata": {},
   "outputs": [
    {
     "data": {
      "application/3dmoljs_load.v0": "<div id=\"3dmolviewer_15755789903307421\"  style=\"position: relative; width: 640px; height: 480px\">\n        <p id=\"3dmolwarning_15755789903307421\" style=\"background-color:#ffcccc;color:black\">You appear to be running in JupyterLab (or JavaScript failed to load for some other reason).  You need to install the 3dmol extension: <br>\n        <tt>jupyter labextension install jupyterlab_3dmol</tt></p>\n        </div>\n<script>\n\nvar loadScriptAsync = function(uri){\n  return new Promise((resolve, reject) => {\n    var tag = document.createElement('script');\n    tag.src = uri;\n    tag.async = true;\n    tag.onload = () => {\n      resolve();\n    };\n  var firstScriptTag = document.getElementsByTagName('script')[0];\n  firstScriptTag.parentNode.insertBefore(tag, firstScriptTag);\n});\n};\n\nif(typeof $3Dmolpromise === 'undefined') {\n$3Dmolpromise = null;\n  $3Dmolpromise = loadScriptAsync('https://3dmol.csb.pitt.edu/build/3Dmol.js');\n}\n\nvar viewer_15755789903307421 = null;\nvar warn = document.getElementById(\"3dmolwarning_15755789903307421\");\nif(warn) {\n    warn.parentNode.removeChild(warn);\n}\n$3Dmolpromise.then(function() {\nviewer_15755789903307421 = $3Dmol.createViewer($(\"#3dmolviewer_15755789903307421\"),{backgroundColor:\"white\"});\n\tviewer_15755789903307421.addModel(\"@<TRIPOS>MOLECULE\\nRES\\n176 0 1 0 1\\nSMALL\\nNO_CHARGES\\n@<TRIPOS>CRYSIN\\n   13.9231    18.9015    23.4015    90.0000    90.0000    90.0000  1  1\\n@<TRIPOS>ATOM\\n       1 H            3.6690     5.2125     0.0000 H             1 RES     \\n       2 H            3.7400    12.0771     6.8332 H             1 RES     \\n       3 H            3.6730     8.5841     3.4802 H             1 RES     \\n       4 H            3.7080     1.6242    10.3642 H             1 RES     \\n       5 H            3.6690    12.1624     0.0000 H             1 RES     \\n       6 H            3.7036     5.1934     6.9043 H             1 RES     \\n       7 H            3.7644     1.7733     3.4764 H             1 RES     \\n       8 H            3.7546     8.5443    10.5915 H             1 RES     \\n       9 H            8.5832     5.2125     0.0000 H             1 RES     \\n      10 H            8.5151    12.1757     6.8866 H             1 RES     \\n      11 H            8.6163     8.6731     3.4782 H             1 RES     \\n      12 H            8.5379     1.6964    10.4688 H             1 RES     \\n      13 H            8.5832    12.1624     0.0000 H             1 RES     \\n      14 H            8.6928     5.1782     6.8386 H             1 RES     \\n      15 H            8.6678     1.6095     3.3873 H             1 RES     \\n      16 H            8.5707     8.6376    10.3026 H             1 RES     \\n      17 H            3.6690     1.7375     0.0000 H             1 RES     \\n      18 H            3.7286     8.6230     6.8725 H             1 RES     \\n      19 H            3.6814     5.1903     3.4851 H             1 RES     \\n      20 H            3.8306    12.2273    10.4446 H             1 RES     \\n      21 H            3.6690     8.6874     0.0000 H             1 RES     \\n      22 H            3.7491     1.7618     6.8883 H             1 RES     \\n      23 H            3.7772    12.1328     3.4663 H             1 RES     \\n      24 H            3.6765     5.0416    10.4388 H             1 RES     \\n      25 H            8.5832     1.7375     0.0000 H             1 RES     \\n      26 H            8.6148     8.6616     6.8434 H             1 RES     \\n      27 H            8.6156     5.2264     3.4972 H             1 RES     \\n      28 H            8.5247    12.0869    10.3162 H             1 RES     \\n      29 H            8.5832     8.6874     0.0000 H             1 RES     \\n      30 H            8.6137     1.7927     6.7988 H             1 RES     \\n      31 H            8.6246    12.1963     3.6165 H             1 RES     \\n      32 H            8.6669     5.2696    10.4820 H             1 RES     \\n      33 H            1.2099     3.4750     1.7375 H             1 RES     \\n      34 H            1.3235    10.3128     8.7241 H             1 RES     \\n      35 H            1.1466     6.9876     5.2616 H             1 RES     \\n      36 H            1.4947     0.0656    11.9917 H             1 RES     \\n      37 H            1.2099    10.4249     1.7375 H             1 RES     \\n      38 H            1.1502     3.4202     8.5462 H             1 RES     \\n      39 H            1.2850    13.8512     5.1180 H             1 RES     \\n      40 H            1.3132     6.9432    11.8871 H             1 RES     \\n      41 H            6.1241     3.4750     1.7375 H             1 RES     \\n      42 H            6.2239    10.3132     8.6428 H             1 RES     \\n      43 H            6.0186     6.9637     5.0431 H             1 RES     \\n      44 H            5.9904    13.7306    11.9208 H             1 RES     \\n      45 H            6.1241    10.4249     1.7375 H             1 RES     \\n      46 H            6.1581     3.5512     8.6638 H             1 RES     \\n      47 H            6.2530     0.0346     5.1282 H             1 RES     \\n      48 H            6.0178     7.0838    11.8804 H             1 RES     \\n      49 H            1.2099     6.9499     1.7375 H             1 RES     \\n      50 H            1.2722     0.0456     8.6631 H             1 RES     \\n      51 H            1.1895    10.4204     5.1618 H             1 RES     \\n      52 H            0.9408     3.5796    11.5655 H             1 RES     \\n      53 H            1.2099    13.8999     1.7375 H             1 RES     \\n      54 H            1.2330     6.9635     8.5922 H             1 RES     \\n      55 H            1.3594     3.5633     5.2095 H             1 RES     \\n      56 H            1.0925    10.4650    11.7116 H             1 RES     \\n      57 H            6.1241     6.9499     1.7375 H             1 RES     \\n      58 H            6.1719    13.8319     8.7616 H             1 RES     \\n      59 H            6.1971    10.3329     5.1322 H             1 RES     \\n      60 H            5.9598     3.3292    11.8620 H             1 RES     \\n      61 H            6.1241    13.8999     1.7375 H             1 RES     \\n      62 H            6.2927     6.8440     8.7486 H             1 RES     \\n      63 H            6.1936     3.4644     5.2272 H             1 RES     \\n      64 H            5.9343    10.3385    11.8109 H             1 RES     \\n      65 He           3.6680     3.4750     1.7375 He            1 RES     \\n      66 He           3.7010    10.3390     8.6215 He            1 RES     \\n      67 He           3.6295     6.8941     5.1786 He            1 RES     \\n      68 He           3.7324     0.0403    12.1686 He            1 RES     \\n      69 He           3.6680    10.4249     1.7375 He            1 RES     \\n      70 He           3.6842     3.5159     8.5904 He            1 RES     \\n      71 He           3.6643     0.0042     5.1542 He            1 RES     \\n      72 He           3.6118     6.8816    12.1605 He            1 RES     \\n      73 He           8.5822     3.4750     1.7375 He            1 RES     \\n      74 He           8.6553    10.3984     8.5621 He            1 RES     \\n      75 He           8.6114     6.9155     5.2565 He            1 RES     \\n      76 He           8.8201    13.8279    12.0093 He            1 RES     \\n      77 He           8.5822    10.4249     1.7375 He            1 RES     \\n      78 He           8.5753     3.4445     8.6515 He            1 RES     \\n      79 He           8.6315    13.8925     5.2201 He            1 RES     \\n      80 He           8.9229     6.9067    12.2081 He            1 RES     \\n      81 He           3.6680     6.9499     1.7375 He            1 RES     \\n      82 He           3.7145    13.8445     8.5880 He            1 RES     \\n      83 He           3.6637    10.4402     5.1379 He            1 RES     \\n      84 He           3.6264     3.3797    11.9592 He            1 RES     \\n      85 He           3.6680    13.8999     1.7375 He            1 RES     \\n      86 He           3.6699     6.8718     8.6567 He            1 RES     \\n      87 He           3.7654     3.4754     5.2000 He            1 RES     \\n      88 He           3.7190    10.3902    11.9118 He            1 RES     \\n      89 He           8.5822     6.9499     1.7375 He            1 RES     \\n      90 He           8.6590     0.0049     8.6988 He            1 RES     \\n      91 He           8.6594    10.3850     5.0961 He            1 RES     \\n      92 He           8.5652     3.6150    12.0500 He            1 RES     \\n      93 He           8.5822    13.8999     1.7375 He            1 RES     \\n      94 He           8.6213     6.8588     8.6066 He            1 RES     \\n      95 He           8.7144     3.4570     5.1578 He            1 RES     \\n      96 He           8.6433    10.3670    11.9877 He            1 RES     \\n      97 He           1.2109     1.7375     0.0000 He            1 RES     \\n      98 He           1.2663     8.6980     6.8740 He            1 RES     \\n      99 He           1.2172     5.2572     3.4443 He            1 RES     \\n     100 He           1.2723    12.2294    10.3900 He            1 RES     \\n     101 He           1.2109     8.6874     0.0000 He            1 RES     \\n     102 He           1.2458     1.7292     6.8652 He            1 RES     \\n     103 He           1.2509    12.1518     3.4237 He            1 RES     \\n     104 He           1.2871     5.2181    10.2586 He            1 RES     \\n     105 He           6.1251     1.7375     0.0000 He            1 RES     \\n     106 He           6.1587     8.6616     6.8554 He            1 RES     \\n     107 He           6.1849     5.1834     3.4885 He            1 RES     \\n     108 He           6.1348    12.1123    10.4024 He            1 RES     \\n     109 He           6.1251     8.6874     0.0000 He            1 RES     \\n     110 He           6.2325     1.6932     6.9053 He            1 RES     \\n     111 He           6.1867    12.1020     3.4341 He            1 RES     \\n     112 He           6.1388     5.2199    10.4678 He            1 RES     \\n     113 He           1.2109     5.2125     0.0000 He            1 RES     \\n     114 He           1.2393    12.1776     6.8570 He            1 RES     \\n     115 He           1.1871     8.7020     3.4286 He            1 RES     \\n     116 He           1.2079     1.7580    10.3266 He            1 RES     \\n     117 He           1.2109    12.1624     0.0000 He            1 RES     \\n     118 He           1.2441     5.1598     6.8871 He            1 RES     \\n     119 He           1.3232     1.7699     3.4486 He            1 RES     \\n     120 He           1.2334     8.6726    10.2620 He            1 RES     \\n     121 He           6.1251     5.2125     0.0000 He            1 RES     \\n     122 He           6.1944    12.1426     6.8856 He            1 RES     \\n     123 He           6.1537     8.6054     3.4640 He            1 RES     \\n     124 He           6.1775     1.6650    10.3882 He            1 RES     \\n     125 He           6.1251    12.1624     0.0000 He            1 RES     \\n     126 He           6.2407     5.2315     6.9378 He            1 RES     \\n     127 He           6.2429     1.7606     3.4692 He            1 RES     \\n     128 He           6.1172     8.6333    10.4624 He            1 RES     \\n     129 Li           6.8060     9.4859    16.5681 Li            1 RES     \\n     130 Li           3.8821     0.0064    18.3845 Li            1 RES     \\n     131 Li           0.0060     0.0093    14.1870 Li            1 RES     \\n     132 Li           7.9848     1.3578    15.9516 Li            1 RES     \\n     133 Li           7.9953     5.5723    14.3525 Li            1 RES     \\n     134 Li           7.9851    10.1059    13.9228 Li            1 RES     \\n     135 Li           7.9987     1.9700    13.9144 Li            1 RES     \\n     136 Li           6.1022     1.8474    16.0891 Li            1 RES     \\n     137 Li           6.7122     9.0758    13.9114 Li            1 RES     \\n     138 Li           3.1264     0.0106    16.6541 Li            1 RES     \\n     139 Li           7.9839     8.9389    18.3980 Li            1 RES     \\n     140 Li           3.2401     3.3859    18.3925 Li            1 RES     \\n     141 Li           0.0055     2.0162    13.9140 Li            1 RES     \\n     142 Li           1.7735     9.4088    13.9148 Li            1 RES     \\n     143 Li           7.8641    11.8699    18.3872 Li            1 RES     \\n     144 Li           7.9977    11.9913    13.9112 Li            1 RES     \\n     145 Li           0.0002    11.1902    17.4363 Li            1 RES     \\n     146 Li           4.1955    11.0684    13.8999 Li            1 RES     \\n     147 Li           2.2248     7.7110    15.8046 Li            1 RES     \\n     148 Li           3.5048     4.8745    13.8981 Li            1 RES     \\n     149 Li           0.5130     6.5388    13.9018 Li            1 RES     \\n     150 Li           0.0029    -0.0006    17.9145 Li            1 RES     \\n     151 Li           7.9812    -0.0016    14.8596 Li            1 RES     \\n     152 Li           2.9958    -0.0014    13.8991 Li            1 RES     \\n     153 Li           3.6837    11.3862    18.3997 Li            1 RES     \\n     154 Li          -0.0000    12.0003    13.9023 Li            1 RES     \\n     155 Li           7.9656     4.7106    18.4004 Li            1 RES     \\n     156 Li           0.5245     3.0095    15.6707 Li            1 RES     \\n     157 Li          -0.0002     5.3353    18.4015 Li            1 RES     \\n     158 Li           7.9999     0.8319    18.3994 Li            1 RES     \\n     159 Li           2.9898     8.3810    18.4009 Li            1 RES     \\n     160 Li           7.0991    11.9996    16.6004 Li            1 RES     \\n     161 Be           0.1189    11.1914    18.3990 Be            1 RES     \\n     162 Be           3.9135    11.9964    13.9069 Be            1 RES     \\n     163 Be           1.9345     8.6361    15.8321 Be            1 RES     \\n     164 Be           4.4442     4.7438    14.1013 Be            1 RES     \\n     165 Be          -0.0001     6.7748    14.6904 Be            1 RES     \\n     166 Be           0.4055     0.7381    18.3974 Be            1 RES     \\n     167 Be           8.0002     0.1427    13.9006 Be            1 RES     \\n     168 Be           3.9481     0.1621    13.9839 Be            1 RES     \\n     169 Be           2.9267    11.9925    18.3859 Be            1 RES     \\n     170 Be           0.0300    11.5779    14.7750 Be            1 RES     \\n     171 Be           7.3006     5.4161    18.3678 Be            1 RES     \\n     172 Be           1.1776     2.3209    15.4704 Be            1 RES     \\n     173 Be           0.0562     6.2769    18.1754 Be            1 RES     \\n     174 Be           7.9219     0.0008    17.9054 Be            1 RES     \\n     175 Be           3.9524     8.2858    18.3292 Be            1 RES     \\n     176 Be           7.9992    11.6389    16.5730 Be            1 RES     \\n@<TRIPOS>BOND\\n@<TRIPOS>SUBSTRUCTURE\\n       1 RES             1 RESIDUE    0 **** ROOT      0\\n\",\"mol2\");\n\tviewer_15755789903307421.setStyle({\"stick\": {\"radius\": 0.2, \"color\": \"grey\"}, \"sphere\": {\"scale\": 0.3, \"colorscheme\": {}}});\n\tviewer_15755789903307421.zoomTo();\nviewer_15755789903307421.render();\n});\n</script>",
      "text/html": [
       "<div id=\"3dmolviewer_15755789903307421\"  style=\"position: relative; width: 640px; height: 480px\">\n",
       "        <p id=\"3dmolwarning_15755789903307421\" style=\"background-color:#ffcccc;color:black\">You appear to be running in JupyterLab (or JavaScript failed to load for some other reason).  You need to install the 3dmol extension: <br>\n",
       "        <tt>jupyter labextension install jupyterlab_3dmol</tt></p>\n",
       "        </div>\n",
       "<script>\n",
       "\n",
       "var loadScriptAsync = function(uri){\n",
       "  return new Promise((resolve, reject) => {\n",
       "    var tag = document.createElement('script');\n",
       "    tag.src = uri;\n",
       "    tag.async = true;\n",
       "    tag.onload = () => {\n",
       "      resolve();\n",
       "    };\n",
       "  var firstScriptTag = document.getElementsByTagName('script')[0];\n",
       "  firstScriptTag.parentNode.insertBefore(tag, firstScriptTag);\n",
       "});\n",
       "};\n",
       "\n",
       "if(typeof $3Dmolpromise === 'undefined') {\n",
       "$3Dmolpromise = null;\n",
       "  $3Dmolpromise = loadScriptAsync('https://3dmol.csb.pitt.edu/build/3Dmol.js');\n",
       "}\n",
       "\n",
       "var viewer_15755789903307421 = null;\n",
       "var warn = document.getElementById(\"3dmolwarning_15755789903307421\");\n",
       "if(warn) {\n",
       "    warn.parentNode.removeChild(warn);\n",
       "}\n",
       "$3Dmolpromise.then(function() {\n",
       "viewer_15755789903307421 = $3Dmol.createViewer($(\"#3dmolviewer_15755789903307421\"),{backgroundColor:\"white\"});\n",
       "\tviewer_15755789903307421.addModel(\"@<TRIPOS>MOLECULE\\nRES\\n176 0 1 0 1\\nSMALL\\nNO_CHARGES\\n@<TRIPOS>CRYSIN\\n   13.9231    18.9015    23.4015    90.0000    90.0000    90.0000  1  1\\n@<TRIPOS>ATOM\\n       1 H            3.6690     5.2125     0.0000 H             1 RES     \\n       2 H            3.7400    12.0771     6.8332 H             1 RES     \\n       3 H            3.6730     8.5841     3.4802 H             1 RES     \\n       4 H            3.7080     1.6242    10.3642 H             1 RES     \\n       5 H            3.6690    12.1624     0.0000 H             1 RES     \\n       6 H            3.7036     5.1934     6.9043 H             1 RES     \\n       7 H            3.7644     1.7733     3.4764 H             1 RES     \\n       8 H            3.7546     8.5443    10.5915 H             1 RES     \\n       9 H            8.5832     5.2125     0.0000 H             1 RES     \\n      10 H            8.5151    12.1757     6.8866 H             1 RES     \\n      11 H            8.6163     8.6731     3.4782 H             1 RES     \\n      12 H            8.5379     1.6964    10.4688 H             1 RES     \\n      13 H            8.5832    12.1624     0.0000 H             1 RES     \\n      14 H            8.6928     5.1782     6.8386 H             1 RES     \\n      15 H            8.6678     1.6095     3.3873 H             1 RES     \\n      16 H            8.5707     8.6376    10.3026 H             1 RES     \\n      17 H            3.6690     1.7375     0.0000 H             1 RES     \\n      18 H            3.7286     8.6230     6.8725 H             1 RES     \\n      19 H            3.6814     5.1903     3.4851 H             1 RES     \\n      20 H            3.8306    12.2273    10.4446 H             1 RES     \\n      21 H            3.6690     8.6874     0.0000 H             1 RES     \\n      22 H            3.7491     1.7618     6.8883 H             1 RES     \\n      23 H            3.7772    12.1328     3.4663 H             1 RES     \\n      24 H            3.6765     5.0416    10.4388 H             1 RES     \\n      25 H            8.5832     1.7375     0.0000 H             1 RES     \\n      26 H            8.6148     8.6616     6.8434 H             1 RES     \\n      27 H            8.6156     5.2264     3.4972 H             1 RES     \\n      28 H            8.5247    12.0869    10.3162 H             1 RES     \\n      29 H            8.5832     8.6874     0.0000 H             1 RES     \\n      30 H            8.6137     1.7927     6.7988 H             1 RES     \\n      31 H            8.6246    12.1963     3.6165 H             1 RES     \\n      32 H            8.6669     5.2696    10.4820 H             1 RES     \\n      33 H            1.2099     3.4750     1.7375 H             1 RES     \\n      34 H            1.3235    10.3128     8.7241 H             1 RES     \\n      35 H            1.1466     6.9876     5.2616 H             1 RES     \\n      36 H            1.4947     0.0656    11.9917 H             1 RES     \\n      37 H            1.2099    10.4249     1.7375 H             1 RES     \\n      38 H            1.1502     3.4202     8.5462 H             1 RES     \\n      39 H            1.2850    13.8512     5.1180 H             1 RES     \\n      40 H            1.3132     6.9432    11.8871 H             1 RES     \\n      41 H            6.1241     3.4750     1.7375 H             1 RES     \\n      42 H            6.2239    10.3132     8.6428 H             1 RES     \\n      43 H            6.0186     6.9637     5.0431 H             1 RES     \\n      44 H            5.9904    13.7306    11.9208 H             1 RES     \\n      45 H            6.1241    10.4249     1.7375 H             1 RES     \\n      46 H            6.1581     3.5512     8.6638 H             1 RES     \\n      47 H            6.2530     0.0346     5.1282 H             1 RES     \\n      48 H            6.0178     7.0838    11.8804 H             1 RES     \\n      49 H            1.2099     6.9499     1.7375 H             1 RES     \\n      50 H            1.2722     0.0456     8.6631 H             1 RES     \\n      51 H            1.1895    10.4204     5.1618 H             1 RES     \\n      52 H            0.9408     3.5796    11.5655 H             1 RES     \\n      53 H            1.2099    13.8999     1.7375 H             1 RES     \\n      54 H            1.2330     6.9635     8.5922 H             1 RES     \\n      55 H            1.3594     3.5633     5.2095 H             1 RES     \\n      56 H            1.0925    10.4650    11.7116 H             1 RES     \\n      57 H            6.1241     6.9499     1.7375 H             1 RES     \\n      58 H            6.1719    13.8319     8.7616 H             1 RES     \\n      59 H            6.1971    10.3329     5.1322 H             1 RES     \\n      60 H            5.9598     3.3292    11.8620 H             1 RES     \\n      61 H            6.1241    13.8999     1.7375 H             1 RES     \\n      62 H            6.2927     6.8440     8.7486 H             1 RES     \\n      63 H            6.1936     3.4644     5.2272 H             1 RES     \\n      64 H            5.9343    10.3385    11.8109 H             1 RES     \\n      65 He           3.6680     3.4750     1.7375 He            1 RES     \\n      66 He           3.7010    10.3390     8.6215 He            1 RES     \\n      67 He           3.6295     6.8941     5.1786 He            1 RES     \\n      68 He           3.7324     0.0403    12.1686 He            1 RES     \\n      69 He           3.6680    10.4249     1.7375 He            1 RES     \\n      70 He           3.6842     3.5159     8.5904 He            1 RES     \\n      71 He           3.6643     0.0042     5.1542 He            1 RES     \\n      72 He           3.6118     6.8816    12.1605 He            1 RES     \\n      73 He           8.5822     3.4750     1.7375 He            1 RES     \\n      74 He           8.6553    10.3984     8.5621 He            1 RES     \\n      75 He           8.6114     6.9155     5.2565 He            1 RES     \\n      76 He           8.8201    13.8279    12.0093 He            1 RES     \\n      77 He           8.5822    10.4249     1.7375 He            1 RES     \\n      78 He           8.5753     3.4445     8.6515 He            1 RES     \\n      79 He           8.6315    13.8925     5.2201 He            1 RES     \\n      80 He           8.9229     6.9067    12.2081 He            1 RES     \\n      81 He           3.6680     6.9499     1.7375 He            1 RES     \\n      82 He           3.7145    13.8445     8.5880 He            1 RES     \\n      83 He           3.6637    10.4402     5.1379 He            1 RES     \\n      84 He           3.6264     3.3797    11.9592 He            1 RES     \\n      85 He           3.6680    13.8999     1.7375 He            1 RES     \\n      86 He           3.6699     6.8718     8.6567 He            1 RES     \\n      87 He           3.7654     3.4754     5.2000 He            1 RES     \\n      88 He           3.7190    10.3902    11.9118 He            1 RES     \\n      89 He           8.5822     6.9499     1.7375 He            1 RES     \\n      90 He           8.6590     0.0049     8.6988 He            1 RES     \\n      91 He           8.6594    10.3850     5.0961 He            1 RES     \\n      92 He           8.5652     3.6150    12.0500 He            1 RES     \\n      93 He           8.5822    13.8999     1.7375 He            1 RES     \\n      94 He           8.6213     6.8588     8.6066 He            1 RES     \\n      95 He           8.7144     3.4570     5.1578 He            1 RES     \\n      96 He           8.6433    10.3670    11.9877 He            1 RES     \\n      97 He           1.2109     1.7375     0.0000 He            1 RES     \\n      98 He           1.2663     8.6980     6.8740 He            1 RES     \\n      99 He           1.2172     5.2572     3.4443 He            1 RES     \\n     100 He           1.2723    12.2294    10.3900 He            1 RES     \\n     101 He           1.2109     8.6874     0.0000 He            1 RES     \\n     102 He           1.2458     1.7292     6.8652 He            1 RES     \\n     103 He           1.2509    12.1518     3.4237 He            1 RES     \\n     104 He           1.2871     5.2181    10.2586 He            1 RES     \\n     105 He           6.1251     1.7375     0.0000 He            1 RES     \\n     106 He           6.1587     8.6616     6.8554 He            1 RES     \\n     107 He           6.1849     5.1834     3.4885 He            1 RES     \\n     108 He           6.1348    12.1123    10.4024 He            1 RES     \\n     109 He           6.1251     8.6874     0.0000 He            1 RES     \\n     110 He           6.2325     1.6932     6.9053 He            1 RES     \\n     111 He           6.1867    12.1020     3.4341 He            1 RES     \\n     112 He           6.1388     5.2199    10.4678 He            1 RES     \\n     113 He           1.2109     5.2125     0.0000 He            1 RES     \\n     114 He           1.2393    12.1776     6.8570 He            1 RES     \\n     115 He           1.1871     8.7020     3.4286 He            1 RES     \\n     116 He           1.2079     1.7580    10.3266 He            1 RES     \\n     117 He           1.2109    12.1624     0.0000 He            1 RES     \\n     118 He           1.2441     5.1598     6.8871 He            1 RES     \\n     119 He           1.3232     1.7699     3.4486 He            1 RES     \\n     120 He           1.2334     8.6726    10.2620 He            1 RES     \\n     121 He           6.1251     5.2125     0.0000 He            1 RES     \\n     122 He           6.1944    12.1426     6.8856 He            1 RES     \\n     123 He           6.1537     8.6054     3.4640 He            1 RES     \\n     124 He           6.1775     1.6650    10.3882 He            1 RES     \\n     125 He           6.1251    12.1624     0.0000 He            1 RES     \\n     126 He           6.2407     5.2315     6.9378 He            1 RES     \\n     127 He           6.2429     1.7606     3.4692 He            1 RES     \\n     128 He           6.1172     8.6333    10.4624 He            1 RES     \\n     129 Li           6.8060     9.4859    16.5681 Li            1 RES     \\n     130 Li           3.8821     0.0064    18.3845 Li            1 RES     \\n     131 Li           0.0060     0.0093    14.1870 Li            1 RES     \\n     132 Li           7.9848     1.3578    15.9516 Li            1 RES     \\n     133 Li           7.9953     5.5723    14.3525 Li            1 RES     \\n     134 Li           7.9851    10.1059    13.9228 Li            1 RES     \\n     135 Li           7.9987     1.9700    13.9144 Li            1 RES     \\n     136 Li           6.1022     1.8474    16.0891 Li            1 RES     \\n     137 Li           6.7122     9.0758    13.9114 Li            1 RES     \\n     138 Li           3.1264     0.0106    16.6541 Li            1 RES     \\n     139 Li           7.9839     8.9389    18.3980 Li            1 RES     \\n     140 Li           3.2401     3.3859    18.3925 Li            1 RES     \\n     141 Li           0.0055     2.0162    13.9140 Li            1 RES     \\n     142 Li           1.7735     9.4088    13.9148 Li            1 RES     \\n     143 Li           7.8641    11.8699    18.3872 Li            1 RES     \\n     144 Li           7.9977    11.9913    13.9112 Li            1 RES     \\n     145 Li           0.0002    11.1902    17.4363 Li            1 RES     \\n     146 Li           4.1955    11.0684    13.8999 Li            1 RES     \\n     147 Li           2.2248     7.7110    15.8046 Li            1 RES     \\n     148 Li           3.5048     4.8745    13.8981 Li            1 RES     \\n     149 Li           0.5130     6.5388    13.9018 Li            1 RES     \\n     150 Li           0.0029    -0.0006    17.9145 Li            1 RES     \\n     151 Li           7.9812    -0.0016    14.8596 Li            1 RES     \\n     152 Li           2.9958    -0.0014    13.8991 Li            1 RES     \\n     153 Li           3.6837    11.3862    18.3997 Li            1 RES     \\n     154 Li          -0.0000    12.0003    13.9023 Li            1 RES     \\n     155 Li           7.9656     4.7106    18.4004 Li            1 RES     \\n     156 Li           0.5245     3.0095    15.6707 Li            1 RES     \\n     157 Li          -0.0002     5.3353    18.4015 Li            1 RES     \\n     158 Li           7.9999     0.8319    18.3994 Li            1 RES     \\n     159 Li           2.9898     8.3810    18.4009 Li            1 RES     \\n     160 Li           7.0991    11.9996    16.6004 Li            1 RES     \\n     161 Be           0.1189    11.1914    18.3990 Be            1 RES     \\n     162 Be           3.9135    11.9964    13.9069 Be            1 RES     \\n     163 Be           1.9345     8.6361    15.8321 Be            1 RES     \\n     164 Be           4.4442     4.7438    14.1013 Be            1 RES     \\n     165 Be          -0.0001     6.7748    14.6904 Be            1 RES     \\n     166 Be           0.4055     0.7381    18.3974 Be            1 RES     \\n     167 Be           8.0002     0.1427    13.9006 Be            1 RES     \\n     168 Be           3.9481     0.1621    13.9839 Be            1 RES     \\n     169 Be           2.9267    11.9925    18.3859 Be            1 RES     \\n     170 Be           0.0300    11.5779    14.7750 Be            1 RES     \\n     171 Be           7.3006     5.4161    18.3678 Be            1 RES     \\n     172 Be           1.1776     2.3209    15.4704 Be            1 RES     \\n     173 Be           0.0562     6.2769    18.1754 Be            1 RES     \\n     174 Be           7.9219     0.0008    17.9054 Be            1 RES     \\n     175 Be           3.9524     8.2858    18.3292 Be            1 RES     \\n     176 Be           7.9992    11.6389    16.5730 Be            1 RES     \\n@<TRIPOS>BOND\\n@<TRIPOS>SUBSTRUCTURE\\n       1 RES             1 RESIDUE    0 **** ROOT      0\\n\",\"mol2\");\n",
       "\tviewer_15755789903307421.setStyle({\"stick\": {\"radius\": 0.2, \"color\": \"grey\"}, \"sphere\": {\"scale\": 0.3, \"colorscheme\": {}}});\n",
       "\tviewer_15755789903307421.zoomTo();\n",
       "viewer_15755789903307421.render();\n",
       "});\n",
       "</script>"
      ]
     },
     "metadata": {},
     "output_type": "display_data"
    },
    {
     "data": {
      "text/plain": [
       "<py3Dmol.view at 0x11e1418e0>"
      ]
     },
     "execution_count": 63,
     "metadata": {},
     "output_type": "execute_result"
    }
   ],
   "source": [
    "output = mb.load(\"POSCAR.xyz\")\n",
    "output.visualize()"
   ]
  },
  {
   "cell_type": "code",
   "execution_count": 64,
   "metadata": {},
   "outputs": [
    {
     "name": "stdout",
     "output_type": "stream",
     "text": [
      " # UN_100\r\n",
      "1.000000\r\n",
      "      9.82849979        0.00000000        0.00000000\r\n",
      "      0.00000000       13.89990044        0.00000000\r\n",
      "      0.00000000        0.00000000       48.89988093\r\n",
      "    64      64      32      16\r\n",
      "Selective dynamics\r\n",
      "Cartesian\r\n",
      "      3.66897884        5.21246266        0.00000000 F F F\r\n",
      "      3.74004525       12.07706365        6.83322295 T T T\r\n"
     ]
    }
   ],
   "source": [
    "!head POSCAR"
   ]
  },
  {
   "cell_type": "code",
   "execution_count": 65,
   "metadata": {},
   "outputs": [
    {
     "name": "stdout",
     "output_type": "stream",
     "text": [
      " # UN_100\r\n",
      "1.000000\r\n",
      "      9.82849979        0.00000000        0.00000000\r\n",
      "      0.00000000       13.89990044        0.00000000\r\n",
      "      0.00000000        0.00000000       48.89988093\r\n",
      "N U H O \r\n",
      "    64      64      32      16\r\n",
      "Selective dynamics\r\n",
      "Cartesian\r\n",
      "      3.66897884        5.21246266        0.00000000 F F F\r\n"
     ]
    }
   ],
   "source": [
    "!sed -i '' '6i\\ '$'\\n N U H O '$'\\n ' POSCAR\n",
    "!head POSCAR"
   ]
  },
  {
   "cell_type": "code",
   "execution_count": null,
   "metadata": {},
   "outputs": [],
   "source": []
  }
 ],
 "metadata": {
  "kernelspec": {
   "display_name": "Python 3",
   "language": "python",
   "name": "python3"
  },
  "language_info": {
   "codemirror_mode": {
    "name": "ipython",
    "version": 3
   },
   "file_extension": ".py",
   "mimetype": "text/x-python",
   "name": "python",
   "nbconvert_exporter": "python",
   "pygments_lexer": "ipython3",
   "version": "3.8.0"
  }
 },
 "nbformat": 4,
 "nbformat_minor": 4
}
