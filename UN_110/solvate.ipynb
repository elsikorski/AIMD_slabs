{
 "cells": [
  {
   "cell_type": "code",
   "execution_count": 1,
   "metadata": {
    "jupyter": {
     "outputs_hidden": false
    }
   },
   "outputs": [],
   "source": [
    "# Run me\n",
    "\n",
    "from __future__ import print_function\n",
    "\n",
    "import mbuild as mb\n",
    "from mbuild.lib.moieties import H2O\n",
    "from mbuild.examples import Ethane\n",
    "\n",
    "\n",
    "ethane = Ethane()\n",
    "water = H2O()\n",
    "\n",
    "\n",
    "from mbuild.formats.vasp import write_poscar\n",
    "\n",
    "class O2(mb.Compound):\n",
    "    def __init__(self):\n",
    "        super(O2, self).__init__()\n",
    "        oxygen = mb.Particle(name='O')\n",
    "        self.add(oxygen)\n",
    "\n",
    "       \n",
    "        self.add(mb.Particle(name='O', pos=[0, 0, 0.12]))\n",
    "\n",
    "        self.add_bond((self[0], self[1]))\n",
    "        \n",
    "o2 = O2()"
   ]
  },
  {
   "cell_type": "code",
   "execution_count": 4,
   "metadata": {},
   "outputs": [
    {
     "data": {
      "application/3dmoljs_load.v0": "<div id=\"3dmolviewer_15747314744798012\"  style=\"position: relative; width: 640px; height: 480px\">\n        <p id=\"3dmolwarning_15747314744798012\" style=\"background-color:#ffcccc;color:black\">You appear to be running in JupyterLab (or JavaScript failed to load for some other reason).  You need to install the 3dmol extension: <br>\n        <tt>jupyter labextension install jupyterlab_3dmol</tt></p>\n        </div>\n<script>\n\nvar loadScriptAsync = function(uri){\n  return new Promise((resolve, reject) => {\n    var tag = document.createElement('script');\n    tag.src = uri;\n    tag.async = true;\n    tag.onload = () => {\n      resolve();\n    };\n  var firstScriptTag = document.getElementsByTagName('script')[0];\n  firstScriptTag.parentNode.insertBefore(tag, firstScriptTag);\n});\n};\n\nif(typeof $3Dmolpromise === 'undefined') {\n$3Dmolpromise = null;\n  $3Dmolpromise = loadScriptAsync('https://3dmol.csb.pitt.edu/build/3Dmol.js');\n}\n\nvar viewer_15747314744798012 = null;\nvar warn = document.getElementById(\"3dmolwarning_15747314744798012\");\nif(warn) {\n    warn.parentNode.removeChild(warn);\n}\n$3Dmolpromise.then(function() {\nviewer_15747314744798012 = $3Dmol.createViewer($(\"#3dmolviewer_15747314744798012\"),{backgroundColor:\"white\"});\n\tviewer_15747314744798012.addModel(\"@<TRIPOS>MOLECULE\\nRES\\n25 15 1 0 1\\nSMALL\\nNO_CHARGES\\n@<TRIPOS>CRYSIN\\n   11.0000    11.0000     5.0000    90.0000    90.0000    90.0000  1  1\\n@<TRIPOS>ATOM\\n       1 O            5.6108     4.4431    -0.0340 O             1 RES     \\n       2 O            6.6504     5.0424    -0.0343 O             1 RES     \\n       3 O            4.9897    10.0095    -0.0159 O             1 RES     \\n       4 O            6.1896    10.0209    -0.0217 O             1 RES     \\n       5 O           -0.0139    10.0084     1.1927 O             1 RES     \\n       6 O           -0.0102    10.0172    -0.0073 O             1 RES     \\n       7 O            9.1391    10.0234     4.0157 O             1 RES     \\n       8 O           10.0161    10.0349     3.1967 O             1 RES     \\n       9 O           -0.0170     5.0179     0.0655 O             1 RES     \\n      10 O            0.6297     4.0107    -0.0196 O             1 RES     \\n      11 O            9.4492     4.2752     4.0366 O             1 RES     \\n      12 H           10.0392     3.4689     4.0628 H             1 RES     \\n      13 H           10.0131     5.1006     4.0027 H             1 RES     \\n      14 O            3.6693     6.6461     4.0127 O             1 RES     \\n      15 H            2.9044     6.0030     4.0019 H             1 RES     \\n      16 H            3.3181     7.5826     4.0231 H             1 RES     \\n      17 O            0.3750     0.2598     3.7256 O             1 RES     \\n      18 H           -0.0324    -0.0239     2.8582 H             1 RES     \\n      19 H           -0.0257     1.1297     4.0140 H             1 RES     \\n      20 O            5.8231     0.7812     4.0535 O             1 RES     \\n      21 H            5.3660    -0.0305     3.6916 H             1 RES     \\n      22 H            5.1937     1.5581     4.0281 H             1 RES     \\n      23 O            9.5885     0.6412    -0.0356 O             1 RES     \\n      24 H           10.0437    -0.0560     0.5170 H             1 RES     \\n      25 H            8.6094     0.4425    -0.0838 H             1 RES     \\n@<TRIPOS>BOND\\n       1        7        8 1\\n       2       23       24 1\\n       3        5        6 1\\n       4       20       22 1\\n       5        9       10 1\\n       6       11       12 1\\n       7       23       25 1\\n       8       17       19 1\\n       9       11       13 1\\n      10        1        2 1\\n      11       17       18 1\\n      12       14       15 1\\n      13        3        4 1\\n      14       20       21 1\\n      15       14       16 1\\n@<TRIPOS>SUBSTRUCTURE\\n       1 RES             1 RESIDUE    0 **** ROOT      0\\n\",\"mol2\");\n\tviewer_15747314744798012.setStyle({\"stick\": {\"radius\": 0.2, \"color\": \"grey\"}, \"sphere\": {\"scale\": 0.3, \"colorscheme\": {}}});\n\tviewer_15747314744798012.zoomTo();\nviewer_15747314744798012.render();\n});\n</script>",
      "text/html": [
       "<div id=\"3dmolviewer_15747314744798012\"  style=\"position: relative; width: 640px; height: 480px\">\n",
       "        <p id=\"3dmolwarning_15747314744798012\" style=\"background-color:#ffcccc;color:black\">You appear to be running in JupyterLab (or JavaScript failed to load for some other reason).  You need to install the 3dmol extension: <br>\n",
       "        <tt>jupyter labextension install jupyterlab_3dmol</tt></p>\n",
       "        </div>\n",
       "<script>\n",
       "\n",
       "var loadScriptAsync = function(uri){\n",
       "  return new Promise((resolve, reject) => {\n",
       "    var tag = document.createElement('script');\n",
       "    tag.src = uri;\n",
       "    tag.async = true;\n",
       "    tag.onload = () => {\n",
       "      resolve();\n",
       "    };\n",
       "  var firstScriptTag = document.getElementsByTagName('script')[0];\n",
       "  firstScriptTag.parentNode.insertBefore(tag, firstScriptTag);\n",
       "});\n",
       "};\n",
       "\n",
       "if(typeof $3Dmolpromise === 'undefined') {\n",
       "$3Dmolpromise = null;\n",
       "  $3Dmolpromise = loadScriptAsync('https://3dmol.csb.pitt.edu/build/3Dmol.js');\n",
       "}\n",
       "\n",
       "var viewer_15747314744798012 = null;\n",
       "var warn = document.getElementById(\"3dmolwarning_15747314744798012\");\n",
       "if(warn) {\n",
       "    warn.parentNode.removeChild(warn);\n",
       "}\n",
       "$3Dmolpromise.then(function() {\n",
       "viewer_15747314744798012 = $3Dmol.createViewer($(\"#3dmolviewer_15747314744798012\"),{backgroundColor:\"white\"});\n",
       "\tviewer_15747314744798012.addModel(\"@<TRIPOS>MOLECULE\\nRES\\n25 15 1 0 1\\nSMALL\\nNO_CHARGES\\n@<TRIPOS>CRYSIN\\n   11.0000    11.0000     5.0000    90.0000    90.0000    90.0000  1  1\\n@<TRIPOS>ATOM\\n       1 O            5.6108     4.4431    -0.0340 O             1 RES     \\n       2 O            6.6504     5.0424    -0.0343 O             1 RES     \\n       3 O            4.9897    10.0095    -0.0159 O             1 RES     \\n       4 O            6.1896    10.0209    -0.0217 O             1 RES     \\n       5 O           -0.0139    10.0084     1.1927 O             1 RES     \\n       6 O           -0.0102    10.0172    -0.0073 O             1 RES     \\n       7 O            9.1391    10.0234     4.0157 O             1 RES     \\n       8 O           10.0161    10.0349     3.1967 O             1 RES     \\n       9 O           -0.0170     5.0179     0.0655 O             1 RES     \\n      10 O            0.6297     4.0107    -0.0196 O             1 RES     \\n      11 O            9.4492     4.2752     4.0366 O             1 RES     \\n      12 H           10.0392     3.4689     4.0628 H             1 RES     \\n      13 H           10.0131     5.1006     4.0027 H             1 RES     \\n      14 O            3.6693     6.6461     4.0127 O             1 RES     \\n      15 H            2.9044     6.0030     4.0019 H             1 RES     \\n      16 H            3.3181     7.5826     4.0231 H             1 RES     \\n      17 O            0.3750     0.2598     3.7256 O             1 RES     \\n      18 H           -0.0324    -0.0239     2.8582 H             1 RES     \\n      19 H           -0.0257     1.1297     4.0140 H             1 RES     \\n      20 O            5.8231     0.7812     4.0535 O             1 RES     \\n      21 H            5.3660    -0.0305     3.6916 H             1 RES     \\n      22 H            5.1937     1.5581     4.0281 H             1 RES     \\n      23 O            9.5885     0.6412    -0.0356 O             1 RES     \\n      24 H           10.0437    -0.0560     0.5170 H             1 RES     \\n      25 H            8.6094     0.4425    -0.0838 H             1 RES     \\n@<TRIPOS>BOND\\n       1        7        8 1\\n       2       23       24 1\\n       3        5        6 1\\n       4       20       22 1\\n       5        9       10 1\\n       6       11       12 1\\n       7       23       25 1\\n       8       17       19 1\\n       9       11       13 1\\n      10        1        2 1\\n      11       17       18 1\\n      12       14       15 1\\n      13        3        4 1\\n      14       20       21 1\\n      15       14       16 1\\n@<TRIPOS>SUBSTRUCTURE\\n       1 RES             1 RESIDUE    0 **** ROOT      0\\n\",\"mol2\");\n",
       "\tviewer_15747314744798012.setStyle({\"stick\": {\"radius\": 0.2, \"color\": \"grey\"}, \"sphere\": {\"scale\": 0.3, \"colorscheme\": {}}});\n",
       "\tviewer_15747314744798012.zoomTo();\n",
       "viewer_15747314744798012.render();\n",
       "});\n",
       "</script>"
      ]
     },
     "metadata": {},
     "output_type": "display_data"
    },
    {
     "data": {
      "text/plain": [
       "<py3Dmol.view at 0x11a1ea040>"
      ]
     },
     "execution_count": 4,
     "metadata": {},
     "output_type": "execute_result"
    }
   ],
   "source": [
    "solvate_box = [1.1,1.1,0.5]\n",
    "\n",
    "solvate_test = mb.packing.fill_box(compound=[o2, water], n_compounds=[5,5], box= solvate_box, density=None, \n",
    "                    overlap=0.5, seed=12345, edge=0.1)\n",
    "\n",
    "solvate_test.visualize()"
   ]
  },
  {
   "cell_type": "code",
   "execution_count": 122,
   "metadata": {},
   "outputs": [
    {
     "name": "stdout",
     "output_type": "stream",
     "text": [
      "heck\n"
     ]
    }
   ],
   "source": [
    "write_poscar(solvate_test, \"POSCAR\",1,bravais=[[9.82850,0,0],\n",
    "    [0,13.89990,0],[0,0,10]], coord='cartesian')\n"
   ]
  },
  {
   "cell_type": "code",
   "execution_count": 123,
   "metadata": {},
   "outputs": [
    {
     "name": "stdout",
     "output_type": "stream",
     "text": [
      "  _________________________________________\r\n",
      " |      o---o                     O        |\r\n",
      " |     o---o|   _____________     |        |\r\n",
      " |     |   |o    A T O M S K     ,0;-o     |\r\n",
      " |     o---o                   o'   'O     |\r\n",
      " |   Version Beta-0.10.6                   |\r\n",
      " |   (C) 2010 Pierre Hirel                 |\r\n",
      " |_________________________________________|\r\n",
      " >>> Opening the input file: POSCAR\r\n",
      " ..> Input file was read successfully (25 atoms).\r\n",
      " >>> Shifting all atoms by (0.000,0.000,-20.000)\r\n",
      " ..> 25 atoms were shifted.\r\n",
      " >>> Writing output file(s) (25 atoms):\r\n",
      " ..> Successfully wrote POSCAR file: POSCAR\r\n",
      " \\o/ Program terminated successfully!\r\n",
      "     Total time: 0.003 s.; CPU time: 0.003 s.\r\n"
     ]
    }
   ],
   "source": [
    "\n",
    "!atomsk POSCAR -shift 0.0 0.0 -20.0 CONTCAR -ow"
   ]
  },
  {
   "cell_type": "code",
   "execution_count": 124,
   "metadata": {},
   "outputs": [
    {
     "name": "stdout",
     "output_type": "stream",
     "text": [
      "  _________________________________________\r\n",
      " |      o---o                     O        |\r\n",
      " |     o---o|   _____________     |        |\r\n",
      " |     |   |o    A T O M S K     ,0;-o     |\r\n",
      " |     o---o                   o'   'O     |\r\n",
      " |   Version Beta-0.10.6                   |\r\n",
      " |   (C) 2010 Pierre Hirel                 |\r\n",
      " |_________________________________________|\r\n",
      " >>> Concatenating the systems along z...\r\n",
      " >>> Opening the input file: CONTCAR_110slab\r\n",
      " ..> Input file was read successfully (128 atoms).\r\n",
      " >>> Opening the input file: POSCAR\r\n",
      " ..> Input file was read successfully (25 atoms).\r\n",
      " ..> 2 systems were merged.\r\n",
      " >>> Writing output file(s) (153 atoms):\r\n",
      " ..> Successfully wrote POSCAR file: POSCAR\r\n",
      " \\o/ Program terminated successfully!\r\n",
      "     Total time: 0.007 s.; CPU time: 0.007 s.\r\n"
     ]
    }
   ],
   "source": [
    "!atomsk --merge z 2 CONTCAR_110slab POSCAR CONTCAR -ow\n",
    "\n"
   ]
  },
  {
   "cell_type": "code",
   "execution_count": 125,
   "metadata": {},
   "outputs": [
    {
     "name": "stdout",
     "output_type": "stream",
     "text": [
      "  _________________________________________\r\n",
      " |      o---o                     O        |\r\n",
      " |     o---o|   _____________     |        |\r\n",
      " |     |   |o    A T O M S K     ,0;-o     |\r\n",
      " |     o---o                   o'   'O     |\r\n",
      " |   Version Beta-0.10.6                   |\r\n",
      " |   (C) 2010 Pierre Hirel                 |\r\n",
      " |_________________________________________|\r\n",
      " >>> Opening the input file: POSCAR\r\n",
      " ..> Input file was read successfully (153 atoms).\r\n",
      " >>> Writing output file(s) (153 atoms):\r\n",
      " ..> Successfully wrote XYZ file: POSCAR.xyz\r\n",
      " \\o/ Program terminated successfully!\r\n",
      "     Total time: 0.007 s.; CPU time: 0.007 s.\r\n"
     ]
    }
   ],
   "source": [
    "!atomsk POSCAR xyz -ow"
   ]
  },
  {
   "cell_type": "code",
   "execution_count": 126,
   "metadata": {},
   "outputs": [
    {
     "data": {
      "application/3dmoljs_load.v0": "<div id=\"3dmolviewer_15747276731482172\"  style=\"position: relative; width: 640px; height: 480px\">\n        <p id=\"3dmolwarning_15747276731482172\" style=\"background-color:#ffcccc;color:black\">You appear to be running in JupyterLab (or JavaScript failed to load for some other reason).  You need to install the 3dmol extension: <br>\n        <tt>jupyter labextension install jupyterlab_3dmol</tt></p>\n        </div>\n<script>\n\nvar loadScriptAsync = function(uri){\n  return new Promise((resolve, reject) => {\n    var tag = document.createElement('script');\n    tag.src = uri;\n    tag.async = true;\n    tag.onload = () => {\n      resolve();\n    };\n  var firstScriptTag = document.getElementsByTagName('script')[0];\n  firstScriptTag.parentNode.insertBefore(tag, firstScriptTag);\n});\n};\n\nif(typeof $3Dmolpromise === 'undefined') {\n$3Dmolpromise = null;\n  $3Dmolpromise = loadScriptAsync('https://3dmol.csb.pitt.edu/build/3Dmol.js');\n}\n\nvar viewer_15747276731482172 = null;\nvar warn = document.getElementById(\"3dmolwarning_15747276731482172\");\nif(warn) {\n    warn.parentNode.removeChild(warn);\n}\n$3Dmolpromise.then(function() {\nviewer_15747276731482172 = $3Dmol.createViewer($(\"#3dmolviewer_15747276731482172\"),{backgroundColor:\"white\"});\n\tviewer_15747276731482172.addModel(\"@<TRIPOS>MOLECULE\\nRES\\n153 0 1 0 1\\nSMALL\\nNO_CHARGES\\n@<TRIPOS>CRYSIN\\n   15.0762    18.9559    32.9627    90.0000    90.0000    90.0000  1  1\\n@<TRIPOS>ATOM\\n       1 H            3.6690     5.2125     0.0000 H             1 RES     \\n       2 H            3.7400    12.0771     6.8332 H             1 RES     \\n       3 H            3.6730     8.5841     3.4802 H             1 RES     \\n       4 H            3.7080     1.6242    10.3642 H             1 RES     \\n       5 H            3.6690    12.1624     0.0000 H             1 RES     \\n       6 H            3.7036     5.1934     6.9043 H             1 RES     \\n       7 H            3.7644     1.7733     3.4764 H             1 RES     \\n       8 H            3.7546     8.5443    10.5915 H             1 RES     \\n       9 H            8.5832     5.2125     0.0000 H             1 RES     \\n      10 H            8.5151    12.1757     6.8866 H             1 RES     \\n      11 H            8.6163     8.6731     3.4782 H             1 RES     \\n      12 H            8.5379     1.6964    10.4688 H             1 RES     \\n      13 H            8.5832    12.1624     0.0000 H             1 RES     \\n      14 H            8.6928     5.1782     6.8386 H             1 RES     \\n      15 H            8.6678     1.6095     3.3873 H             1 RES     \\n      16 H            8.5707     8.6376    10.3026 H             1 RES     \\n      17 H            3.6690     1.7375     0.0000 H             1 RES     \\n      18 H            3.7286     8.6230     6.8725 H             1 RES     \\n      19 H            3.6814     5.1903     3.4851 H             1 RES     \\n      20 H            3.8306    12.2273    10.4446 H             1 RES     \\n      21 H            3.6690     8.6874     0.0000 H             1 RES     \\n      22 H            3.7491     1.7618     6.8883 H             1 RES     \\n      23 H            3.7772    12.1328     3.4663 H             1 RES     \\n      24 H            3.6765     5.0416    10.4388 H             1 RES     \\n      25 H            8.5832     1.7375     0.0000 H             1 RES     \\n      26 H            8.6148     8.6616     6.8434 H             1 RES     \\n      27 H            8.6156     5.2264     3.4972 H             1 RES     \\n      28 H            8.5247    12.0869    10.3162 H             1 RES     \\n      29 H            8.5832     8.6874     0.0000 H             1 RES     \\n      30 H            8.6137     1.7927     6.7988 H             1 RES     \\n      31 H            8.6246    12.1963     3.6165 H             1 RES     \\n      32 H            8.6669     5.2696    10.4820 H             1 RES     \\n      33 H            1.2099     3.4750     1.7375 H             1 RES     \\n      34 H            1.3235    10.3128     8.7241 H             1 RES     \\n      35 H            1.1466     6.9876     5.2616 H             1 RES     \\n      36 H            1.4947     0.0656    11.9917 H             1 RES     \\n      37 H            1.2099    10.4249     1.7375 H             1 RES     \\n      38 H            1.1502     3.4202     8.5462 H             1 RES     \\n      39 H            1.2850    13.8512     5.1180 H             1 RES     \\n      40 H            1.3132     6.9432    11.8871 H             1 RES     \\n      41 H            6.1241     3.4750     1.7375 H             1 RES     \\n      42 H            6.2239    10.3132     8.6428 H             1 RES     \\n      43 H            6.0186     6.9637     5.0431 H             1 RES     \\n      44 H            5.9904    13.7306    11.9208 H             1 RES     \\n      45 H            6.1241    10.4249     1.7375 H             1 RES     \\n      46 H            6.1581     3.5512     8.6638 H             1 RES     \\n      47 H            6.2530     0.0346     5.1282 H             1 RES     \\n      48 H            6.0178     7.0838    11.8804 H             1 RES     \\n      49 H            1.2099     6.9499     1.7375 H             1 RES     \\n      50 H            1.2722     0.0456     8.6631 H             1 RES     \\n      51 H            1.1895    10.4204     5.1618 H             1 RES     \\n      52 H            0.9408     3.5796    11.5655 H             1 RES     \\n      53 H            1.2099    13.8999     1.7375 H             1 RES     \\n      54 H            1.2330     6.9635     8.5922 H             1 RES     \\n      55 H            1.3594     3.5633     5.2095 H             1 RES     \\n      56 H            1.0925    10.4650    11.7116 H             1 RES     \\n      57 H            6.1241     6.9499     1.7375 H             1 RES     \\n      58 H            6.1719    13.8319     8.7616 H             1 RES     \\n      59 H            6.1971    10.3329     5.1322 H             1 RES     \\n      60 H            5.9598     3.3292    11.8620 H             1 RES     \\n      61 H            6.1241    13.8999     1.7375 H             1 RES     \\n      62 H            6.2927     6.8440     8.7486 H             1 RES     \\n      63 H            6.1936     3.4644     5.2272 H             1 RES     \\n      64 H            5.9343    10.3385    11.8109 H             1 RES     \\n      65 He           3.6680     3.4750     1.7375 He            1 RES     \\n      66 He           3.7010    10.3390     8.6215 He            1 RES     \\n      67 He           3.6295     6.8941     5.1786 He            1 RES     \\n      68 He           3.7324     0.0403    12.1686 He            1 RES     \\n      69 He           3.6680    10.4249     1.7375 He            1 RES     \\n      70 He           3.6842     3.5159     8.5904 He            1 RES     \\n      71 He           3.6643     0.0042     5.1542 He            1 RES     \\n      72 He           3.6118     6.8816    12.1605 He            1 RES     \\n      73 He           8.5822     3.4750     1.7375 He            1 RES     \\n      74 He           8.6553    10.3984     8.5621 He            1 RES     \\n      75 He           8.6114     6.9155     5.2565 He            1 RES     \\n      76 He           8.8201    13.8279    12.0093 He            1 RES     \\n      77 He           8.5822    10.4249     1.7375 He            1 RES     \\n      78 He           8.5753     3.4445     8.6515 He            1 RES     \\n      79 He           8.6315    13.8925     5.2201 He            1 RES     \\n      80 He           8.9229     6.9067    12.2081 He            1 RES     \\n      81 He           3.6680     6.9499     1.7375 He            1 RES     \\n      82 He           3.7145    13.8445     8.5880 He            1 RES     \\n      83 He           3.6637    10.4402     5.1379 He            1 RES     \\n      84 He           3.6264     3.3797    11.9592 He            1 RES     \\n      85 He           3.6680    13.8999     1.7375 He            1 RES     \\n      86 He           3.6699     6.8718     8.6567 He            1 RES     \\n      87 He           3.7654     3.4754     5.2000 He            1 RES     \\n      88 He           3.7190    10.3902    11.9118 He            1 RES     \\n      89 He           8.5822     6.9499     1.7375 He            1 RES     \\n      90 He           8.6590     0.0049     8.6988 He            1 RES     \\n      91 He           8.6594    10.3850     5.0961 He            1 RES     \\n      92 He           8.5652     3.6150    12.0500 He            1 RES     \\n      93 He           8.5822    13.8999     1.7375 He            1 RES     \\n      94 He           8.6213     6.8588     8.6066 He            1 RES     \\n      95 He           8.7144     3.4570     5.1578 He            1 RES     \\n      96 He           8.6433    10.3670    11.9877 He            1 RES     \\n      97 He           1.2109     1.7375     0.0000 He            1 RES     \\n      98 He           1.2663     8.6980     6.8740 He            1 RES     \\n      99 He           1.2172     5.2572     3.4443 He            1 RES     \\n     100 He           1.2723    12.2294    10.3900 He            1 RES     \\n     101 He           1.2109     8.6874     0.0000 He            1 RES     \\n     102 He           1.2458     1.7292     6.8652 He            1 RES     \\n     103 He           1.2509    12.1518     3.4237 He            1 RES     \\n     104 He           1.2871     5.2181    10.2586 He            1 RES     \\n     105 He           6.1251     1.7375     0.0000 He            1 RES     \\n     106 He           6.1587     8.6616     6.8554 He            1 RES     \\n     107 He           6.1849     5.1834     3.4885 He            1 RES     \\n     108 He           6.1348    12.1123    10.4024 He            1 RES     \\n     109 He           6.1251     8.6874     0.0000 He            1 RES     \\n     110 He           6.2325     1.6932     6.9053 He            1 RES     \\n     111 He           6.1867    12.1020     3.4341 He            1 RES     \\n     112 He           6.1388     5.2199    10.4678 He            1 RES     \\n     113 He           1.2109     5.2125     0.0000 He            1 RES     \\n     114 He           1.2393    12.1776     6.8570 He            1 RES     \\n     115 He           1.1871     8.7020     3.4286 He            1 RES     \\n     116 He           1.2079     1.7580    10.3266 He            1 RES     \\n     117 He           1.2109    12.1624     0.0000 He            1 RES     \\n     118 He           1.2441     5.1598     6.8871 He            1 RES     \\n     119 He           1.3232     1.7699     3.4486 He            1 RES     \\n     120 He           1.2334     8.6726    10.2620 He            1 RES     \\n     121 He           6.1251     5.2125     0.0000 He            1 RES     \\n     122 He           6.1944    12.1426     6.8856 He            1 RES     \\n     123 He           6.1537     8.6054     3.4640 He            1 RES     \\n     124 He           6.1775     1.6650    10.3882 He            1 RES     \\n     125 He           6.1251    12.1624     0.0000 He            1 RES     \\n     126 He           6.2407     5.2315     6.9378 He            1 RES     \\n     127 He           6.2429     1.7606     3.4692 He            1 RES     \\n     128 He           6.1172     8.6333    10.4624 He            1 RES     \\n     129 Li          10.0392     3.4689    27.9627 Li            1 RES     \\n     130 Li          10.0131     5.1006    27.9026 Li            1 RES     \\n     131 Li           2.9044     6.0030    27.9018 Li            1 RES     \\n     132 Li           3.3181     7.5826    27.9230 Li            1 RES     \\n     133 Li          -0.0324    -0.0239    26.7581 Li            1 RES     \\n     134 Li          -0.0257     1.1297    27.9139 Li            1 RES     \\n     135 Li           5.3660    -0.0305    27.5914 Li            1 RES     \\n     136 Li           5.1937     1.5581    27.9280 Li            1 RES     \\n     137 Li          10.0437    -0.0560    24.4169 Li            1 RES     \\n     138 Li           8.6094     0.4425    23.8161 Li            1 RES     \\n     139 Be           5.6108     4.4431    23.8659 Be            1 RES     \\n     140 Be           6.6504     5.0424    23.8655 Be            1 RES     \\n     141 Be           4.9897    10.0095    23.8840 Be            1 RES     \\n     142 Be           6.1896    10.0209    23.8782 Be            1 RES     \\n     143 Be          -0.0139    10.0084    25.0926 Be            1 RES     \\n     144 Be          -0.0102    10.0172    23.8926 Be            1 RES     \\n     145 Be           9.1391    10.0234    27.9156 Be            1 RES     \\n     146 Be          10.0161    10.0349    27.0965 Be            1 RES     \\n     147 Be          -0.0170     5.0179    23.9654 Be            1 RES     \\n     148 Be           0.6297     4.0107    23.8803 Be            1 RES     \\n     149 Be           9.4492     4.2752    27.9365 Be            1 RES     \\n     150 Be           3.6693     6.6461    27.9126 Be            1 RES     \\n     151 Be           0.3750     0.2598    27.6255 Be            1 RES     \\n     152 Be           5.8231     0.7812    27.9534 Be            1 RES     \\n     153 Be           9.5885     0.6412    23.8643 Be            1 RES     \\n@<TRIPOS>BOND\\n@<TRIPOS>SUBSTRUCTURE\\n       1 RES             1 RESIDUE    0 **** ROOT      0\\n\",\"mol2\");\n\tviewer_15747276731482172.setStyle({\"stick\": {\"radius\": 0.2, \"color\": \"grey\"}, \"sphere\": {\"scale\": 0.3, \"colorscheme\": {}}});\n\tviewer_15747276731482172.zoomTo();\nviewer_15747276731482172.render();\n});\n</script>",
      "text/html": [
       "<div id=\"3dmolviewer_15747276731482172\"  style=\"position: relative; width: 640px; height: 480px\">\n",
       "        <p id=\"3dmolwarning_15747276731482172\" style=\"background-color:#ffcccc;color:black\">You appear to be running in JupyterLab (or JavaScript failed to load for some other reason).  You need to install the 3dmol extension: <br>\n",
       "        <tt>jupyter labextension install jupyterlab_3dmol</tt></p>\n",
       "        </div>\n",
       "<script>\n",
       "\n",
       "var loadScriptAsync = function(uri){\n",
       "  return new Promise((resolve, reject) => {\n",
       "    var tag = document.createElement('script');\n",
       "    tag.src = uri;\n",
       "    tag.async = true;\n",
       "    tag.onload = () => {\n",
       "      resolve();\n",
       "    };\n",
       "  var firstScriptTag = document.getElementsByTagName('script')[0];\n",
       "  firstScriptTag.parentNode.insertBefore(tag, firstScriptTag);\n",
       "});\n",
       "};\n",
       "\n",
       "if(typeof $3Dmolpromise === 'undefined') {\n",
       "$3Dmolpromise = null;\n",
       "  $3Dmolpromise = loadScriptAsync('https://3dmol.csb.pitt.edu/build/3Dmol.js');\n",
       "}\n",
       "\n",
       "var viewer_15747276731482172 = null;\n",
       "var warn = document.getElementById(\"3dmolwarning_15747276731482172\");\n",
       "if(warn) {\n",
       "    warn.parentNode.removeChild(warn);\n",
       "}\n",
       "$3Dmolpromise.then(function() {\n",
       "viewer_15747276731482172 = $3Dmol.createViewer($(\"#3dmolviewer_15747276731482172\"),{backgroundColor:\"white\"});\n",
       "\tviewer_15747276731482172.addModel(\"@<TRIPOS>MOLECULE\\nRES\\n153 0 1 0 1\\nSMALL\\nNO_CHARGES\\n@<TRIPOS>CRYSIN\\n   15.0762    18.9559    32.9627    90.0000    90.0000    90.0000  1  1\\n@<TRIPOS>ATOM\\n       1 H            3.6690     5.2125     0.0000 H             1 RES     \\n       2 H            3.7400    12.0771     6.8332 H             1 RES     \\n       3 H            3.6730     8.5841     3.4802 H             1 RES     \\n       4 H            3.7080     1.6242    10.3642 H             1 RES     \\n       5 H            3.6690    12.1624     0.0000 H             1 RES     \\n       6 H            3.7036     5.1934     6.9043 H             1 RES     \\n       7 H            3.7644     1.7733     3.4764 H             1 RES     \\n       8 H            3.7546     8.5443    10.5915 H             1 RES     \\n       9 H            8.5832     5.2125     0.0000 H             1 RES     \\n      10 H            8.5151    12.1757     6.8866 H             1 RES     \\n      11 H            8.6163     8.6731     3.4782 H             1 RES     \\n      12 H            8.5379     1.6964    10.4688 H             1 RES     \\n      13 H            8.5832    12.1624     0.0000 H             1 RES     \\n      14 H            8.6928     5.1782     6.8386 H             1 RES     \\n      15 H            8.6678     1.6095     3.3873 H             1 RES     \\n      16 H            8.5707     8.6376    10.3026 H             1 RES     \\n      17 H            3.6690     1.7375     0.0000 H             1 RES     \\n      18 H            3.7286     8.6230     6.8725 H             1 RES     \\n      19 H            3.6814     5.1903     3.4851 H             1 RES     \\n      20 H            3.8306    12.2273    10.4446 H             1 RES     \\n      21 H            3.6690     8.6874     0.0000 H             1 RES     \\n      22 H            3.7491     1.7618     6.8883 H             1 RES     \\n      23 H            3.7772    12.1328     3.4663 H             1 RES     \\n      24 H            3.6765     5.0416    10.4388 H             1 RES     \\n      25 H            8.5832     1.7375     0.0000 H             1 RES     \\n      26 H            8.6148     8.6616     6.8434 H             1 RES     \\n      27 H            8.6156     5.2264     3.4972 H             1 RES     \\n      28 H            8.5247    12.0869    10.3162 H             1 RES     \\n      29 H            8.5832     8.6874     0.0000 H             1 RES     \\n      30 H            8.6137     1.7927     6.7988 H             1 RES     \\n      31 H            8.6246    12.1963     3.6165 H             1 RES     \\n      32 H            8.6669     5.2696    10.4820 H             1 RES     \\n      33 H            1.2099     3.4750     1.7375 H             1 RES     \\n      34 H            1.3235    10.3128     8.7241 H             1 RES     \\n      35 H            1.1466     6.9876     5.2616 H             1 RES     \\n      36 H            1.4947     0.0656    11.9917 H             1 RES     \\n      37 H            1.2099    10.4249     1.7375 H             1 RES     \\n      38 H            1.1502     3.4202     8.5462 H             1 RES     \\n      39 H            1.2850    13.8512     5.1180 H             1 RES     \\n      40 H            1.3132     6.9432    11.8871 H             1 RES     \\n      41 H            6.1241     3.4750     1.7375 H             1 RES     \\n      42 H            6.2239    10.3132     8.6428 H             1 RES     \\n      43 H            6.0186     6.9637     5.0431 H             1 RES     \\n      44 H            5.9904    13.7306    11.9208 H             1 RES     \\n      45 H            6.1241    10.4249     1.7375 H             1 RES     \\n      46 H            6.1581     3.5512     8.6638 H             1 RES     \\n      47 H            6.2530     0.0346     5.1282 H             1 RES     \\n      48 H            6.0178     7.0838    11.8804 H             1 RES     \\n      49 H            1.2099     6.9499     1.7375 H             1 RES     \\n      50 H            1.2722     0.0456     8.6631 H             1 RES     \\n      51 H            1.1895    10.4204     5.1618 H             1 RES     \\n      52 H            0.9408     3.5796    11.5655 H             1 RES     \\n      53 H            1.2099    13.8999     1.7375 H             1 RES     \\n      54 H            1.2330     6.9635     8.5922 H             1 RES     \\n      55 H            1.3594     3.5633     5.2095 H             1 RES     \\n      56 H            1.0925    10.4650    11.7116 H             1 RES     \\n      57 H            6.1241     6.9499     1.7375 H             1 RES     \\n      58 H            6.1719    13.8319     8.7616 H             1 RES     \\n      59 H            6.1971    10.3329     5.1322 H             1 RES     \\n      60 H            5.9598     3.3292    11.8620 H             1 RES     \\n      61 H            6.1241    13.8999     1.7375 H             1 RES     \\n      62 H            6.2927     6.8440     8.7486 H             1 RES     \\n      63 H            6.1936     3.4644     5.2272 H             1 RES     \\n      64 H            5.9343    10.3385    11.8109 H             1 RES     \\n      65 He           3.6680     3.4750     1.7375 He            1 RES     \\n      66 He           3.7010    10.3390     8.6215 He            1 RES     \\n      67 He           3.6295     6.8941     5.1786 He            1 RES     \\n      68 He           3.7324     0.0403    12.1686 He            1 RES     \\n      69 He           3.6680    10.4249     1.7375 He            1 RES     \\n      70 He           3.6842     3.5159     8.5904 He            1 RES     \\n      71 He           3.6643     0.0042     5.1542 He            1 RES     \\n      72 He           3.6118     6.8816    12.1605 He            1 RES     \\n      73 He           8.5822     3.4750     1.7375 He            1 RES     \\n      74 He           8.6553    10.3984     8.5621 He            1 RES     \\n      75 He           8.6114     6.9155     5.2565 He            1 RES     \\n      76 He           8.8201    13.8279    12.0093 He            1 RES     \\n      77 He           8.5822    10.4249     1.7375 He            1 RES     \\n      78 He           8.5753     3.4445     8.6515 He            1 RES     \\n      79 He           8.6315    13.8925     5.2201 He            1 RES     \\n      80 He           8.9229     6.9067    12.2081 He            1 RES     \\n      81 He           3.6680     6.9499     1.7375 He            1 RES     \\n      82 He           3.7145    13.8445     8.5880 He            1 RES     \\n      83 He           3.6637    10.4402     5.1379 He            1 RES     \\n      84 He           3.6264     3.3797    11.9592 He            1 RES     \\n      85 He           3.6680    13.8999     1.7375 He            1 RES     \\n      86 He           3.6699     6.8718     8.6567 He            1 RES     \\n      87 He           3.7654     3.4754     5.2000 He            1 RES     \\n      88 He           3.7190    10.3902    11.9118 He            1 RES     \\n      89 He           8.5822     6.9499     1.7375 He            1 RES     \\n      90 He           8.6590     0.0049     8.6988 He            1 RES     \\n      91 He           8.6594    10.3850     5.0961 He            1 RES     \\n      92 He           8.5652     3.6150    12.0500 He            1 RES     \\n      93 He           8.5822    13.8999     1.7375 He            1 RES     \\n      94 He           8.6213     6.8588     8.6066 He            1 RES     \\n      95 He           8.7144     3.4570     5.1578 He            1 RES     \\n      96 He           8.6433    10.3670    11.9877 He            1 RES     \\n      97 He           1.2109     1.7375     0.0000 He            1 RES     \\n      98 He           1.2663     8.6980     6.8740 He            1 RES     \\n      99 He           1.2172     5.2572     3.4443 He            1 RES     \\n     100 He           1.2723    12.2294    10.3900 He            1 RES     \\n     101 He           1.2109     8.6874     0.0000 He            1 RES     \\n     102 He           1.2458     1.7292     6.8652 He            1 RES     \\n     103 He           1.2509    12.1518     3.4237 He            1 RES     \\n     104 He           1.2871     5.2181    10.2586 He            1 RES     \\n     105 He           6.1251     1.7375     0.0000 He            1 RES     \\n     106 He           6.1587     8.6616     6.8554 He            1 RES     \\n     107 He           6.1849     5.1834     3.4885 He            1 RES     \\n     108 He           6.1348    12.1123    10.4024 He            1 RES     \\n     109 He           6.1251     8.6874     0.0000 He            1 RES     \\n     110 He           6.2325     1.6932     6.9053 He            1 RES     \\n     111 He           6.1867    12.1020     3.4341 He            1 RES     \\n     112 He           6.1388     5.2199    10.4678 He            1 RES     \\n     113 He           1.2109     5.2125     0.0000 He            1 RES     \\n     114 He           1.2393    12.1776     6.8570 He            1 RES     \\n     115 He           1.1871     8.7020     3.4286 He            1 RES     \\n     116 He           1.2079     1.7580    10.3266 He            1 RES     \\n     117 He           1.2109    12.1624     0.0000 He            1 RES     \\n     118 He           1.2441     5.1598     6.8871 He            1 RES     \\n     119 He           1.3232     1.7699     3.4486 He            1 RES     \\n     120 He           1.2334     8.6726    10.2620 He            1 RES     \\n     121 He           6.1251     5.2125     0.0000 He            1 RES     \\n     122 He           6.1944    12.1426     6.8856 He            1 RES     \\n     123 He           6.1537     8.6054     3.4640 He            1 RES     \\n     124 He           6.1775     1.6650    10.3882 He            1 RES     \\n     125 He           6.1251    12.1624     0.0000 He            1 RES     \\n     126 He           6.2407     5.2315     6.9378 He            1 RES     \\n     127 He           6.2429     1.7606     3.4692 He            1 RES     \\n     128 He           6.1172     8.6333    10.4624 He            1 RES     \\n     129 Li          10.0392     3.4689    27.9627 Li            1 RES     \\n     130 Li          10.0131     5.1006    27.9026 Li            1 RES     \\n     131 Li           2.9044     6.0030    27.9018 Li            1 RES     \\n     132 Li           3.3181     7.5826    27.9230 Li            1 RES     \\n     133 Li          -0.0324    -0.0239    26.7581 Li            1 RES     \\n     134 Li          -0.0257     1.1297    27.9139 Li            1 RES     \\n     135 Li           5.3660    -0.0305    27.5914 Li            1 RES     \\n     136 Li           5.1937     1.5581    27.9280 Li            1 RES     \\n     137 Li          10.0437    -0.0560    24.4169 Li            1 RES     \\n     138 Li           8.6094     0.4425    23.8161 Li            1 RES     \\n     139 Be           5.6108     4.4431    23.8659 Be            1 RES     \\n     140 Be           6.6504     5.0424    23.8655 Be            1 RES     \\n     141 Be           4.9897    10.0095    23.8840 Be            1 RES     \\n     142 Be           6.1896    10.0209    23.8782 Be            1 RES     \\n     143 Be          -0.0139    10.0084    25.0926 Be            1 RES     \\n     144 Be          -0.0102    10.0172    23.8926 Be            1 RES     \\n     145 Be           9.1391    10.0234    27.9156 Be            1 RES     \\n     146 Be          10.0161    10.0349    27.0965 Be            1 RES     \\n     147 Be          -0.0170     5.0179    23.9654 Be            1 RES     \\n     148 Be           0.6297     4.0107    23.8803 Be            1 RES     \\n     149 Be           9.4492     4.2752    27.9365 Be            1 RES     \\n     150 Be           3.6693     6.6461    27.9126 Be            1 RES     \\n     151 Be           0.3750     0.2598    27.6255 Be            1 RES     \\n     152 Be           5.8231     0.7812    27.9534 Be            1 RES     \\n     153 Be           9.5885     0.6412    23.8643 Be            1 RES     \\n@<TRIPOS>BOND\\n@<TRIPOS>SUBSTRUCTURE\\n       1 RES             1 RESIDUE    0 **** ROOT      0\\n\",\"mol2\");\n",
       "\tviewer_15747276731482172.setStyle({\"stick\": {\"radius\": 0.2, \"color\": \"grey\"}, \"sphere\": {\"scale\": 0.3, \"colorscheme\": {}}});\n",
       "\tviewer_15747276731482172.zoomTo();\n",
       "viewer_15747276731482172.render();\n",
       "});\n",
       "</script>"
      ]
     },
     "metadata": {},
     "output_type": "display_data"
    },
    {
     "data": {
      "text/plain": [
       "<py3Dmol.view at 0x11fe09790>"
      ]
     },
     "execution_count": 126,
     "metadata": {},
     "output_type": "execute_result"
    }
   ],
   "source": [
    "output = mb.load(\"POSCAR.xyz\")\n",
    "output.visualize()"
   ]
  },
  {
   "cell_type": "code",
   "execution_count": null,
   "metadata": {},
   "outputs": [],
   "source": []
  }
 ],
 "metadata": {
  "kernelspec": {
   "display_name": "Python 3",
   "language": "python",
   "name": "python3"
  },
  "language_info": {
   "codemirror_mode": {
    "name": "ipython",
    "version": 3
   },
   "file_extension": ".py",
   "mimetype": "text/x-python",
   "name": "python",
   "nbconvert_exporter": "python",
   "pygments_lexer": "ipython3",
   "version": "3.8.0"
  }
 },
 "nbformat": 4,
 "nbformat_minor": 4
}
