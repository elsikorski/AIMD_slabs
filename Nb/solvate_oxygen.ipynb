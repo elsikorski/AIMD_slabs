{
 "cells": [
  {
   "cell_type": "code",
   "execution_count": 1,
   "metadata": {
    "jupyter": {
     "outputs_hidden": false
    }
   },
   "outputs": [],
   "source": [
    "# Run me\n",
    "\n",
    "from __future__ import print_function\n",
    "\n",
    "import mbuild as mb\n",
    "from mbuild.lib.moieties import H2O\n",
    "from mbuild.examples import Ethane\n",
    "\n",
    "water = H2O()\n",
    "\n",
    "from mbuild.formats.vasp import write_poscar\n",
    "\n",
    "class O2(mb.Compound):\n",
    "    def __init__(self):\n",
    "        super(O2, self).__init__()\n",
    "        oxygen = mb.Particle(name='O')\n",
    "        self.add(oxygen)\n",
    "        self.add(mb.Particle(name='O', pos=[0, 0, 0.12]))\n",
    "        self.add_bond((self[0], self[1]))\n",
    "        \n",
    "o2 = O2()\n",
    "\n",
    "#dissociated water\n",
    "\n",
    "class Methane(mb.Compound):\n",
    "    def __init__(self):\n",
    "        super(Methane, self).__init__()\n",
    "        carbon = mb.Particle(name='C')\n",
    "        self.add(carbon)\n",
    "\n",
    "        hydrogen = mb.Particle(name='H', pos=[0.1, 0, -0.07])\n",
    "        self.add(hydrogen)\n",
    "\n",
    "        self.add_bond((self[0], self[1]))\n",
    "\n",
    "        self.add(mb.Particle(name='H', pos=[-0.1, 0, -0.07]))\n",
    "        self.add(mb.Particle(name='H', pos=[0, 0.1, 0.07]))\n",
    "        self.add(mb.Particle(name='H', pos=[0, -0.1, 0.07]))\n",
    "\n",
    "        self.add_bond((self[0], self[2]))\n",
    "        self.add_bond((self[0], self[3]))\n",
    "        self.add_bond((self[0], self[4]))\n",
    "\n",
    "class dissociated_water(mb.Compound):\n",
    "    def __init__(self):\n",
    "        super(dissociated_water, self).__init__()\n",
    "        oxygen = mb.Particle(name='O')\n",
    "        self.add(oxygen)\n",
    "        self.add(mb.Particle(name='H', pos=[0, 0, 0.097]))\n",
    "        self.add_bond((self[0], self[1]))\n",
    "\n",
    "OH = dissociated_water \n",
    "\n",
    "class H(mb.Compound):\n",
    "    def __init__(self):\n",
    "        super(H, self).__init__()\n",
    "        hydrogen = mb.Particle(name='H')\n",
    "        self.add(hydrogen)\n"
   ]
  },
  {
   "cell_type": "code",
   "execution_count": 2,
   "metadata": {},
   "outputs": [
    {
     "name": "stdout",
     "output_type": "stream",
     "text": [
      "<dissociated_water 2 particles, non-periodic, 1 bonds, id: 4614049264>\n"
     ]
    },
    {
     "data": {
      "application/3dmoljs_load.v0": "<div id=\"3dmolviewer_1578100591963243\"  style=\"position: relative; width: 640px; height: 480px\">\n        <p id=\"3dmolwarning_1578100591963243\" style=\"background-color:#ffcccc;color:black\">You appear to be running in JupyterLab (or JavaScript failed to load for some other reason).  You need to install the 3dmol extension: <br>\n        <tt>jupyter labextension install jupyterlab_3dmol</tt></p>\n        </div>\n<script>\n\nvar loadScriptAsync = function(uri){\n  return new Promise((resolve, reject) => {\n    var tag = document.createElement('script');\n    tag.src = uri;\n    tag.async = true;\n    tag.onload = () => {\n      resolve();\n    };\n  var firstScriptTag = document.getElementsByTagName('script')[0];\n  firstScriptTag.parentNode.insertBefore(tag, firstScriptTag);\n});\n};\n\nif(typeof $3Dmolpromise === 'undefined') {\n$3Dmolpromise = null;\n  $3Dmolpromise = loadScriptAsync('https://3dmol.csb.pitt.edu/build/3Dmol.js');\n}\n\nvar viewer_1578100591963243 = null;\nvar warn = document.getElementById(\"3dmolwarning_1578100591963243\");\nif(warn) {\n    warn.parentNode.removeChild(warn);\n}\n$3Dmolpromise.then(function() {\nviewer_1578100591963243 = $3Dmol.createViewer($(\"#3dmolviewer_1578100591963243\"),{backgroundColor:\"white\"});\n\tviewer_1578100591963243.addModel(\"@<TRIPOS>MOLECULE\\nRES\\n2 1 1 0 1\\nSMALL\\nNO_CHARGES\\n@<TRIPOS>CRYSIN\\n    5.0000     5.0000     5.9700    90.0000    90.0000    90.0000  1  1\\n@<TRIPOS>ATOM\\n       1 O            0.0000     0.0000     0.0000 O             1 RES     \\n       2 H            0.0000     0.0000     0.9700 H             1 RES     \\n@<TRIPOS>BOND\\n       1        2        1 1\\n@<TRIPOS>SUBSTRUCTURE\\n       1 RES             1 RESIDUE    0 **** ROOT      0\\n\",\"mol2\");\n\tviewer_1578100591963243.setStyle({\"stick\": {\"radius\": 0.2, \"color\": \"grey\"}, \"sphere\": {\"scale\": 0.3, \"colorscheme\": {}}});\n\tviewer_1578100591963243.zoomTo();\nviewer_1578100591963243.render();\n});\n</script>",
      "text/html": [
       "<div id=\"3dmolviewer_1578100591963243\"  style=\"position: relative; width: 640px; height: 480px\">\n",
       "        <p id=\"3dmolwarning_1578100591963243\" style=\"background-color:#ffcccc;color:black\">You appear to be running in JupyterLab (or JavaScript failed to load for some other reason).  You need to install the 3dmol extension: <br>\n",
       "        <tt>jupyter labextension install jupyterlab_3dmol</tt></p>\n",
       "        </div>\n",
       "<script>\n",
       "\n",
       "var loadScriptAsync = function(uri){\n",
       "  return new Promise((resolve, reject) => {\n",
       "    var tag = document.createElement('script');\n",
       "    tag.src = uri;\n",
       "    tag.async = true;\n",
       "    tag.onload = () => {\n",
       "      resolve();\n",
       "    };\n",
       "  var firstScriptTag = document.getElementsByTagName('script')[0];\n",
       "  firstScriptTag.parentNode.insertBefore(tag, firstScriptTag);\n",
       "});\n",
       "};\n",
       "\n",
       "if(typeof $3Dmolpromise === 'undefined') {\n",
       "$3Dmolpromise = null;\n",
       "  $3Dmolpromise = loadScriptAsync('https://3dmol.csb.pitt.edu/build/3Dmol.js');\n",
       "}\n",
       "\n",
       "var viewer_1578100591963243 = null;\n",
       "var warn = document.getElementById(\"3dmolwarning_1578100591963243\");\n",
       "if(warn) {\n",
       "    warn.parentNode.removeChild(warn);\n",
       "}\n",
       "$3Dmolpromise.then(function() {\n",
       "viewer_1578100591963243 = $3Dmol.createViewer($(\"#3dmolviewer_1578100591963243\"),{backgroundColor:\"white\"});\n",
       "\tviewer_1578100591963243.addModel(\"@<TRIPOS>MOLECULE\\nRES\\n2 1 1 0 1\\nSMALL\\nNO_CHARGES\\n@<TRIPOS>CRYSIN\\n    5.0000     5.0000     5.9700    90.0000    90.0000    90.0000  1  1\\n@<TRIPOS>ATOM\\n       1 O            0.0000     0.0000     0.0000 O             1 RES     \\n       2 H            0.0000     0.0000     0.9700 H             1 RES     \\n@<TRIPOS>BOND\\n       1        2        1 1\\n@<TRIPOS>SUBSTRUCTURE\\n       1 RES             1 RESIDUE    0 **** ROOT      0\\n\",\"mol2\");\n",
       "\tviewer_1578100591963243.setStyle({\"stick\": {\"radius\": 0.2, \"color\": \"grey\"}, \"sphere\": {\"scale\": 0.3, \"colorscheme\": {}}});\n",
       "\tviewer_1578100591963243.zoomTo();\n",
       "viewer_1578100591963243.render();\n",
       "});\n",
       "</script>"
      ]
     },
     "metadata": {},
     "output_type": "display_data"
    },
    {
     "data": {
      "text/plain": [
       "<py3Dmol.view at 0x11306cf70>"
      ]
     },
     "execution_count": 2,
     "metadata": {},
     "output_type": "execute_result"
    }
   ],
   "source": [
    "OH = dissociated_water()\n",
    "print(OH)\n",
    "OH.visualize()"
   ]
  },
  {
   "cell_type": "code",
   "execution_count": 3,
   "metadata": {},
   "outputs": [
    {
     "name": "stdout",
     "output_type": "stream",
     "text": [
      "<H 1 particles, non-periodic, 0 bonds, id: 4622570448>\n"
     ]
    },
    {
     "data": {
      "application/3dmoljs_load.v0": "<div id=\"3dmolviewer_157687120477341\"  style=\"position: relative; width: 640px; height: 480px\">\n        <p id=\"3dmolwarning_157687120477341\" style=\"background-color:#ffcccc;color:black\">You appear to be running in JupyterLab (or JavaScript failed to load for some other reason).  You need to install the 3dmol extension: <br>\n        <tt>jupyter labextension install jupyterlab_3dmol</tt></p>\n        </div>\n<script>\n\nvar loadScriptAsync = function(uri){\n  return new Promise((resolve, reject) => {\n    var tag = document.createElement('script');\n    tag.src = uri;\n    tag.async = true;\n    tag.onload = () => {\n      resolve();\n    };\n  var firstScriptTag = document.getElementsByTagName('script')[0];\n  firstScriptTag.parentNode.insertBefore(tag, firstScriptTag);\n});\n};\n\nif(typeof $3Dmolpromise === 'undefined') {\n$3Dmolpromise = null;\n  $3Dmolpromise = loadScriptAsync('https://3dmol.csb.pitt.edu/build/3Dmol.js');\n}\n\nvar viewer_157687120477341 = null;\nvar warn = document.getElementById(\"3dmolwarning_157687120477341\");\nif(warn) {\n    warn.parentNode.removeChild(warn);\n}\n$3Dmolpromise.then(function() {\nviewer_157687120477341 = $3Dmol.createViewer($(\"#3dmolviewer_157687120477341\"),{backgroundColor:\"white\"});\n\tviewer_157687120477341.addModel(\"@<TRIPOS>MOLECULE\\nRES\\n1 0 1 0 1\\nSMALL\\nNO_CHARGES\\n@<TRIPOS>CRYSIN\\n    5.0000     5.0000     5.0000    90.0000    90.0000    90.0000  1  1\\n@<TRIPOS>ATOM\\n       1 H            0.0000     0.0000     0.0000 H             1 RES     \\n@<TRIPOS>BOND\\n@<TRIPOS>SUBSTRUCTURE\\n       1 RES             1 RESIDUE    0 **** ROOT      0\\n\",\"mol2\");\n\tviewer_157687120477341.setStyle({\"stick\": {\"radius\": 0.2, \"color\": \"grey\"}, \"sphere\": {\"scale\": 0.3, \"colorscheme\": {}}});\n\tviewer_157687120477341.zoomTo();\nviewer_157687120477341.render();\n});\n</script>",
      "text/html": [
       "<div id=\"3dmolviewer_157687120477341\"  style=\"position: relative; width: 640px; height: 480px\">\n",
       "        <p id=\"3dmolwarning_157687120477341\" style=\"background-color:#ffcccc;color:black\">You appear to be running in JupyterLab (or JavaScript failed to load for some other reason).  You need to install the 3dmol extension: <br>\n",
       "        <tt>jupyter labextension install jupyterlab_3dmol</tt></p>\n",
       "        </div>\n",
       "<script>\n",
       "\n",
       "var loadScriptAsync = function(uri){\n",
       "  return new Promise((resolve, reject) => {\n",
       "    var tag = document.createElement('script');\n",
       "    tag.src = uri;\n",
       "    tag.async = true;\n",
       "    tag.onload = () => {\n",
       "      resolve();\n",
       "    };\n",
       "  var firstScriptTag = document.getElementsByTagName('script')[0];\n",
       "  firstScriptTag.parentNode.insertBefore(tag, firstScriptTag);\n",
       "});\n",
       "};\n",
       "\n",
       "if(typeof $3Dmolpromise === 'undefined') {\n",
       "$3Dmolpromise = null;\n",
       "  $3Dmolpromise = loadScriptAsync('https://3dmol.csb.pitt.edu/build/3Dmol.js');\n",
       "}\n",
       "\n",
       "var viewer_157687120477341 = null;\n",
       "var warn = document.getElementById(\"3dmolwarning_157687120477341\");\n",
       "if(warn) {\n",
       "    warn.parentNode.removeChild(warn);\n",
       "}\n",
       "$3Dmolpromise.then(function() {\n",
       "viewer_157687120477341 = $3Dmol.createViewer($(\"#3dmolviewer_157687120477341\"),{backgroundColor:\"white\"});\n",
       "\tviewer_157687120477341.addModel(\"@<TRIPOS>MOLECULE\\nRES\\n1 0 1 0 1\\nSMALL\\nNO_CHARGES\\n@<TRIPOS>CRYSIN\\n    5.0000     5.0000     5.0000    90.0000    90.0000    90.0000  1  1\\n@<TRIPOS>ATOM\\n       1 H            0.0000     0.0000     0.0000 H             1 RES     \\n@<TRIPOS>BOND\\n@<TRIPOS>SUBSTRUCTURE\\n       1 RES             1 RESIDUE    0 **** ROOT      0\\n\",\"mol2\");\n",
       "\tviewer_157687120477341.setStyle({\"stick\": {\"radius\": 0.2, \"color\": \"grey\"}, \"sphere\": {\"scale\": 0.3, \"colorscheme\": {}}});\n",
       "\tviewer_157687120477341.zoomTo();\n",
       "viewer_157687120477341.render();\n",
       "});\n",
       "</script>"
      ]
     },
     "metadata": {},
     "output_type": "display_data"
    },
    {
     "data": {
      "text/plain": [
       "<py3Dmol.view at 0x10578e2e0>"
      ]
     },
     "execution_count": 3,
     "metadata": {},
     "output_type": "execute_result"
    }
   ],
   "source": [
    "H = H()\n",
    "print(H)\n",
    "H.visualize()"
   ]
  },
  {
   "cell_type": "code",
   "execution_count": 3,
   "metadata": {},
   "outputs": [
    {
     "data": {
      "application/3dmoljs_load.v0": "<div id=\"3dmolviewer_1578100739681325\"  style=\"position: relative; width: 640px; height: 480px\">\n        <p id=\"3dmolwarning_1578100739681325\" style=\"background-color:#ffcccc;color:black\">You appear to be running in JupyterLab (or JavaScript failed to load for some other reason).  You need to install the 3dmol extension: <br>\n        <tt>jupyter labextension install jupyterlab_3dmol</tt></p>\n        </div>\n<script>\n\nvar loadScriptAsync = function(uri){\n  return new Promise((resolve, reject) => {\n    var tag = document.createElement('script');\n    tag.src = uri;\n    tag.async = true;\n    tag.onload = () => {\n      resolve();\n    };\n  var firstScriptTag = document.getElementsByTagName('script')[0];\n  firstScriptTag.parentNode.insertBefore(tag, firstScriptTag);\n});\n};\n\nif(typeof $3Dmolpromise === 'undefined') {\n$3Dmolpromise = null;\n  $3Dmolpromise = loadScriptAsync('https://3dmol.csb.pitt.edu/build/3Dmol.js');\n}\n\nvar viewer_1578100739681325 = null;\nvar warn = document.getElementById(\"3dmolwarning_1578100739681325\");\nif(warn) {\n    warn.parentNode.removeChild(warn);\n}\n$3Dmolpromise.then(function() {\nviewer_1578100739681325 = $3Dmol.createViewer($(\"#3dmolviewer_1578100739681325\"),{backgroundColor:\"white\"});\n\tviewer_1578100739681325.addModel(\"@<TRIPOS>MOLECULE\\nRES\\n80 40 1 0 1\\nSMALL\\nNO_CHARGES\\n@<TRIPOS>CRYSIN\\n    9.1000     9.1000    29.0000    90.0000    90.0000    90.0000  1  1\\n@<TRIPOS>ATOM\\n       1 O            6.7303     4.2474    24.6445 O             1 RES     \\n       2 O            6.8856     4.0645    23.4688 O             1 RES     \\n       3 O            1.2824     3.9427    24.7394 O             1 RES     \\n       4 O            2.2188     3.9672    23.9894 O             1 RES     \\n       5 O            3.5722     1.8449    22.3645 O             1 RES     \\n       6 O            2.6683     1.0769    22.5467 O             1 RES     \\n       7 O            1.7662     6.5802    17.2230 O             1 RES     \\n       8 O            1.5251     5.8317    18.1294 O             1 RES     \\n       9 O            4.9796     3.3610    12.9323 O             1 RES     \\n      10 O            5.4603     2.4420    13.5360 O             1 RES     \\n      11 O            5.2676     3.0792     2.5145 O             1 RES     \\n      12 O            5.9706     3.0119     3.4847 O             1 RES     \\n      13 O            4.3670     6.1240     8.9088 O             1 RES     \\n      14 O            5.4249     5.5583     8.9375 O             1 RES     \\n      15 O            7.6919     0.9266    18.7111 O             1 RES     \\n      16 O            7.4721     0.9613    19.8902 O             1 RES     \\n      17 O            7.5490     2.3212    10.3069 O             1 RES     \\n      18 O            6.4434     2.6440     9.9701 O             1 RES     \\n      19 O            1.2522     0.3221    14.4152 O             1 RES     \\n      20 O            1.5084     0.0072    13.2860 O             1 RES     \\n      21 O            1.3671     3.0661    17.5828 O             1 RES     \\n      22 O            1.8902     3.3183    18.6330 O             1 RES     \\n      23 O            4.6176     7.6542     9.1760 O             1 RES     \\n      24 O            4.6603     6.9374     8.2145 O             1 RES     \\n      25 O            2.0356     8.0992    25.4872 O             1 RES     \\n      26 O            1.7684     8.0248    26.6547 O             1 RES     \\n      27 O            6.0888     2.8183    20.2928 O             1 RES     \\n      28 O            6.1995     2.0783    19.3546 O             1 RES     \\n      29 O            3.4940     3.2217     1.0490 O             1 RES     \\n      30 O            3.1747     3.4686     2.1791 O             1 RES     \\n      31 O            7.3621     0.9122     2.1440 O             1 RES     \\n      32 O            8.0984    -0.0034     2.3879 O             1 RES     \\n      33 O            0.0128     2.8121    14.8620 O             1 RES     \\n      34 O            0.6764     3.4635    15.6205 O             1 RES     \\n      35 O            2.8678     5.9370    14.2134 O             1 RES     \\n      36 O            3.7698     6.3906    13.5648 O             1 RES     \\n      37 O            6.6337     0.8766     7.2813 O             1 RES     \\n      38 O            6.6797     1.9977     7.7068 O             1 RES     \\n      39 O            0.8192     0.7865    20.1362 O             1 RES     \\n      40 O            0.5447     0.3946    21.2367 O             1 RES     \\n      41 O            2.8540     6.4234    23.5704 O             1 RES     \\n      42 O            3.2881     6.2479    24.6753 O             1 RES     \\n      43 O            2.1952     4.4258    19.2857 O             1 RES     \\n      44 O            2.2829     3.3012    19.6951 O             1 RES     \\n      45 O            7.6875    -0.0002    24.7136 O             1 RES     \\n      46 O            7.7006     0.9669    25.4239 O             1 RES     \\n      47 O            0.0000     5.0991     8.4121 O             1 RES     \\n      48 O            0.5242     5.8069     7.5971 O             1 RES     \\n      49 O            7.4721     6.4762     0.2453 O             1 RES     \\n      50 O            7.3721     6.0550     1.3645 O             1 RES     \\n      51 O            7.4181     3.5191    15.2288 O             1 RES     \\n      52 O            7.8943     3.2448    16.2956 O             1 RES     \\n      53 O            3.0882     5.9962    21.3970 O             1 RES     \\n      54 O            3.5931     6.8905    22.0176 O             1 RES     \\n      55 O            7.6604     5.6523     2.5764 O             1 RES     \\n      56 O            6.8207     5.9123     3.3933 O             1 RES     \\n      57 O            4.7600     2.1442    17.5231 O             1 RES     \\n      58 O            4.8744     2.6112    18.6226 O             1 RES     \\n      59 O            2.1560     2.0884    11.8034 O             1 RES     \\n      60 O            2.0999     1.8630    12.9806 O             1 RES     \\n      61 O            5.2230     3.9467    11.6396 O             1 RES     \\n      62 O            5.1271     4.5654    10.6159 O             1 RES     \\n      63 O            7.0124     4.8878     5.4393 O             1 RES     \\n      64 O            7.8458     4.4608     4.6889 O             1 RES     \\n      65 O            2.3232     6.2859     3.2655 O             1 RES     \\n      66 O            2.4506     7.4610     3.4728 O             1 RES     \\n      67 O            0.7541     4.2805    21.9416 O             1 RES     \\n      68 O            0.0416     3.5763    22.6023 O             1 RES     \\n      69 O            2.2121     7.1062    12.5396 O             1 RES     \\n      70 O            2.2257     7.0994    11.3397 O             1 RES     \\n      71 O            1.6606     3.1190     3.1376 O             1 RES     \\n      72 O            1.6455     4.3160     3.2215 O             1 RES     \\n      73 O            2.1479     3.7551    10.3966 O             1 RES     \\n      74 O            1.8829     3.0222     9.4840 O             1 RES     \\n      75 O            6.7393     6.4733    15.9724 O             1 RES     \\n      76 O            6.5999     6.4480    17.1640 O             1 RES     \\n      77 O            1.2226     2.9297     0.2950 O             1 RES     \\n      78 O            1.3747     3.0860     1.4751 O             1 RES     \\n      79 O            4.2654     2.1015     4.5248 O             1 RES     \\n      80 O            3.6694     2.1840     5.5630 O             1 RES     \\n@<TRIPOS>BOND\\n       1       19       20 1\\n       2       55       56 1\\n       3       51       52 1\\n       4       71       72 1\\n       5       39       40 1\\n       6       67       68 1\\n       7       69       70 1\\n       8       65       66 1\\n       9       17       18 1\\n      10       47       48 1\\n      11       63       64 1\\n      12       41       42 1\\n      13       49       50 1\\n      14        1        2 1\\n      15       15       16 1\\n      16       79       80 1\\n      17       37       38 1\\n      18       11       12 1\\n      19       27       28 1\\n      20       45       46 1\\n      21       13       14 1\\n      22        9       10 1\\n      23       61       62 1\\n      24       35       36 1\\n      25       25       26 1\\n      26       77       78 1\\n      27       43       44 1\\n      28       33       34 1\\n      29        7        8 1\\n      30       59       60 1\\n      31       73       74 1\\n      32       23       24 1\\n      33       53       54 1\\n      34        5        6 1\\n      35       75       76 1\\n      36       29       30 1\\n      37       21       22 1\\n      38       57       58 1\\n      39       31       32 1\\n      40        3        4 1\\n@<TRIPOS>SUBSTRUCTURE\\n       1 RES             1 RESIDUE    0 **** ROOT      0\\n\",\"mol2\");\n\tviewer_1578100739681325.setStyle({\"stick\": {\"radius\": 0.2, \"color\": \"grey\"}, \"sphere\": {\"scale\": 0.3, \"colorscheme\": {}}});\n\tviewer_1578100739681325.zoomTo();\nviewer_1578100739681325.render();\n});\n</script>",
      "text/html": [
       "<div id=\"3dmolviewer_1578100739681325\"  style=\"position: relative; width: 640px; height: 480px\">\n",
       "        <p id=\"3dmolwarning_1578100739681325\" style=\"background-color:#ffcccc;color:black\">You appear to be running in JupyterLab (or JavaScript failed to load for some other reason).  You need to install the 3dmol extension: <br>\n",
       "        <tt>jupyter labextension install jupyterlab_3dmol</tt></p>\n",
       "        </div>\n",
       "<script>\n",
       "\n",
       "var loadScriptAsync = function(uri){\n",
       "  return new Promise((resolve, reject) => {\n",
       "    var tag = document.createElement('script');\n",
       "    tag.src = uri;\n",
       "    tag.async = true;\n",
       "    tag.onload = () => {\n",
       "      resolve();\n",
       "    };\n",
       "  var firstScriptTag = document.getElementsByTagName('script')[0];\n",
       "  firstScriptTag.parentNode.insertBefore(tag, firstScriptTag);\n",
       "});\n",
       "};\n",
       "\n",
       "if(typeof $3Dmolpromise === 'undefined') {\n",
       "$3Dmolpromise = null;\n",
       "  $3Dmolpromise = loadScriptAsync('https://3dmol.csb.pitt.edu/build/3Dmol.js');\n",
       "}\n",
       "\n",
       "var viewer_1578100739681325 = null;\n",
       "var warn = document.getElementById(\"3dmolwarning_1578100739681325\");\n",
       "if(warn) {\n",
       "    warn.parentNode.removeChild(warn);\n",
       "}\n",
       "$3Dmolpromise.then(function() {\n",
       "viewer_1578100739681325 = $3Dmol.createViewer($(\"#3dmolviewer_1578100739681325\"),{backgroundColor:\"white\"});\n",
       "\tviewer_1578100739681325.addModel(\"@<TRIPOS>MOLECULE\\nRES\\n80 40 1 0 1\\nSMALL\\nNO_CHARGES\\n@<TRIPOS>CRYSIN\\n    9.1000     9.1000    29.0000    90.0000    90.0000    90.0000  1  1\\n@<TRIPOS>ATOM\\n       1 O            6.7303     4.2474    24.6445 O             1 RES     \\n       2 O            6.8856     4.0645    23.4688 O             1 RES     \\n       3 O            1.2824     3.9427    24.7394 O             1 RES     \\n       4 O            2.2188     3.9672    23.9894 O             1 RES     \\n       5 O            3.5722     1.8449    22.3645 O             1 RES     \\n       6 O            2.6683     1.0769    22.5467 O             1 RES     \\n       7 O            1.7662     6.5802    17.2230 O             1 RES     \\n       8 O            1.5251     5.8317    18.1294 O             1 RES     \\n       9 O            4.9796     3.3610    12.9323 O             1 RES     \\n      10 O            5.4603     2.4420    13.5360 O             1 RES     \\n      11 O            5.2676     3.0792     2.5145 O             1 RES     \\n      12 O            5.9706     3.0119     3.4847 O             1 RES     \\n      13 O            4.3670     6.1240     8.9088 O             1 RES     \\n      14 O            5.4249     5.5583     8.9375 O             1 RES     \\n      15 O            7.6919     0.9266    18.7111 O             1 RES     \\n      16 O            7.4721     0.9613    19.8902 O             1 RES     \\n      17 O            7.5490     2.3212    10.3069 O             1 RES     \\n      18 O            6.4434     2.6440     9.9701 O             1 RES     \\n      19 O            1.2522     0.3221    14.4152 O             1 RES     \\n      20 O            1.5084     0.0072    13.2860 O             1 RES     \\n      21 O            1.3671     3.0661    17.5828 O             1 RES     \\n      22 O            1.8902     3.3183    18.6330 O             1 RES     \\n      23 O            4.6176     7.6542     9.1760 O             1 RES     \\n      24 O            4.6603     6.9374     8.2145 O             1 RES     \\n      25 O            2.0356     8.0992    25.4872 O             1 RES     \\n      26 O            1.7684     8.0248    26.6547 O             1 RES     \\n      27 O            6.0888     2.8183    20.2928 O             1 RES     \\n      28 O            6.1995     2.0783    19.3546 O             1 RES     \\n      29 O            3.4940     3.2217     1.0490 O             1 RES     \\n      30 O            3.1747     3.4686     2.1791 O             1 RES     \\n      31 O            7.3621     0.9122     2.1440 O             1 RES     \\n      32 O            8.0984    -0.0034     2.3879 O             1 RES     \\n      33 O            0.0128     2.8121    14.8620 O             1 RES     \\n      34 O            0.6764     3.4635    15.6205 O             1 RES     \\n      35 O            2.8678     5.9370    14.2134 O             1 RES     \\n      36 O            3.7698     6.3906    13.5648 O             1 RES     \\n      37 O            6.6337     0.8766     7.2813 O             1 RES     \\n      38 O            6.6797     1.9977     7.7068 O             1 RES     \\n      39 O            0.8192     0.7865    20.1362 O             1 RES     \\n      40 O            0.5447     0.3946    21.2367 O             1 RES     \\n      41 O            2.8540     6.4234    23.5704 O             1 RES     \\n      42 O            3.2881     6.2479    24.6753 O             1 RES     \\n      43 O            2.1952     4.4258    19.2857 O             1 RES     \\n      44 O            2.2829     3.3012    19.6951 O             1 RES     \\n      45 O            7.6875    -0.0002    24.7136 O             1 RES     \\n      46 O            7.7006     0.9669    25.4239 O             1 RES     \\n      47 O            0.0000     5.0991     8.4121 O             1 RES     \\n      48 O            0.5242     5.8069     7.5971 O             1 RES     \\n      49 O            7.4721     6.4762     0.2453 O             1 RES     \\n      50 O            7.3721     6.0550     1.3645 O             1 RES     \\n      51 O            7.4181     3.5191    15.2288 O             1 RES     \\n      52 O            7.8943     3.2448    16.2956 O             1 RES     \\n      53 O            3.0882     5.9962    21.3970 O             1 RES     \\n      54 O            3.5931     6.8905    22.0176 O             1 RES     \\n      55 O            7.6604     5.6523     2.5764 O             1 RES     \\n      56 O            6.8207     5.9123     3.3933 O             1 RES     \\n      57 O            4.7600     2.1442    17.5231 O             1 RES     \\n      58 O            4.8744     2.6112    18.6226 O             1 RES     \\n      59 O            2.1560     2.0884    11.8034 O             1 RES     \\n      60 O            2.0999     1.8630    12.9806 O             1 RES     \\n      61 O            5.2230     3.9467    11.6396 O             1 RES     \\n      62 O            5.1271     4.5654    10.6159 O             1 RES     \\n      63 O            7.0124     4.8878     5.4393 O             1 RES     \\n      64 O            7.8458     4.4608     4.6889 O             1 RES     \\n      65 O            2.3232     6.2859     3.2655 O             1 RES     \\n      66 O            2.4506     7.4610     3.4728 O             1 RES     \\n      67 O            0.7541     4.2805    21.9416 O             1 RES     \\n      68 O            0.0416     3.5763    22.6023 O             1 RES     \\n      69 O            2.2121     7.1062    12.5396 O             1 RES     \\n      70 O            2.2257     7.0994    11.3397 O             1 RES     \\n      71 O            1.6606     3.1190     3.1376 O             1 RES     \\n      72 O            1.6455     4.3160     3.2215 O             1 RES     \\n      73 O            2.1479     3.7551    10.3966 O             1 RES     \\n      74 O            1.8829     3.0222     9.4840 O             1 RES     \\n      75 O            6.7393     6.4733    15.9724 O             1 RES     \\n      76 O            6.5999     6.4480    17.1640 O             1 RES     \\n      77 O            1.2226     2.9297     0.2950 O             1 RES     \\n      78 O            1.3747     3.0860     1.4751 O             1 RES     \\n      79 O            4.2654     2.1015     4.5248 O             1 RES     \\n      80 O            3.6694     2.1840     5.5630 O             1 RES     \\n@<TRIPOS>BOND\\n       1       19       20 1\\n       2       55       56 1\\n       3       51       52 1\\n       4       71       72 1\\n       5       39       40 1\\n       6       67       68 1\\n       7       69       70 1\\n       8       65       66 1\\n       9       17       18 1\\n      10       47       48 1\\n      11       63       64 1\\n      12       41       42 1\\n      13       49       50 1\\n      14        1        2 1\\n      15       15       16 1\\n      16       79       80 1\\n      17       37       38 1\\n      18       11       12 1\\n      19       27       28 1\\n      20       45       46 1\\n      21       13       14 1\\n      22        9       10 1\\n      23       61       62 1\\n      24       35       36 1\\n      25       25       26 1\\n      26       77       78 1\\n      27       43       44 1\\n      28       33       34 1\\n      29        7        8 1\\n      30       59       60 1\\n      31       73       74 1\\n      32       23       24 1\\n      33       53       54 1\\n      34        5        6 1\\n      35       75       76 1\\n      36       29       30 1\\n      37       21       22 1\\n      38       57       58 1\\n      39       31       32 1\\n      40        3        4 1\\n@<TRIPOS>SUBSTRUCTURE\\n       1 RES             1 RESIDUE    0 **** ROOT      0\\n\",\"mol2\");\n",
       "\tviewer_1578100739681325.setStyle({\"stick\": {\"radius\": 0.2, \"color\": \"grey\"}, \"sphere\": {\"scale\": 0.3, \"colorscheme\": {}}});\n",
       "\tviewer_1578100739681325.zoomTo();\n",
       "viewer_1578100739681325.render();\n",
       "});\n",
       "</script>"
      ]
     },
     "metadata": {},
     "output_type": "display_data"
    },
    {
     "data": {
      "text/plain": [
       "<py3Dmol.view at 0x122cf6cd0>"
      ]
     },
     "execution_count": 3,
     "metadata": {},
     "output_type": "execute_result"
    }
   ],
   "source": [
    "solvate_box = [0.91, 0.91, 2.9]\n",
    "\n",
    "solvate_test = mb.packing.fill_box(compound=o2, n_compounds=40, box=solvate_box, density=None, \n",
    "                    overlap=0.1, seed=12345, edge=0.1, \n",
    "                    aspect_ratio=None, fix_orientation=False, temp_file=None, update_port_locations=False)\n",
    "solvate_test.visualize()\n"
   ]
  },
  {
   "cell_type": "code",
   "execution_count": 57,
   "metadata": {},
   "outputs": [
    {
     "name": "stdout",
     "output_type": "stream",
     "text": [
      "heck\n"
     ]
    }
   ],
   "source": [
    "write_poscar(solvate_test, \"POSCAR\",1,bravais=[[9.82850,0,0],\n",
    "    [0,13.89990,0],[0,0,5]], coord='cartesian')\n"
   ]
  },
  {
   "cell_type": "code",
   "execution_count": 58,
   "metadata": {},
   "outputs": [
    {
     "name": "stdout",
     "output_type": "stream",
     "text": [
      "  _________________________________________\r\n",
      " |      o---o                     O        |\r\n",
      " |     o---o|   _____________     |        |\r\n",
      " |     |   |o    A T O M S K     ,0;-o     |\r\n",
      " |     o---o                   o'   'O     |\r\n",
      " |   Version Beta-0.10.6                   |\r\n",
      " |   (C) 2010 Pierre Hirel                 |\r\n",
      " |_________________________________________|\r\n",
      " *** HAPPY NEW YEAR 2020!\r\n",
      " >>> Opening the input file: POSCAR\r\n",
      " ..> Input file was read successfully (80 atoms).\r\n",
      " >>> Shifting all atoms by (0.000,0.000,-24.000)\r\n",
      " ..> 80 atoms were shifted.\r\n",
      " >>> Writing output file(s) (80 atoms):\r\n",
      " ..> Successfully wrote POSCAR file: POSCAR\r\n",
      " \\o/ Program terminated successfully!\r\n",
      "     Total time: 0.004 s.; CPU time: 0.004 s.\r\n"
     ]
    }
   ],
   "source": [
    "\n",
    "!atomsk POSCAR -shift 0.0 0.0 -24.0 CONTCAR -ow"
   ]
  },
  {
   "cell_type": "code",
   "execution_count": 59,
   "metadata": {},
   "outputs": [
    {
     "name": "stdout",
     "output_type": "stream",
     "text": [
      "  _________________________________________\r\n",
      " |      o---o                     O        |\r\n",
      " |     o---o|   _____________     |        |\r\n",
      " |     |   |o    A T O M S K     ,0;-o     |\r\n",
      " |     o---o                   o'   'O     |\r\n",
      " |   Version Beta-0.10.6                   |\r\n",
      " |   (C) 2010 Pierre Hirel                 |\r\n",
      " |_________________________________________|\r\n",
      " *** HAPPY NEW YEAR 2020!\r\n",
      " >>> Concatenating the systems along z...\r\n",
      " >>> Opening the input file: CONTCAR_Nb_slab\r\n",
      " ..> Input file was read successfully (81 atoms).\r\n",
      " >>> Opening the input file: POSCAR\r\n",
      " ..> Input file was read successfully (80 atoms).\r\n",
      " ..> 2 systems were merged.\r\n",
      " >>> Writing output file(s) (161 atoms):\r\n",
      " ..> Successfully wrote POSCAR file: POSCAR\r\n",
      " \\o/ Program terminated successfully!\r\n",
      "     Total time: 0.008 s.; CPU time: 0.007 s.\r\n"
     ]
    }
   ],
   "source": [
    "!atomsk --merge z 2 CONTCAR_Nb_slab POSCAR CONTCAR -ow\n",
    "\n"
   ]
  },
  {
   "cell_type": "code",
   "execution_count": 60,
   "metadata": {},
   "outputs": [
    {
     "name": "stdout",
     "output_type": "stream",
     "text": [
      "  _________________________________________\r\n",
      " |      o---o                     O        |\r\n",
      " |     o---o|   _____________     |        |\r\n",
      " |     |   |o    A T O M S K     ,0;-o     |\r\n",
      " |     o---o                   o'   'O     |\r\n",
      " |   Version Beta-0.10.6                   |\r\n",
      " |   (C) 2010 Pierre Hirel                 |\r\n",
      " |_________________________________________|\r\n",
      " *** HAPPY NEW YEAR 2020!\r\n",
      " >>> Opening the input file: POSCAR\r\n",
      " ..> Input file was read successfully (161 atoms).\r\n",
      " >>> Writing output file(s) (161 atoms):\r\n",
      " ..> Successfully wrote XYZ file: POSCAR.xyz\r\n",
      " \\o/ Program terminated successfully!\r\n",
      "     Total time: 0.007 s.; CPU time: 0.007 s.\r\n"
     ]
    }
   ],
   "source": [
    "!atomsk POSCAR xyz -ow"
   ]
  },
  {
   "cell_type": "code",
   "execution_count": 61,
   "metadata": {},
   "outputs": [
    {
     "data": {
      "application/3dmoljs_load.v0": "<div id=\"3dmolviewer_1578101109254688\"  style=\"position: relative; width: 640px; height: 480px\">\n        <p id=\"3dmolwarning_1578101109254688\" style=\"background-color:#ffcccc;color:black\">You appear to be running in JupyterLab (or JavaScript failed to load for some other reason).  You need to install the 3dmol extension: <br>\n        <tt>jupyter labextension install jupyterlab_3dmol</tt></p>\n        </div>\n<script>\n\nvar loadScriptAsync = function(uri){\n  return new Promise((resolve, reject) => {\n    var tag = document.createElement('script');\n    tag.src = uri;\n    tag.async = true;\n    tag.onload = () => {\n      resolve();\n    };\n  var firstScriptTag = document.getElementsByTagName('script')[0];\n  firstScriptTag.parentNode.insertBefore(tag, firstScriptTag);\n});\n};\n\nif(typeof $3Dmolpromise === 'undefined') {\n$3Dmolpromise = null;\n  $3Dmolpromise = loadScriptAsync('https://3dmol.csb.pitt.edu/build/3Dmol.js');\n}\n\nvar viewer_1578101109254688 = null;\nvar warn = document.getElementById(\"3dmolwarning_1578101109254688\");\nif(warn) {\n    warn.parentNode.removeChild(warn);\n}\n$3Dmolpromise.then(function() {\nviewer_1578101109254688 = $3Dmol.createViewer($(\"#3dmolviewer_1578101109254688\"),{backgroundColor:\"white\"});\n\tviewer_1578101109254688.addModel(\"@<TRIPOS>MOLECULE\\nRES\\n161 0 1 0 1\\nSMALL\\nNO_CHARGES\\n@<TRIPOS>CRYSIN\\n   14.8623    14.9204    50.8995    90.0000    90.0000    90.0000  1  1\\n@<TRIPOS>ATOM\\n       1 H            0.0000     0.0000     0.0000 H             1 RES     \\n       2 H            0.1322     0.1151     8.4815 H             1 RES     \\n       3 H            0.2312     0.0420    17.1078 H             1 RES     \\n       4 H            0.0000     3.3112     0.0000 H             1 RES     \\n       5 H            0.1865     3.3721     8.5208 H             1 RES     \\n       6 H            0.0653     3.4176    17.0537 H             1 RES     \\n       7 H            0.0000     6.6224     0.0000 H             1 RES     \\n       8 H            0.1619     6.6929     8.6237 H             1 RES     \\n       9 H            0.2209     6.7628    17.0430 H             1 RES     \\n      10 H            3.3112     0.0000     0.0000 H             1 RES     \\n      11 H            3.4632     9.9170     8.6199 H             1 RES     \\n      12 H            3.3521     0.1031    17.0367 H             1 RES     \\n      13 H            3.3112     3.3112     0.0000 H             1 RES     \\n      14 H            3.4219     3.2818     8.5249 H             1 RES     \\n      15 H            3.3848     3.4428    17.1505 H             1 RES     \\n      16 H            3.3112     6.6224     0.0000 H             1 RES     \\n      17 H            3.4856     6.5892     8.4602 H             1 RES     \\n      18 H            3.4239     6.8480    17.0705 H             1 RES     \\n      19 H            6.6224     0.0000     0.0000 H             1 RES     \\n      20 H            6.6845     0.0420     8.5788 H             1 RES     \\n      21 H            6.8325     0.2149    17.0548 H             1 RES     \\n      22 H            6.6224     3.3112     0.0000 H             1 RES     \\n      23 H            6.8572     3.4516     8.5782 H             1 RES     \\n      24 H            6.8479     3.3675    17.0829 H             1 RES     \\n      25 H            6.6224     6.6224     0.0000 H             1 RES     \\n      26 H            6.7239     6.6060     8.5483 H             1 RES     \\n      27 H            6.7087     6.7165    16.9796 H             1 RES     \\n      28 H            9.8623     0.0198     4.2327 H             1 RES     \\n      29 H            0.1536     0.0978    12.8700 H             1 RES     \\n      30 H            0.0220     3.3559     4.2672 H             1 RES     \\n      31 H            0.1927     3.4139    12.8946 H             1 RES     \\n      32 H            0.0234     6.5853     4.3230 H             1 RES     \\n      33 H            0.1074     6.8156    13.1325 H             1 RES     \\n      34 H            3.3821     0.0779     4.2910 H             1 RES     \\n      35 H            3.4224     0.1013    12.9509 H             1 RES     \\n      36 H            3.2844     3.3170     4.3169 H             1 RES     \\n      37 H            3.5312     3.3535    12.9582 H             1 RES     \\n      38 H            3.2988     6.5874     4.3818 H             1 RES     \\n      39 H            3.4546     6.6002    13.0524 H             1 RES     \\n      40 H            6.6350     0.0224     4.2682 H             1 RES     \\n      41 H            6.7903     0.0810    12.9124 H             1 RES     \\n      42 H            6.5716     3.3538     4.2885 H             1 RES     \\n      43 H            6.8176     3.4323    12.9076 H             1 RES     \\n      44 H            6.5942     6.6895     4.3268 H             1 RES     \\n      45 H            6.7834     6.7442    13.0245 H             1 RES     \\n      46 H            1.6556     1.6556     2.1536 H             1 RES     \\n      47 H            1.8155     1.7219    10.7732 H             1 RES     \\n      48 H            1.6556     4.9668     2.1536 H             1 RES     \\n      49 H            1.8126     5.0014    10.7727 H             1 RES     \\n      50 H            1.6556     8.2780     2.1536 H             1 RES     \\n      51 H            1.8182     8.3437    10.7240 H             1 RES     \\n      52 H            4.9668     1.6556     2.1536 H             1 RES     \\n      53 H            5.1511     1.6461    10.8502 H             1 RES     \\n      54 H            4.9668     4.9668     2.1536 H             1 RES     \\n      55 H            5.1851     5.0207    10.8782 H             1 RES     \\n      56 H            4.9668     8.2780     2.1536 H             1 RES     \\n      57 H            4.9609     8.3031    10.8463 H             1 RES     \\n      58 H            8.2780     1.6556     2.1536 H             1 RES     \\n      59 H            8.4122     1.8363    10.7652 H             1 RES     \\n      60 H            8.2780     4.9668     2.1536 H             1 RES     \\n      61 H            8.5270     5.1082    10.8369 H             1 RES     \\n      62 H            8.2780     8.2780     2.1536 H             1 RES     \\n      63 H            8.3729     8.3682    10.8007 H             1 RES     \\n      64 H            1.7900     1.6034     6.3852 H             1 RES     \\n      65 H            1.8124     1.7372    15.2140 H             1 RES     \\n      66 H            1.7201     4.9266     6.4577 H             1 RES     \\n      67 H            1.8298     5.0674    15.1832 H             1 RES     \\n      68 H            1.7277     8.3131     6.4681 H             1 RES     \\n      69 H            1.7597     8.4285    15.1305 H             1 RES     \\n      70 H            5.0531     1.6851     6.4659 H             1 RES     \\n      71 H            5.1707     1.7972    15.2129 H             1 RES     \\n      72 H            5.0679     5.0023     6.5902 H             1 RES     \\n      73 H            5.1225     5.0677    15.1704 H             1 RES     \\n      74 H            5.0489     8.3429     6.4616 H             1 RES     \\n      75 H            5.1359     8.4188    15.1191 H             1 RES     \\n      76 H            8.3026     1.6347     6.4668 H             1 RES     \\n      77 H            8.5054     1.8123    14.9772 H             1 RES     \\n      78 H            8.3307     5.0488     6.4530 H             1 RES     \\n      79 H            8.4387     5.0441    15.1315 H             1 RES     \\n      80 H            8.4282     8.3123     6.4607 H             1 RES     \\n      81 H            8.4131     8.4402    15.2308 H             1 RES     \\n      82 He           6.7303     4.2474    43.8893 He            1 RES     \\n      83 He           6.8856     4.0645    42.7136 He            1 RES     \\n      84 He           1.2824     3.9427    43.9842 He            1 RES     \\n      85 He           2.2188     3.9672    43.2342 He            1 RES     \\n      86 He           3.5722     1.8449    41.6093 He            1 RES     \\n      87 He           2.6683     1.0769    41.7915 He            1 RES     \\n      88 He           1.7662     6.5802    36.4678 He            1 RES     \\n      89 He           1.5251     5.8317    37.3742 He            1 RES     \\n      90 He           4.9796     3.3610    32.1771 He            1 RES     \\n      91 He           5.4603     2.4420    32.7808 He            1 RES     \\n      92 He           5.2676     3.0792    21.7593 He            1 RES     \\n      93 He           5.9706     3.0119    22.7295 He            1 RES     \\n      94 He           4.3670     6.1240    28.1536 He            1 RES     \\n      95 He           5.4249     5.5583    28.1823 He            1 RES     \\n      96 He           7.6919     0.9266    37.9559 He            1 RES     \\n      97 He           7.4721     0.9613    39.1350 He            1 RES     \\n      98 He           7.5490     2.3212    29.5517 He            1 RES     \\n      99 He           6.4434     2.6440    29.2149 He            1 RES     \\n     100 He           1.2522     0.3221    33.6600 He            1 RES     \\n     101 He           1.5084     0.0072    32.5308 He            1 RES     \\n     102 He           1.3671     3.0661    36.8276 He            1 RES     \\n     103 He           1.8902     3.3183    37.8778 He            1 RES     \\n     104 He           4.6176     7.6542    28.4208 He            1 RES     \\n     105 He           4.6603     6.9374    27.4593 He            1 RES     \\n     106 He           2.0356     8.0992    44.7320 He            1 RES     \\n     107 He           1.7684     8.0248    45.8995 He            1 RES     \\n     108 He           6.0888     2.8183    39.5376 He            1 RES     \\n     109 He           6.1995     2.0783    38.5994 He            1 RES     \\n     110 He           3.4940     3.2217    20.2938 He            1 RES     \\n     111 He           3.1747     3.4686    21.4239 He            1 RES     \\n     112 He           7.3621     0.9122    21.3888 He            1 RES     \\n     113 He           8.0984    -0.0034    21.6327 He            1 RES     \\n     114 He           0.0128     2.8121    34.1068 He            1 RES     \\n     115 He           0.6764     3.4635    34.8653 He            1 RES     \\n     116 He           2.8678     5.9370    33.4582 He            1 RES     \\n     117 He           3.7698     6.3906    32.8096 He            1 RES     \\n     118 He           6.6337     0.8766    26.5261 He            1 RES     \\n     119 He           6.6797     1.9977    26.9516 He            1 RES     \\n     120 He           0.8192     0.7865    39.3810 He            1 RES     \\n     121 He           0.5447     0.3946    40.4815 He            1 RES     \\n     122 He           2.8540     6.4234    42.8152 He            1 RES     \\n     123 He           3.2881     6.2479    43.9201 He            1 RES     \\n     124 He           2.1952     4.4258    38.5305 He            1 RES     \\n     125 He           2.2829     3.3012    38.9399 He            1 RES     \\n     126 He           7.6875    -0.0002    43.9584 He            1 RES     \\n     127 He           7.7006     0.9669    44.6687 He            1 RES     \\n     128 He           0.0000     5.0991    27.6569 He            1 RES     \\n     129 He           0.5242     5.8069    26.8419 He            1 RES     \\n     130 He           7.4721     6.4762    19.4901 He            1 RES     \\n     131 He           7.3721     6.0550    20.6093 He            1 RES     \\n     132 He           7.4181     3.5191    34.4736 He            1 RES     \\n     133 He           7.8943     3.2448    35.5404 He            1 RES     \\n     134 He           3.0882     5.9962    40.6418 He            1 RES     \\n     135 He           3.5931     6.8905    41.2624 He            1 RES     \\n     136 He           7.6604     5.6523    21.8212 He            1 RES     \\n     137 He           6.8207     5.9123    22.6381 He            1 RES     \\n     138 He           4.7600     2.1442    36.7679 He            1 RES     \\n     139 He           4.8744     2.6112    37.8674 He            1 RES     \\n     140 He           2.1560     2.0884    31.0481 He            1 RES     \\n     141 He           2.0999     1.8630    32.2254 He            1 RES     \\n     142 He           5.2230     3.9467    30.8844 He            1 RES     \\n     143 He           5.1271     4.5654    29.8607 He            1 RES     \\n     144 He           7.0124     4.8878    24.6841 He            1 RES     \\n     145 He           7.8458     4.4608    23.9337 He            1 RES     \\n     146 He           2.3232     6.2859    22.5103 He            1 RES     \\n     147 He           2.4506     7.4610    22.7176 He            1 RES     \\n     148 He           0.7541     4.2805    41.1864 He            1 RES     \\n     149 He           0.0416     3.5763    41.8471 He            1 RES     \\n     150 He           2.2121     7.1062    31.7844 He            1 RES     \\n     151 He           2.2257     7.0994    30.5845 He            1 RES     \\n     152 He           1.6606     3.1190    22.3824 He            1 RES     \\n     153 He           1.6455     4.3160    22.4663 He            1 RES     \\n     154 He           2.1479     3.7551    29.6414 He            1 RES     \\n     155 He           1.8829     3.0222    28.7288 He            1 RES     \\n     156 He           6.7393     6.4733    35.2172 He            1 RES     \\n     157 He           6.5999     6.4480    36.4088 He            1 RES     \\n     158 He           1.2226     2.9297    19.5398 He            1 RES     \\n     159 He           1.3747     3.0860    20.7199 He            1 RES     \\n     160 He           4.2654     2.1015    23.7696 He            1 RES     \\n     161 He           3.6694     2.1840    24.8078 He            1 RES     \\n@<TRIPOS>BOND\\n@<TRIPOS>SUBSTRUCTURE\\n       1 RES             1 RESIDUE    0 **** ROOT      0\\n\",\"mol2\");\n\tviewer_1578101109254688.setStyle({\"stick\": {\"radius\": 0.2, \"color\": \"grey\"}, \"sphere\": {\"scale\": 0.3, \"colorscheme\": {}}});\n\tviewer_1578101109254688.zoomTo();\nviewer_1578101109254688.render();\n});\n</script>",
      "text/html": [
       "<div id=\"3dmolviewer_1578101109254688\"  style=\"position: relative; width: 640px; height: 480px\">\n",
       "        <p id=\"3dmolwarning_1578101109254688\" style=\"background-color:#ffcccc;color:black\">You appear to be running in JupyterLab (or JavaScript failed to load for some other reason).  You need to install the 3dmol extension: <br>\n",
       "        <tt>jupyter labextension install jupyterlab_3dmol</tt></p>\n",
       "        </div>\n",
       "<script>\n",
       "\n",
       "var loadScriptAsync = function(uri){\n",
       "  return new Promise((resolve, reject) => {\n",
       "    var tag = document.createElement('script');\n",
       "    tag.src = uri;\n",
       "    tag.async = true;\n",
       "    tag.onload = () => {\n",
       "      resolve();\n",
       "    };\n",
       "  var firstScriptTag = document.getElementsByTagName('script')[0];\n",
       "  firstScriptTag.parentNode.insertBefore(tag, firstScriptTag);\n",
       "});\n",
       "};\n",
       "\n",
       "if(typeof $3Dmolpromise === 'undefined') {\n",
       "$3Dmolpromise = null;\n",
       "  $3Dmolpromise = loadScriptAsync('https://3dmol.csb.pitt.edu/build/3Dmol.js');\n",
       "}\n",
       "\n",
       "var viewer_1578101109254688 = null;\n",
       "var warn = document.getElementById(\"3dmolwarning_1578101109254688\");\n",
       "if(warn) {\n",
       "    warn.parentNode.removeChild(warn);\n",
       "}\n",
       "$3Dmolpromise.then(function() {\n",
       "viewer_1578101109254688 = $3Dmol.createViewer($(\"#3dmolviewer_1578101109254688\"),{backgroundColor:\"white\"});\n",
       "\tviewer_1578101109254688.addModel(\"@<TRIPOS>MOLECULE\\nRES\\n161 0 1 0 1\\nSMALL\\nNO_CHARGES\\n@<TRIPOS>CRYSIN\\n   14.8623    14.9204    50.8995    90.0000    90.0000    90.0000  1  1\\n@<TRIPOS>ATOM\\n       1 H            0.0000     0.0000     0.0000 H             1 RES     \\n       2 H            0.1322     0.1151     8.4815 H             1 RES     \\n       3 H            0.2312     0.0420    17.1078 H             1 RES     \\n       4 H            0.0000     3.3112     0.0000 H             1 RES     \\n       5 H            0.1865     3.3721     8.5208 H             1 RES     \\n       6 H            0.0653     3.4176    17.0537 H             1 RES     \\n       7 H            0.0000     6.6224     0.0000 H             1 RES     \\n       8 H            0.1619     6.6929     8.6237 H             1 RES     \\n       9 H            0.2209     6.7628    17.0430 H             1 RES     \\n      10 H            3.3112     0.0000     0.0000 H             1 RES     \\n      11 H            3.4632     9.9170     8.6199 H             1 RES     \\n      12 H            3.3521     0.1031    17.0367 H             1 RES     \\n      13 H            3.3112     3.3112     0.0000 H             1 RES     \\n      14 H            3.4219     3.2818     8.5249 H             1 RES     \\n      15 H            3.3848     3.4428    17.1505 H             1 RES     \\n      16 H            3.3112     6.6224     0.0000 H             1 RES     \\n      17 H            3.4856     6.5892     8.4602 H             1 RES     \\n      18 H            3.4239     6.8480    17.0705 H             1 RES     \\n      19 H            6.6224     0.0000     0.0000 H             1 RES     \\n      20 H            6.6845     0.0420     8.5788 H             1 RES     \\n      21 H            6.8325     0.2149    17.0548 H             1 RES     \\n      22 H            6.6224     3.3112     0.0000 H             1 RES     \\n      23 H            6.8572     3.4516     8.5782 H             1 RES     \\n      24 H            6.8479     3.3675    17.0829 H             1 RES     \\n      25 H            6.6224     6.6224     0.0000 H             1 RES     \\n      26 H            6.7239     6.6060     8.5483 H             1 RES     \\n      27 H            6.7087     6.7165    16.9796 H             1 RES     \\n      28 H            9.8623     0.0198     4.2327 H             1 RES     \\n      29 H            0.1536     0.0978    12.8700 H             1 RES     \\n      30 H            0.0220     3.3559     4.2672 H             1 RES     \\n      31 H            0.1927     3.4139    12.8946 H             1 RES     \\n      32 H            0.0234     6.5853     4.3230 H             1 RES     \\n      33 H            0.1074     6.8156    13.1325 H             1 RES     \\n      34 H            3.3821     0.0779     4.2910 H             1 RES     \\n      35 H            3.4224     0.1013    12.9509 H             1 RES     \\n      36 H            3.2844     3.3170     4.3169 H             1 RES     \\n      37 H            3.5312     3.3535    12.9582 H             1 RES     \\n      38 H            3.2988     6.5874     4.3818 H             1 RES     \\n      39 H            3.4546     6.6002    13.0524 H             1 RES     \\n      40 H            6.6350     0.0224     4.2682 H             1 RES     \\n      41 H            6.7903     0.0810    12.9124 H             1 RES     \\n      42 H            6.5716     3.3538     4.2885 H             1 RES     \\n      43 H            6.8176     3.4323    12.9076 H             1 RES     \\n      44 H            6.5942     6.6895     4.3268 H             1 RES     \\n      45 H            6.7834     6.7442    13.0245 H             1 RES     \\n      46 H            1.6556     1.6556     2.1536 H             1 RES     \\n      47 H            1.8155     1.7219    10.7732 H             1 RES     \\n      48 H            1.6556     4.9668     2.1536 H             1 RES     \\n      49 H            1.8126     5.0014    10.7727 H             1 RES     \\n      50 H            1.6556     8.2780     2.1536 H             1 RES     \\n      51 H            1.8182     8.3437    10.7240 H             1 RES     \\n      52 H            4.9668     1.6556     2.1536 H             1 RES     \\n      53 H            5.1511     1.6461    10.8502 H             1 RES     \\n      54 H            4.9668     4.9668     2.1536 H             1 RES     \\n      55 H            5.1851     5.0207    10.8782 H             1 RES     \\n      56 H            4.9668     8.2780     2.1536 H             1 RES     \\n      57 H            4.9609     8.3031    10.8463 H             1 RES     \\n      58 H            8.2780     1.6556     2.1536 H             1 RES     \\n      59 H            8.4122     1.8363    10.7652 H             1 RES     \\n      60 H            8.2780     4.9668     2.1536 H             1 RES     \\n      61 H            8.5270     5.1082    10.8369 H             1 RES     \\n      62 H            8.2780     8.2780     2.1536 H             1 RES     \\n      63 H            8.3729     8.3682    10.8007 H             1 RES     \\n      64 H            1.7900     1.6034     6.3852 H             1 RES     \\n      65 H            1.8124     1.7372    15.2140 H             1 RES     \\n      66 H            1.7201     4.9266     6.4577 H             1 RES     \\n      67 H            1.8298     5.0674    15.1832 H             1 RES     \\n      68 H            1.7277     8.3131     6.4681 H             1 RES     \\n      69 H            1.7597     8.4285    15.1305 H             1 RES     \\n      70 H            5.0531     1.6851     6.4659 H             1 RES     \\n      71 H            5.1707     1.7972    15.2129 H             1 RES     \\n      72 H            5.0679     5.0023     6.5902 H             1 RES     \\n      73 H            5.1225     5.0677    15.1704 H             1 RES     \\n      74 H            5.0489     8.3429     6.4616 H             1 RES     \\n      75 H            5.1359     8.4188    15.1191 H             1 RES     \\n      76 H            8.3026     1.6347     6.4668 H             1 RES     \\n      77 H            8.5054     1.8123    14.9772 H             1 RES     \\n      78 H            8.3307     5.0488     6.4530 H             1 RES     \\n      79 H            8.4387     5.0441    15.1315 H             1 RES     \\n      80 H            8.4282     8.3123     6.4607 H             1 RES     \\n      81 H            8.4131     8.4402    15.2308 H             1 RES     \\n      82 He           6.7303     4.2474    43.8893 He            1 RES     \\n      83 He           6.8856     4.0645    42.7136 He            1 RES     \\n      84 He           1.2824     3.9427    43.9842 He            1 RES     \\n      85 He           2.2188     3.9672    43.2342 He            1 RES     \\n      86 He           3.5722     1.8449    41.6093 He            1 RES     \\n      87 He           2.6683     1.0769    41.7915 He            1 RES     \\n      88 He           1.7662     6.5802    36.4678 He            1 RES     \\n      89 He           1.5251     5.8317    37.3742 He            1 RES     \\n      90 He           4.9796     3.3610    32.1771 He            1 RES     \\n      91 He           5.4603     2.4420    32.7808 He            1 RES     \\n      92 He           5.2676     3.0792    21.7593 He            1 RES     \\n      93 He           5.9706     3.0119    22.7295 He            1 RES     \\n      94 He           4.3670     6.1240    28.1536 He            1 RES     \\n      95 He           5.4249     5.5583    28.1823 He            1 RES     \\n      96 He           7.6919     0.9266    37.9559 He            1 RES     \\n      97 He           7.4721     0.9613    39.1350 He            1 RES     \\n      98 He           7.5490     2.3212    29.5517 He            1 RES     \\n      99 He           6.4434     2.6440    29.2149 He            1 RES     \\n     100 He           1.2522     0.3221    33.6600 He            1 RES     \\n     101 He           1.5084     0.0072    32.5308 He            1 RES     \\n     102 He           1.3671     3.0661    36.8276 He            1 RES     \\n     103 He           1.8902     3.3183    37.8778 He            1 RES     \\n     104 He           4.6176     7.6542    28.4208 He            1 RES     \\n     105 He           4.6603     6.9374    27.4593 He            1 RES     \\n     106 He           2.0356     8.0992    44.7320 He            1 RES     \\n     107 He           1.7684     8.0248    45.8995 He            1 RES     \\n     108 He           6.0888     2.8183    39.5376 He            1 RES     \\n     109 He           6.1995     2.0783    38.5994 He            1 RES     \\n     110 He           3.4940     3.2217    20.2938 He            1 RES     \\n     111 He           3.1747     3.4686    21.4239 He            1 RES     \\n     112 He           7.3621     0.9122    21.3888 He            1 RES     \\n     113 He           8.0984    -0.0034    21.6327 He            1 RES     \\n     114 He           0.0128     2.8121    34.1068 He            1 RES     \\n     115 He           0.6764     3.4635    34.8653 He            1 RES     \\n     116 He           2.8678     5.9370    33.4582 He            1 RES     \\n     117 He           3.7698     6.3906    32.8096 He            1 RES     \\n     118 He           6.6337     0.8766    26.5261 He            1 RES     \\n     119 He           6.6797     1.9977    26.9516 He            1 RES     \\n     120 He           0.8192     0.7865    39.3810 He            1 RES     \\n     121 He           0.5447     0.3946    40.4815 He            1 RES     \\n     122 He           2.8540     6.4234    42.8152 He            1 RES     \\n     123 He           3.2881     6.2479    43.9201 He            1 RES     \\n     124 He           2.1952     4.4258    38.5305 He            1 RES     \\n     125 He           2.2829     3.3012    38.9399 He            1 RES     \\n     126 He           7.6875    -0.0002    43.9584 He            1 RES     \\n     127 He           7.7006     0.9669    44.6687 He            1 RES     \\n     128 He           0.0000     5.0991    27.6569 He            1 RES     \\n     129 He           0.5242     5.8069    26.8419 He            1 RES     \\n     130 He           7.4721     6.4762    19.4901 He            1 RES     \\n     131 He           7.3721     6.0550    20.6093 He            1 RES     \\n     132 He           7.4181     3.5191    34.4736 He            1 RES     \\n     133 He           7.8943     3.2448    35.5404 He            1 RES     \\n     134 He           3.0882     5.9962    40.6418 He            1 RES     \\n     135 He           3.5931     6.8905    41.2624 He            1 RES     \\n     136 He           7.6604     5.6523    21.8212 He            1 RES     \\n     137 He           6.8207     5.9123    22.6381 He            1 RES     \\n     138 He           4.7600     2.1442    36.7679 He            1 RES     \\n     139 He           4.8744     2.6112    37.8674 He            1 RES     \\n     140 He           2.1560     2.0884    31.0481 He            1 RES     \\n     141 He           2.0999     1.8630    32.2254 He            1 RES     \\n     142 He           5.2230     3.9467    30.8844 He            1 RES     \\n     143 He           5.1271     4.5654    29.8607 He            1 RES     \\n     144 He           7.0124     4.8878    24.6841 He            1 RES     \\n     145 He           7.8458     4.4608    23.9337 He            1 RES     \\n     146 He           2.3232     6.2859    22.5103 He            1 RES     \\n     147 He           2.4506     7.4610    22.7176 He            1 RES     \\n     148 He           0.7541     4.2805    41.1864 He            1 RES     \\n     149 He           0.0416     3.5763    41.8471 He            1 RES     \\n     150 He           2.2121     7.1062    31.7844 He            1 RES     \\n     151 He           2.2257     7.0994    30.5845 He            1 RES     \\n     152 He           1.6606     3.1190    22.3824 He            1 RES     \\n     153 He           1.6455     4.3160    22.4663 He            1 RES     \\n     154 He           2.1479     3.7551    29.6414 He            1 RES     \\n     155 He           1.8829     3.0222    28.7288 He            1 RES     \\n     156 He           6.7393     6.4733    35.2172 He            1 RES     \\n     157 He           6.5999     6.4480    36.4088 He            1 RES     \\n     158 He           1.2226     2.9297    19.5398 He            1 RES     \\n     159 He           1.3747     3.0860    20.7199 He            1 RES     \\n     160 He           4.2654     2.1015    23.7696 He            1 RES     \\n     161 He           3.6694     2.1840    24.8078 He            1 RES     \\n@<TRIPOS>BOND\\n@<TRIPOS>SUBSTRUCTURE\\n       1 RES             1 RESIDUE    0 **** ROOT      0\\n\",\"mol2\");\n",
       "\tviewer_1578101109254688.setStyle({\"stick\": {\"radius\": 0.2, \"color\": \"grey\"}, \"sphere\": {\"scale\": 0.3, \"colorscheme\": {}}});\n",
       "\tviewer_1578101109254688.zoomTo();\n",
       "viewer_1578101109254688.render();\n",
       "});\n",
       "</script>"
      ]
     },
     "metadata": {},
     "output_type": "display_data"
    },
    {
     "data": {
      "text/plain": [
       "<py3Dmol.view at 0x122ee9dc0>"
      ]
     },
     "execution_count": 61,
     "metadata": {},
     "output_type": "execute_result"
    }
   ],
   "source": [
    "output = mb.load(\"POSCAR.xyz\")\n",
    "output.visualize()"
   ]
  },
  {
   "cell_type": "code",
   "execution_count": 62,
   "metadata": {},
   "outputs": [
    {
     "name": "stdout",
     "output_type": "stream",
     "text": [
      " # UN_100\r\n",
      "1.000000\r\n",
      "      9.93359971        0.00000000        0.00000000\r\n",
      "      0.00000000        9.93359971        0.00000000\r\n",
      "      0.00000000        0.00000000       48.24479961\r\n",
      "    81      80\r\n",
      "Selective dynamics\r\n",
      "Cartesian\r\n",
      "      0.00000000        0.00000000        0.00000000 F F F\r\n",
      "      0.13222421        0.11509544        8.48148693 T T T\r\n"
     ]
    }
   ],
   "source": [
    "!head POSCAR"
   ]
  },
  {
   "cell_type": "code",
   "execution_count": 63,
   "metadata": {},
   "outputs": [
    {
     "name": "stdout",
     "output_type": "stream",
     "text": [
      " # UN_100\r\n",
      "1.000000\r\n",
      "      9.93359971        0.00000000        0.00000000\r\n",
      "      0.00000000        9.93359971        0.00000000\r\n",
      "      0.00000000        0.00000000       48.24479961\r\n",
      "Nb O\r\n",
      "    81      80\r\n",
      "Selective dynamics\r\n",
      "Cartesian\r\n",
      "      0.00000000        0.00000000        0.00000000 F F F\r\n"
     ]
    }
   ],
   "source": [
    "!sed -i '' '6i\\ '$'\\n Nb O'$'\\n ' POSCAR\n",
    "!head POSCAR"
   ]
  },
  {
   "cell_type": "code",
   "execution_count": null,
   "metadata": {},
   "outputs": [],
   "source": []
  },
  {
   "cell_type": "code",
   "execution_count": null,
   "metadata": {},
   "outputs": [],
   "source": []
  }
 ],
 "metadata": {
  "kernelspec": {
   "display_name": "Python 3",
   "language": "python",
   "name": "python3"
  },
  "language_info": {
   "codemirror_mode": {
    "name": "ipython",
    "version": 3
   },
   "file_extension": ".py",
   "mimetype": "text/x-python",
   "name": "python",
   "nbconvert_exporter": "python",
   "pygments_lexer": "ipython3",
   "version": "3.8.0"
  }
 },
 "nbformat": 4,
 "nbformat_minor": 4
}
