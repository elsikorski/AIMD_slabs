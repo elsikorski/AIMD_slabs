{
 "cells": [
  {
   "cell_type": "code",
   "execution_count": 1,
   "metadata": {
    "jupyter": {
     "outputs_hidden": false
    }
   },
   "outputs": [],
   "source": [
    "# Run me\n",
    "\n",
    "from __future__ import print_function\n",
    "\n",
    "import mbuild as mb\n",
    "from mbuild.lib.moieties import H2O\n",
    "from mbuild.examples import Ethane\n",
    "\n",
    "\n",
    "ethane = Ethane()\n",
    "water = H2O()\n",
    "\n",
    "\n",
    "from mbuild.formats.vasp import write_poscar\n",
    "\n",
    "class O2(mb.Compound):\n",
    "    def __init__(self):\n",
    "        super(O2, self).__init__()\n",
    "        oxygen = mb.Particle(name='O')\n",
    "        self.add(oxygen)\n",
    "\n",
    "       \n",
    "        self.add(mb.Particle(name='O', pos=[0, 0, 0.12]))\n",
    "\n",
    "        self.add_bond((self[0], self[1]))\n",
    "        \n",
    "o2 = O2()"
   ]
  },
  {
   "cell_type": "code",
   "execution_count": 73,
   "metadata": {},
   "outputs": [
    {
     "data": {
      "application/3dmoljs_load.v0": "<div id=\"3dmolviewer_1575421891946068\"  style=\"position: relative; width: 640px; height: 480px\">\n        <p id=\"3dmolwarning_1575421891946068\" style=\"background-color:#ffcccc;color:black\">You appear to be running in JupyterLab (or JavaScript failed to load for some other reason).  You need to install the 3dmol extension: <br>\n        <tt>jupyter labextension install jupyterlab_3dmol</tt></p>\n        </div>\n<script>\n\nvar loadScriptAsync = function(uri){\n  return new Promise((resolve, reject) => {\n    var tag = document.createElement('script');\n    tag.src = uri;\n    tag.async = true;\n    tag.onload = () => {\n      resolve();\n    };\n  var firstScriptTag = document.getElementsByTagName('script')[0];\n  firstScriptTag.parentNode.insertBefore(tag, firstScriptTag);\n});\n};\n\nif(typeof $3Dmolpromise === 'undefined') {\n$3Dmolpromise = null;\n  $3Dmolpromise = loadScriptAsync('https://3dmol.csb.pitt.edu/build/3Dmol.js');\n}\n\nvar viewer_1575421891946068 = null;\nvar warn = document.getElementById(\"3dmolwarning_1575421891946068\");\nif(warn) {\n    warn.parentNode.removeChild(warn);\n}\n$3Dmolpromise.then(function() {\nviewer_1575421891946068 = $3Dmol.createViewer($(\"#3dmolviewer_1575421891946068\"),{backgroundColor:\"white\"});\n\tviewer_1575421891946068.addModel(\"@<TRIPOS>MOLECULE\\nRES\\n24 16 1 0 1\\nSMALL\\nNO_CHARGES\\n@<TRIPOS>CRYSIN\\n   17.0000    17.0000    10.0000    90.0000    90.0000    90.0000  1  1\\n@<TRIPOS>ATOM\\n       1 O            5.4352     8.2768     4.5662 O             1 RES     \\n       2 H            4.9400     7.4087     4.5646 H             1 RES     \\n       3 H            4.7818     9.0340     4.5535 H             1 RES     \\n       4 O            1.7109     7.3639     3.1879 O             1 RES     \\n       5 H            2.7023     7.2453     3.2304 H             1 RES     \\n       6 H            1.2721     6.4715     3.0807 H             1 RES     \\n       7 O            7.0241    11.1183     4.4074 O             1 RES     \\n       8 H            7.7829    10.4723     4.3329 H             1 RES     \\n       9 H            6.1586    10.6327     4.2823 H             1 RES     \\n      10 O            9.3329     4.6669     4.3718 O             1 RES     \\n      11 H            8.5766     4.0279     4.2360 H             1 RES     \\n      12 H            9.9726     4.5948     3.6063 H             1 RES     \\n      13 O            5.3167     7.9443     0.5547 O             1 RES     \\n      14 H            5.7494     7.6895     1.4187 H             1 RES     \\n      15 H            4.7406     8.7499     0.6945 H             1 RES     \\n      16 O            6.2627     5.3974     3.3576 O             1 RES     \\n      17 H            6.4738     5.1792     4.3097 H             1 RES     \\n      18 H            5.3358     5.0893     3.1420 H             1 RES     \\n      19 O            1.7918     5.2060     1.5385 O             1 RES     \\n      20 H            2.2632     6.0287     1.8542 H             1 RES     \\n      21 H            0.8249     5.4125     1.3870 H             1 RES     \\n      22 O           11.1993    11.1252     3.3812 O             1 RES     \\n      23 H           12.0012    11.7205     3.4182 H             1 RES     \\n      24 H           10.4112    11.6465     3.0532 H             1 RES     \\n@<TRIPOS>BOND\\n       1       19       20 1\\n       2       18       16 1\\n       3        6        4 1\\n       4       24       22 1\\n       5        1        2 1\\n       6       23       22 1\\n       7       12       10 1\\n       8       15       13 1\\n       9        5        4 1\\n      10       19       21 1\\n      11       11       10 1\\n      12       14       13 1\\n      13        7        9 1\\n      14        1        3 1\\n      15       17       16 1\\n      16        7        8 1\\n@<TRIPOS>SUBSTRUCTURE\\n       1 RES             1 RESIDUE    0 **** ROOT      0\\n\",\"mol2\");\n\tviewer_1575421891946068.setStyle({\"stick\": {\"radius\": 0.2, \"color\": \"grey\"}, \"sphere\": {\"scale\": 0.3, \"colorscheme\": {}}});\n\tviewer_1575421891946068.zoomTo();\nviewer_1575421891946068.render();\n});\n</script>",
      "text/html": [
       "<div id=\"3dmolviewer_1575421891946068\"  style=\"position: relative; width: 640px; height: 480px\">\n",
       "        <p id=\"3dmolwarning_1575421891946068\" style=\"background-color:#ffcccc;color:black\">You appear to be running in JupyterLab (or JavaScript failed to load for some other reason).  You need to install the 3dmol extension: <br>\n",
       "        <tt>jupyter labextension install jupyterlab_3dmol</tt></p>\n",
       "        </div>\n",
       "<script>\n",
       "\n",
       "var loadScriptAsync = function(uri){\n",
       "  return new Promise((resolve, reject) => {\n",
       "    var tag = document.createElement('script');\n",
       "    tag.src = uri;\n",
       "    tag.async = true;\n",
       "    tag.onload = () => {\n",
       "      resolve();\n",
       "    };\n",
       "  var firstScriptTag = document.getElementsByTagName('script')[0];\n",
       "  firstScriptTag.parentNode.insertBefore(tag, firstScriptTag);\n",
       "});\n",
       "};\n",
       "\n",
       "if(typeof $3Dmolpromise === 'undefined') {\n",
       "$3Dmolpromise = null;\n",
       "  $3Dmolpromise = loadScriptAsync('https://3dmol.csb.pitt.edu/build/3Dmol.js');\n",
       "}\n",
       "\n",
       "var viewer_1575421891946068 = null;\n",
       "var warn = document.getElementById(\"3dmolwarning_1575421891946068\");\n",
       "if(warn) {\n",
       "    warn.parentNode.removeChild(warn);\n",
       "}\n",
       "$3Dmolpromise.then(function() {\n",
       "viewer_1575421891946068 = $3Dmol.createViewer($(\"#3dmolviewer_1575421891946068\"),{backgroundColor:\"white\"});\n",
       "\tviewer_1575421891946068.addModel(\"@<TRIPOS>MOLECULE\\nRES\\n24 16 1 0 1\\nSMALL\\nNO_CHARGES\\n@<TRIPOS>CRYSIN\\n   17.0000    17.0000    10.0000    90.0000    90.0000    90.0000  1  1\\n@<TRIPOS>ATOM\\n       1 O            5.4352     8.2768     4.5662 O             1 RES     \\n       2 H            4.9400     7.4087     4.5646 H             1 RES     \\n       3 H            4.7818     9.0340     4.5535 H             1 RES     \\n       4 O            1.7109     7.3639     3.1879 O             1 RES     \\n       5 H            2.7023     7.2453     3.2304 H             1 RES     \\n       6 H            1.2721     6.4715     3.0807 H             1 RES     \\n       7 O            7.0241    11.1183     4.4074 O             1 RES     \\n       8 H            7.7829    10.4723     4.3329 H             1 RES     \\n       9 H            6.1586    10.6327     4.2823 H             1 RES     \\n      10 O            9.3329     4.6669     4.3718 O             1 RES     \\n      11 H            8.5766     4.0279     4.2360 H             1 RES     \\n      12 H            9.9726     4.5948     3.6063 H             1 RES     \\n      13 O            5.3167     7.9443     0.5547 O             1 RES     \\n      14 H            5.7494     7.6895     1.4187 H             1 RES     \\n      15 H            4.7406     8.7499     0.6945 H             1 RES     \\n      16 O            6.2627     5.3974     3.3576 O             1 RES     \\n      17 H            6.4738     5.1792     4.3097 H             1 RES     \\n      18 H            5.3358     5.0893     3.1420 H             1 RES     \\n      19 O            1.7918     5.2060     1.5385 O             1 RES     \\n      20 H            2.2632     6.0287     1.8542 H             1 RES     \\n      21 H            0.8249     5.4125     1.3870 H             1 RES     \\n      22 O           11.1993    11.1252     3.3812 O             1 RES     \\n      23 H           12.0012    11.7205     3.4182 H             1 RES     \\n      24 H           10.4112    11.6465     3.0532 H             1 RES     \\n@<TRIPOS>BOND\\n       1       19       20 1\\n       2       18       16 1\\n       3        6        4 1\\n       4       24       22 1\\n       5        1        2 1\\n       6       23       22 1\\n       7       12       10 1\\n       8       15       13 1\\n       9        5        4 1\\n      10       19       21 1\\n      11       11       10 1\\n      12       14       13 1\\n      13        7        9 1\\n      14        1        3 1\\n      15       17       16 1\\n      16        7        8 1\\n@<TRIPOS>SUBSTRUCTURE\\n       1 RES             1 RESIDUE    0 **** ROOT      0\\n\",\"mol2\");\n",
       "\tviewer_1575421891946068.setStyle({\"stick\": {\"radius\": 0.2, \"color\": \"grey\"}, \"sphere\": {\"scale\": 0.3, \"colorscheme\": {}}});\n",
       "\tviewer_1575421891946068.zoomTo();\n",
       "viewer_1575421891946068.render();\n",
       "});\n",
       "</script>"
      ]
     },
     "metadata": {},
     "output_type": "display_data"
    },
    {
     "data": {
      "text/plain": [
       "<py3Dmol.view at 0x11c523130>"
      ]
     },
     "execution_count": 73,
     "metadata": {},
     "output_type": "execute_result"
    }
   ],
   "source": [
    "solvate_box = [1.7,1.7,1]\n",
    "\n",
    "solvate_test = mb.packing.fill_box(compound=water, n_compounds=8, box= solvate_box, density=None, \n",
    "                    overlap=0.15, seed=12345, edge=0.5)\n",
    "\n",
    "#solvate_test = mb.packing.fill_box(compound=[o2, water], n_compounds=[5,5], box= solvate_box, density=None, \n",
    "#                    overlap=0.5, seed=12345, edge=0.5)\n",
    "\n",
    "solvate_test.visualize()"
   ]
  },
  {
   "cell_type": "code",
   "execution_count": 74,
   "metadata": {},
   "outputs": [
    {
     "name": "stdout",
     "output_type": "stream",
     "text": [
      "heck\n"
     ]
    }
   ],
   "source": [
    "write_poscar(solvate_test, \"POSCAR\",1,bravais=[[9.82850,0,0],\n",
    "    [0,13.89990,0],[0,0,5]], coord='cartesian')\n"
   ]
  },
  {
   "cell_type": "code",
   "execution_count": 75,
   "metadata": {},
   "outputs": [
    {
     "name": "stdout",
     "output_type": "stream",
     "text": [
      "  _________________________________________\r\n",
      " |      o---o                     O        |\r\n",
      " |     o---o|   _____________     |        |\r\n",
      " |     |   |o    A T O M S K     ,0;-o     |\r\n",
      " |     o---o                   o'   'O     |\r\n",
      " |   Version Beta-0.10.6                   |\r\n",
      " |   (C) 2010 Pierre Hirel                 |\r\n",
      " |_________________________________________|\r\n",
      " >>> Opening the input file: POSCAR\r\n",
      " ..> Input file was read successfully (24 atoms).\r\n",
      " >>> Shifting all atoms by (0.000,0.000,-28.000)\r\n",
      " ..> 24 atoms were shifted.\r\n",
      " >>> Writing output file(s) (24 atoms):\r\n",
      " ..> Successfully wrote POSCAR file: POSCAR\r\n",
      " \\o/ Program terminated successfully!\r\n",
      "     Total time: 0.003 s.; CPU time: 0.003 s.\r\n"
     ]
    }
   ],
   "source": [
    "\n",
    "!atomsk POSCAR -shift 0.0 0.0 -28 CONTCAR -ow"
   ]
  },
  {
   "cell_type": "code",
   "execution_count": 76,
   "metadata": {},
   "outputs": [
    {
     "name": "stdout",
     "output_type": "stream",
     "text": [
      "  _________________________________________\r\n",
      " |      o---o                     O        |\r\n",
      " |     o---o|   _____________     |        |\r\n",
      " |     |   |o    A T O M S K     ,0;-o     |\r\n",
      " |     o---o                   o'   'O     |\r\n",
      " |   Version Beta-0.10.6                   |\r\n",
      " |   (C) 2010 Pierre Hirel                 |\r\n",
      " |_________________________________________|\r\n",
      " >>> Concatenating the systems along z...\r\n",
      " >>> Opening the input file: CONTCAR_oxidized\r\n",
      " ..> Input file was read successfully (148 atoms).\r\n",
      " >>> Opening the input file: POSCAR\r\n",
      " ..> Input file was read successfully (24 atoms).\r\n",
      " ..> 2 systems were merged.\r\n",
      " >>> Writing output file(s) (172 atoms):\r\n",
      " ..> Successfully wrote POSCAR file: POSCAR\r\n",
      " \\o/ Program terminated successfully!\r\n",
      "     Total time: 0.008 s.; CPU time: 0.007 s.\r\n"
     ]
    }
   ],
   "source": [
    "!atomsk --merge z 2 CONTCAR_oxidized POSCAR CONTCAR -ow\n",
    "\n"
   ]
  },
  {
   "cell_type": "code",
   "execution_count": 77,
   "metadata": {},
   "outputs": [
    {
     "name": "stdout",
     "output_type": "stream",
     "text": [
      "  _________________________________________\r\n",
      " |      o---o                     O        |\r\n",
      " |     o---o|   _____________     |        |\r\n",
      " |     |   |o    A T O M S K     ,0;-o     |\r\n",
      " |     o---o                   o'   'O     |\r\n",
      " |   Version Beta-0.10.6                   |\r\n",
      " |   (C) 2010 Pierre Hirel                 |\r\n",
      " |_________________________________________|\r\n",
      " >>> Opening the input file: POSCAR\r\n",
      " ..> Input file was read successfully (172 atoms).\r\n",
      " >>> Writing output file(s) (172 atoms):\r\n",
      " ..> Successfully wrote XYZ file: POSCAR.xyz\r\n",
      " \\o/ Program terminated successfully!\r\n",
      "     Total time: 0.007 s.; CPU time: 0.007 s.\r\n"
     ]
    }
   ],
   "source": [
    "!atomsk POSCAR xyz -ow"
   ]
  },
  {
   "cell_type": "code",
   "execution_count": 78,
   "metadata": {},
   "outputs": [
    {
     "data": {
      "application/3dmoljs_load.v0": "<div id=\"3dmolviewer_1575421894585404\"  style=\"position: relative; width: 640px; height: 480px\">\n        <p id=\"3dmolwarning_1575421894585404\" style=\"background-color:#ffcccc;color:black\">You appear to be running in JupyterLab (or JavaScript failed to load for some other reason).  You need to install the 3dmol extension: <br>\n        <tt>jupyter labextension install jupyterlab_3dmol</tt></p>\n        </div>\n<script>\n\nvar loadScriptAsync = function(uri){\n  return new Promise((resolve, reject) => {\n    var tag = document.createElement('script');\n    tag.src = uri;\n    tag.async = true;\n    tag.onload = () => {\n      resolve();\n    };\n  var firstScriptTag = document.getElementsByTagName('script')[0];\n  firstScriptTag.parentNode.insertBefore(tag, firstScriptTag);\n});\n};\n\nif(typeof $3Dmolpromise === 'undefined') {\n$3Dmolpromise = null;\n  $3Dmolpromise = loadScriptAsync('https://3dmol.csb.pitt.edu/build/3Dmol.js');\n}\n\nvar viewer_1575421894585404 = null;\nvar warn = document.getElementById(\"3dmolwarning_1575421894585404\");\nif(warn) {\n    warn.parentNode.removeChild(warn);\n}\n$3Dmolpromise.then(function() {\nviewer_1575421894585404 = $3Dmol.createViewer($(\"#3dmolviewer_1575421894585404\"),{backgroundColor:\"white\"});\n\tviewer_1575421894585404.addModel(\"@<TRIPOS>MOLECULE\\nRES\\n172 0 1 0 1\\nSMALL\\nNO_CHARGES\\n@<TRIPOS>CRYSIN\\n   16.8038    16.6572    36.4238    90.0000    90.0000    90.0000  1  1\\n@<TRIPOS>ATOM\\n       1 H            3.6858     1.2286     1.2463 H             1 RES     \\n       2 H            3.7864     1.2642    10.9068 H             1 RES     \\n       3 H            3.6919     1.2588     6.1807 H             1 RES     \\n       4 H            3.9356     1.4489    15.7478 H             1 RES     \\n       5 H            3.6858     6.1429     1.2463 H             1 RES     \\n       6 H            3.8027     6.1989    11.0286 H             1 RES     \\n       7 H            3.6385     6.2074     6.1655 H             1 RES     \\n       8 H            3.7093     6.1566    15.9519 H             1 RES     \\n       9 H            8.6001     1.2286     1.2463 H             1 RES     \\n      10 H            8.7019     1.3535    10.9606 H             1 RES     \\n      11 H            8.6008     1.1260     6.1075 H             1 RES     \\n      12 H            8.6044     1.0923    15.9174 H             1 RES     \\n      13 H            8.6001     6.1429     1.2463 H             1 RES     \\n      14 H            8.7721     6.2571    10.9180 H             1 RES     \\n      15 H            8.5438     6.0220     6.1589 H             1 RES     \\n      16 H            8.5978     5.9521    15.5285 H             1 RES     \\n      17 H            1.2286     3.6858     1.2463 H             1 RES     \\n      18 H            1.3729     3.8370    10.8905 H             1 RES     \\n      19 H            1.1919     3.7293     6.0643 H             1 RES     \\n      20 H            1.1049     3.7670    16.0190 H             1 RES     \\n      21 H            1.2286     8.6001     1.2463 H             1 RES     \\n      22 H            1.4168     8.7395    10.9868 H             1 RES     \\n      23 H            1.2453     8.6532     6.1166 H             1 RES     \\n      24 H            1.5629     8.7433    15.9119 H             1 RES     \\n      25 H            6.1429     3.6858     1.2463 H             1 RES     \\n      26 H            6.2863     3.7157    10.9992 H             1 RES     \\n      27 H            6.1125     3.6598     6.0575 H             1 RES     \\n      28 H            6.2412     3.7186    16.0967 H             1 RES     \\n      29 H            6.1429     8.6001     1.2463 H             1 RES     \\n      30 H            6.3033     8.5951    10.9997 H             1 RES     \\n      31 H            6.1844     8.5875     6.1553 H             1 RES     \\n      32 H            6.3338     8.6386    15.6057 H             1 RES     \\n      33 H            1.2286     1.2286     3.7053 H             1 RES     \\n      34 H            1.2971     1.2437    13.3689 H             1 RES     \\n      35 H            1.2515     1.3412     8.5942 H             1 RES     \\n      36 H            0.8228     1.2729    18.2829 H             1 RES     \\n      37 H            1.2286     6.1429     3.7053 H             1 RES     \\n      38 H            1.3291     6.1850    13.3760 H             1 RES     \\n      39 H            1.3429     6.2847     8.5462 H             1 RES     \\n      40 H            1.1008     6.9635    18.0187 H             1 RES     \\n      41 H            6.1429     1.2286     3.7053 H             1 RES     \\n      42 H            6.2516     1.2835    13.4915 H             1 RES     \\n      43 H            6.1808     1.2110     8.6219 H             1 RES     \\n      44 H            6.4563     1.4311    18.0933 H             1 RES     \\n      45 H            6.1429     6.1429     3.7053 H             1 RES     \\n      46 H            6.2405     6.3296    13.4113 H             1 RES     \\n      47 H            6.2169     6.0907     8.4658 H             1 RES     \\n      48 H            5.5038     5.8469    18.0822 H             1 RES     \\n      49 H            3.6858     3.6858     3.7053 H             1 RES     \\n      50 H            3.7065     3.7953    13.2857 H             1 RES     \\n      51 H            3.6871     3.7104     8.5273 H             1 RES     \\n      52 H            4.0086     3.4955    17.9748 H             1 RES     \\n      53 H            3.6857     8.6001     3.7053 H             1 RES     \\n      54 H            3.8682     8.7258    13.4078 H             1 RES     \\n      55 H            3.7275     8.5977     8.6282 H             1 RES     \\n      56 H            4.1770     9.0476    18.2038 H             1 RES     \\n      57 H            8.6001     3.6858     3.7053 H             1 RES     \\n      58 H            8.6406     3.6387    13.5529 H             1 RES     \\n      59 H            8.6124     3.7306     8.5287 H             1 RES     \\n      60 H            8.9395     4.4137    18.4034 H             1 RES     \\n      61 H            8.6001     8.6001     3.7053 H             1 RES     \\n      62 H            8.7267     8.7006    13.4331 H             1 RES     \\n      63 H            8.6340     8.6686     8.5391 H             1 RES     \\n      64 H            7.6408     7.8050    17.9881 H             1 RES     \\n      65 He           1.2286     1.2286     1.2463 He            1 RES     \\n      66 He           1.3715     1.3816    11.0128 He            1 RES     \\n      67 He           1.1978     1.3051     6.1579 He            1 RES     \\n      68 He           1.0896     1.2521    15.9878 He            1 RES     \\n      69 He           1.2286     6.1429     1.2463 He            1 RES     \\n      70 He           1.4068     6.2790    11.0225 He            1 RES     \\n      71 He           1.1755     6.1903     6.0807 He            1 RES     \\n      72 He           1.3114     6.3074    15.9599 He            1 RES     \\n      73 He           6.1429     1.2286     1.2463 He            1 RES     \\n      74 He           6.1913     1.2964    10.9751 He            1 RES     \\n      75 He           6.1755     1.2303     6.1641 He            1 RES     \\n      76 He           6.2712     1.2628    15.9724 He            1 RES     \\n      77 He           6.1429     6.1429     1.2463 He            1 RES     \\n      78 He           6.2051     6.1449    10.9283 He            1 RES     \\n      79 He           6.0962     6.1403     6.1461 He            1 RES     \\n      80 He           6.2124     6.2418    15.9879 He            1 RES     \\n      81 He           3.6858     3.6858     1.2463 He            1 RES     \\n      82 He           3.7933     3.7104    10.9727 He            1 RES     \\n      83 He           3.6625     3.7725     6.1067 He            1 RES     \\n      84 He           3.6572     3.5931    15.7187 He            1 RES     \\n      85 He           3.6857     8.6001     1.2463 He            1 RES     \\n      86 He           3.8215     8.6953    10.9609 He            1 RES     \\n      87 He           3.7358     8.6218     6.1948 He            1 RES     \\n      88 He           3.8985     8.7381    16.0018 He            1 RES     \\n      89 He           8.6001     3.6858     1.2463 He            1 RES     \\n      90 He           8.7193     3.7311    10.9859 He            1 RES     \\n      91 He           8.5512     3.5962     6.0633 He            1 RES     \\n      92 He           8.7443     3.7854    16.1177 He            1 RES     \\n      93 He           8.6001     8.6001     1.2463 He            1 RES     \\n      94 He           8.7738     8.7806    10.9087 He            1 RES     \\n      95 He           8.6185     8.4947     6.1187 He            1 RES     \\n      96 He           8.7690     8.5546    15.8832 He            1 RES     \\n      97 He           1.2286     3.6858     3.7034 He            1 RES     \\n      98 He           1.1442     3.6573    13.3572 He            1 RES     \\n      99 He           1.2076     3.7792     8.4537 He            1 RES     \\n     100 He           0.5014     3.0695    19.4398 He            1 RES     \\n     101 He           1.2286     8.6001     3.7034 He            1 RES     \\n     102 He           1.3932     8.7741    13.3485 He            1 RES     \\n     103 He           1.2631     8.7207     8.5297 He            1 RES     \\n     104 He           1.7677     9.0316    18.8702 He            1 RES     \\n     105 He           6.1429     3.6858     3.7034 He            1 RES     \\n     106 He           6.2884     3.6988    13.4551 He            1 RES     \\n     107 He           6.2091     3.6660     8.4768 He            1 RES     \\n     108 He           6.2589     3.6663    18.3967 He            1 RES     \\n     109 He           6.1429     8.6001     3.7034 He            1 RES     \\n     110 He           6.3289     8.6825    13.4084 He            1 RES     \\n     111 He           6.2416     8.5915     8.6284 He            1 RES     \\n     112 He           5.7949     7.6560    19.3095 He            1 RES     \\n     113 He           3.6858     1.2286     3.7034 He            1 RES     \\n     114 He           3.8323     1.3080    13.3765 He            1 RES     \\n     115 He           3.6575     1.2351     8.5516 He            1 RES     \\n     116 He           4.2539     1.3593    19.3444 He            1 RES     \\n     117 He           3.6858     6.1429     3.7034 He            1 RES     \\n     118 He           3.8570     6.2540    13.3730 He            1 RES     \\n     119 He           3.7484     6.1209     8.5423 He            1 RES     \\n     120 He           3.4050     5.6907    18.2703 He            1 RES     \\n     121 He           8.6001     1.2286     3.7034 He            1 RES     \\n     122 He           8.7484     1.2739    13.4197 He            1 RES     \\n     123 He           8.7103     1.3202     8.5886 He            1 RES     \\n     124 He           8.2258     0.2771    18.9377 He            1 RES     \\n     125 He           8.6001     6.1429     3.7034 He            1 RES     \\n     126 He           8.6551     6.1831    13.2906 He            1 RES     \\n     127 He           8.7740     6.1689     8.5488 He            1 RES     \\n     128 He           9.0620     6.4595    19.3302 He            1 RES     \\n     129 Li           7.2443     6.3500    20.3034 Li            1 RES     \\n     130 Li           8.5605     1.7064    20.5685 Li            1 RES     \\n     131 Li           2.4014     2.4736    20.5680 Li            1 RES     \\n     132 Li           5.6363     2.8625    20.1920 Li            1 RES     \\n     133 Li           1.9059     8.7004    25.9748 Li            1 RES     \\n     134 Li           6.2421     9.5794    20.2425 Li            1 RES     \\n     135 Li           1.9194     4.7554    19.5454 Li            1 RES     \\n     136 Li           9.6469     5.2111    21.1050 Li            1 RES     \\n     137 Li           3.9086     6.6727    20.3361 Li            1 RES     \\n     138 Li           9.5911     3.3081    32.3284 Li            1 RES     \\n     139 Li           9.7058     8.4344    19.7450 Li            1 RES     \\n     140 Li           3.0991     0.0632    20.4592 Li            1 RES     \\n     141 Be           2.5909     9.3416    26.5230 Be            1 RES     \\n     142 Be           0.1973     2.8574    31.4408 Be            1 RES     \\n     143 Be           7.9072     1.7514    21.2609 Be            1 RES     \\n     144 Be           8.7608     2.9854    32.6700 Be            1 RES     \\n     145 Be           8.9157     5.2569    21.7579 Be            1 RES     \\n     146 Be           2.6687     3.3850    20.8815 Be            1 RES     \\n     147 Be           2.1804     8.9385    25.0363 Be            1 RES     \\n     148 Be           3.0256     6.8176    20.7053 Be            1 RES     \\n     149 Be           4.9400     7.4087    26.2216 Be            1 RES     \\n     150 Be           4.7818     9.0340    26.2105 Be            1 RES     \\n     151 Be           2.7023     7.2453    24.8874 Be            1 RES     \\n     152 Be           1.2721     6.4715    24.7377 Be            1 RES     \\n     153 Be           7.7829    10.4723    25.9899 Be            1 RES     \\n     154 Be           6.1586    10.6327    25.9393 Be            1 RES     \\n     155 Be           8.5766     4.0279    25.8930 Be            1 RES     \\n     156 Be           9.9726     4.5948    25.2633 Be            1 RES     \\n     157 Be           5.7494     7.6895    23.0757 Be            1 RES     \\n     158 Be           4.7406     8.7499    22.3515 Be            1 RES     \\n     159 Be           6.4738     5.1792    25.9667 Be            1 RES     \\n     160 Be           5.3358     5.0893    24.7990 Be            1 RES     \\n     161 Be           2.2632     6.0287    23.5112 Be            1 RES     \\n     162 Be           0.8249     5.4125    23.0440 Be            1 RES     \\n     163 Be          12.0012    11.7205    25.0752 Be            1 RES     \\n     164 Be          10.4112    11.6465    24.7102 Be            1 RES     \\n     165 B            5.4352     8.2768    26.2232 B             1 RES     \\n     166 B            1.7109     7.3639    24.8449 B             1 RES     \\n     167 B            7.0241    11.1183    26.0644 B             1 RES     \\n     168 B            9.3329     4.6669    26.0288 B             1 RES     \\n     169 B            5.3167     7.9443    22.2117 B             1 RES     \\n     170 B            6.2627     5.3974    25.0146 B             1 RES     \\n     171 B            1.7918     5.2060    23.1954 B             1 RES     \\n     172 B           11.1993    11.1252    25.0382 B             1 RES     \\n@<TRIPOS>BOND\\n@<TRIPOS>SUBSTRUCTURE\\n       1 RES             1 RESIDUE    0 **** ROOT      0\\n\",\"mol2\");\n\tviewer_1575421894585404.setStyle({\"stick\": {\"radius\": 0.2, \"color\": \"grey\"}, \"sphere\": {\"scale\": 0.3, \"colorscheme\": {}}});\n\tviewer_1575421894585404.zoomTo();\nviewer_1575421894585404.render();\n});\n</script>",
      "text/html": [
       "<div id=\"3dmolviewer_1575421894585404\"  style=\"position: relative; width: 640px; height: 480px\">\n",
       "        <p id=\"3dmolwarning_1575421894585404\" style=\"background-color:#ffcccc;color:black\">You appear to be running in JupyterLab (or JavaScript failed to load for some other reason).  You need to install the 3dmol extension: <br>\n",
       "        <tt>jupyter labextension install jupyterlab_3dmol</tt></p>\n",
       "        </div>\n",
       "<script>\n",
       "\n",
       "var loadScriptAsync = function(uri){\n",
       "  return new Promise((resolve, reject) => {\n",
       "    var tag = document.createElement('script');\n",
       "    tag.src = uri;\n",
       "    tag.async = true;\n",
       "    tag.onload = () => {\n",
       "      resolve();\n",
       "    };\n",
       "  var firstScriptTag = document.getElementsByTagName('script')[0];\n",
       "  firstScriptTag.parentNode.insertBefore(tag, firstScriptTag);\n",
       "});\n",
       "};\n",
       "\n",
       "if(typeof $3Dmolpromise === 'undefined') {\n",
       "$3Dmolpromise = null;\n",
       "  $3Dmolpromise = loadScriptAsync('https://3dmol.csb.pitt.edu/build/3Dmol.js');\n",
       "}\n",
       "\n",
       "var viewer_1575421894585404 = null;\n",
       "var warn = document.getElementById(\"3dmolwarning_1575421894585404\");\n",
       "if(warn) {\n",
       "    warn.parentNode.removeChild(warn);\n",
       "}\n",
       "$3Dmolpromise.then(function() {\n",
       "viewer_1575421894585404 = $3Dmol.createViewer($(\"#3dmolviewer_1575421894585404\"),{backgroundColor:\"white\"});\n",
       "\tviewer_1575421894585404.addModel(\"@<TRIPOS>MOLECULE\\nRES\\n172 0 1 0 1\\nSMALL\\nNO_CHARGES\\n@<TRIPOS>CRYSIN\\n   16.8038    16.6572    36.4238    90.0000    90.0000    90.0000  1  1\\n@<TRIPOS>ATOM\\n       1 H            3.6858     1.2286     1.2463 H             1 RES     \\n       2 H            3.7864     1.2642    10.9068 H             1 RES     \\n       3 H            3.6919     1.2588     6.1807 H             1 RES     \\n       4 H            3.9356     1.4489    15.7478 H             1 RES     \\n       5 H            3.6858     6.1429     1.2463 H             1 RES     \\n       6 H            3.8027     6.1989    11.0286 H             1 RES     \\n       7 H            3.6385     6.2074     6.1655 H             1 RES     \\n       8 H            3.7093     6.1566    15.9519 H             1 RES     \\n       9 H            8.6001     1.2286     1.2463 H             1 RES     \\n      10 H            8.7019     1.3535    10.9606 H             1 RES     \\n      11 H            8.6008     1.1260     6.1075 H             1 RES     \\n      12 H            8.6044     1.0923    15.9174 H             1 RES     \\n      13 H            8.6001     6.1429     1.2463 H             1 RES     \\n      14 H            8.7721     6.2571    10.9180 H             1 RES     \\n      15 H            8.5438     6.0220     6.1589 H             1 RES     \\n      16 H            8.5978     5.9521    15.5285 H             1 RES     \\n      17 H            1.2286     3.6858     1.2463 H             1 RES     \\n      18 H            1.3729     3.8370    10.8905 H             1 RES     \\n      19 H            1.1919     3.7293     6.0643 H             1 RES     \\n      20 H            1.1049     3.7670    16.0190 H             1 RES     \\n      21 H            1.2286     8.6001     1.2463 H             1 RES     \\n      22 H            1.4168     8.7395    10.9868 H             1 RES     \\n      23 H            1.2453     8.6532     6.1166 H             1 RES     \\n      24 H            1.5629     8.7433    15.9119 H             1 RES     \\n      25 H            6.1429     3.6858     1.2463 H             1 RES     \\n      26 H            6.2863     3.7157    10.9992 H             1 RES     \\n      27 H            6.1125     3.6598     6.0575 H             1 RES     \\n      28 H            6.2412     3.7186    16.0967 H             1 RES     \\n      29 H            6.1429     8.6001     1.2463 H             1 RES     \\n      30 H            6.3033     8.5951    10.9997 H             1 RES     \\n      31 H            6.1844     8.5875     6.1553 H             1 RES     \\n      32 H            6.3338     8.6386    15.6057 H             1 RES     \\n      33 H            1.2286     1.2286     3.7053 H             1 RES     \\n      34 H            1.2971     1.2437    13.3689 H             1 RES     \\n      35 H            1.2515     1.3412     8.5942 H             1 RES     \\n      36 H            0.8228     1.2729    18.2829 H             1 RES     \\n      37 H            1.2286     6.1429     3.7053 H             1 RES     \\n      38 H            1.3291     6.1850    13.3760 H             1 RES     \\n      39 H            1.3429     6.2847     8.5462 H             1 RES     \\n      40 H            1.1008     6.9635    18.0187 H             1 RES     \\n      41 H            6.1429     1.2286     3.7053 H             1 RES     \\n      42 H            6.2516     1.2835    13.4915 H             1 RES     \\n      43 H            6.1808     1.2110     8.6219 H             1 RES     \\n      44 H            6.4563     1.4311    18.0933 H             1 RES     \\n      45 H            6.1429     6.1429     3.7053 H             1 RES     \\n      46 H            6.2405     6.3296    13.4113 H             1 RES     \\n      47 H            6.2169     6.0907     8.4658 H             1 RES     \\n      48 H            5.5038     5.8469    18.0822 H             1 RES     \\n      49 H            3.6858     3.6858     3.7053 H             1 RES     \\n      50 H            3.7065     3.7953    13.2857 H             1 RES     \\n      51 H            3.6871     3.7104     8.5273 H             1 RES     \\n      52 H            4.0086     3.4955    17.9748 H             1 RES     \\n      53 H            3.6857     8.6001     3.7053 H             1 RES     \\n      54 H            3.8682     8.7258    13.4078 H             1 RES     \\n      55 H            3.7275     8.5977     8.6282 H             1 RES     \\n      56 H            4.1770     9.0476    18.2038 H             1 RES     \\n      57 H            8.6001     3.6858     3.7053 H             1 RES     \\n      58 H            8.6406     3.6387    13.5529 H             1 RES     \\n      59 H            8.6124     3.7306     8.5287 H             1 RES     \\n      60 H            8.9395     4.4137    18.4034 H             1 RES     \\n      61 H            8.6001     8.6001     3.7053 H             1 RES     \\n      62 H            8.7267     8.7006    13.4331 H             1 RES     \\n      63 H            8.6340     8.6686     8.5391 H             1 RES     \\n      64 H            7.6408     7.8050    17.9881 H             1 RES     \\n      65 He           1.2286     1.2286     1.2463 He            1 RES     \\n      66 He           1.3715     1.3816    11.0128 He            1 RES     \\n      67 He           1.1978     1.3051     6.1579 He            1 RES     \\n      68 He           1.0896     1.2521    15.9878 He            1 RES     \\n      69 He           1.2286     6.1429     1.2463 He            1 RES     \\n      70 He           1.4068     6.2790    11.0225 He            1 RES     \\n      71 He           1.1755     6.1903     6.0807 He            1 RES     \\n      72 He           1.3114     6.3074    15.9599 He            1 RES     \\n      73 He           6.1429     1.2286     1.2463 He            1 RES     \\n      74 He           6.1913     1.2964    10.9751 He            1 RES     \\n      75 He           6.1755     1.2303     6.1641 He            1 RES     \\n      76 He           6.2712     1.2628    15.9724 He            1 RES     \\n      77 He           6.1429     6.1429     1.2463 He            1 RES     \\n      78 He           6.2051     6.1449    10.9283 He            1 RES     \\n      79 He           6.0962     6.1403     6.1461 He            1 RES     \\n      80 He           6.2124     6.2418    15.9879 He            1 RES     \\n      81 He           3.6858     3.6858     1.2463 He            1 RES     \\n      82 He           3.7933     3.7104    10.9727 He            1 RES     \\n      83 He           3.6625     3.7725     6.1067 He            1 RES     \\n      84 He           3.6572     3.5931    15.7187 He            1 RES     \\n      85 He           3.6857     8.6001     1.2463 He            1 RES     \\n      86 He           3.8215     8.6953    10.9609 He            1 RES     \\n      87 He           3.7358     8.6218     6.1948 He            1 RES     \\n      88 He           3.8985     8.7381    16.0018 He            1 RES     \\n      89 He           8.6001     3.6858     1.2463 He            1 RES     \\n      90 He           8.7193     3.7311    10.9859 He            1 RES     \\n      91 He           8.5512     3.5962     6.0633 He            1 RES     \\n      92 He           8.7443     3.7854    16.1177 He            1 RES     \\n      93 He           8.6001     8.6001     1.2463 He            1 RES     \\n      94 He           8.7738     8.7806    10.9087 He            1 RES     \\n      95 He           8.6185     8.4947     6.1187 He            1 RES     \\n      96 He           8.7690     8.5546    15.8832 He            1 RES     \\n      97 He           1.2286     3.6858     3.7034 He            1 RES     \\n      98 He           1.1442     3.6573    13.3572 He            1 RES     \\n      99 He           1.2076     3.7792     8.4537 He            1 RES     \\n     100 He           0.5014     3.0695    19.4398 He            1 RES     \\n     101 He           1.2286     8.6001     3.7034 He            1 RES     \\n     102 He           1.3932     8.7741    13.3485 He            1 RES     \\n     103 He           1.2631     8.7207     8.5297 He            1 RES     \\n     104 He           1.7677     9.0316    18.8702 He            1 RES     \\n     105 He           6.1429     3.6858     3.7034 He            1 RES     \\n     106 He           6.2884     3.6988    13.4551 He            1 RES     \\n     107 He           6.2091     3.6660     8.4768 He            1 RES     \\n     108 He           6.2589     3.6663    18.3967 He            1 RES     \\n     109 He           6.1429     8.6001     3.7034 He            1 RES     \\n     110 He           6.3289     8.6825    13.4084 He            1 RES     \\n     111 He           6.2416     8.5915     8.6284 He            1 RES     \\n     112 He           5.7949     7.6560    19.3095 He            1 RES     \\n     113 He           3.6858     1.2286     3.7034 He            1 RES     \\n     114 He           3.8323     1.3080    13.3765 He            1 RES     \\n     115 He           3.6575     1.2351     8.5516 He            1 RES     \\n     116 He           4.2539     1.3593    19.3444 He            1 RES     \\n     117 He           3.6858     6.1429     3.7034 He            1 RES     \\n     118 He           3.8570     6.2540    13.3730 He            1 RES     \\n     119 He           3.7484     6.1209     8.5423 He            1 RES     \\n     120 He           3.4050     5.6907    18.2703 He            1 RES     \\n     121 He           8.6001     1.2286     3.7034 He            1 RES     \\n     122 He           8.7484     1.2739    13.4197 He            1 RES     \\n     123 He           8.7103     1.3202     8.5886 He            1 RES     \\n     124 He           8.2258     0.2771    18.9377 He            1 RES     \\n     125 He           8.6001     6.1429     3.7034 He            1 RES     \\n     126 He           8.6551     6.1831    13.2906 He            1 RES     \\n     127 He           8.7740     6.1689     8.5488 He            1 RES     \\n     128 He           9.0620     6.4595    19.3302 He            1 RES     \\n     129 Li           7.2443     6.3500    20.3034 Li            1 RES     \\n     130 Li           8.5605     1.7064    20.5685 Li            1 RES     \\n     131 Li           2.4014     2.4736    20.5680 Li            1 RES     \\n     132 Li           5.6363     2.8625    20.1920 Li            1 RES     \\n     133 Li           1.9059     8.7004    25.9748 Li            1 RES     \\n     134 Li           6.2421     9.5794    20.2425 Li            1 RES     \\n     135 Li           1.9194     4.7554    19.5454 Li            1 RES     \\n     136 Li           9.6469     5.2111    21.1050 Li            1 RES     \\n     137 Li           3.9086     6.6727    20.3361 Li            1 RES     \\n     138 Li           9.5911     3.3081    32.3284 Li            1 RES     \\n     139 Li           9.7058     8.4344    19.7450 Li            1 RES     \\n     140 Li           3.0991     0.0632    20.4592 Li            1 RES     \\n     141 Be           2.5909     9.3416    26.5230 Be            1 RES     \\n     142 Be           0.1973     2.8574    31.4408 Be            1 RES     \\n     143 Be           7.9072     1.7514    21.2609 Be            1 RES     \\n     144 Be           8.7608     2.9854    32.6700 Be            1 RES     \\n     145 Be           8.9157     5.2569    21.7579 Be            1 RES     \\n     146 Be           2.6687     3.3850    20.8815 Be            1 RES     \\n     147 Be           2.1804     8.9385    25.0363 Be            1 RES     \\n     148 Be           3.0256     6.8176    20.7053 Be            1 RES     \\n     149 Be           4.9400     7.4087    26.2216 Be            1 RES     \\n     150 Be           4.7818     9.0340    26.2105 Be            1 RES     \\n     151 Be           2.7023     7.2453    24.8874 Be            1 RES     \\n     152 Be           1.2721     6.4715    24.7377 Be            1 RES     \\n     153 Be           7.7829    10.4723    25.9899 Be            1 RES     \\n     154 Be           6.1586    10.6327    25.9393 Be            1 RES     \\n     155 Be           8.5766     4.0279    25.8930 Be            1 RES     \\n     156 Be           9.9726     4.5948    25.2633 Be            1 RES     \\n     157 Be           5.7494     7.6895    23.0757 Be            1 RES     \\n     158 Be           4.7406     8.7499    22.3515 Be            1 RES     \\n     159 Be           6.4738     5.1792    25.9667 Be            1 RES     \\n     160 Be           5.3358     5.0893    24.7990 Be            1 RES     \\n     161 Be           2.2632     6.0287    23.5112 Be            1 RES     \\n     162 Be           0.8249     5.4125    23.0440 Be            1 RES     \\n     163 Be          12.0012    11.7205    25.0752 Be            1 RES     \\n     164 Be          10.4112    11.6465    24.7102 Be            1 RES     \\n     165 B            5.4352     8.2768    26.2232 B             1 RES     \\n     166 B            1.7109     7.3639    24.8449 B             1 RES     \\n     167 B            7.0241    11.1183    26.0644 B             1 RES     \\n     168 B            9.3329     4.6669    26.0288 B             1 RES     \\n     169 B            5.3167     7.9443    22.2117 B             1 RES     \\n     170 B            6.2627     5.3974    25.0146 B             1 RES     \\n     171 B            1.7918     5.2060    23.1954 B             1 RES     \\n     172 B           11.1993    11.1252    25.0382 B             1 RES     \\n@<TRIPOS>BOND\\n@<TRIPOS>SUBSTRUCTURE\\n       1 RES             1 RESIDUE    0 **** ROOT      0\\n\",\"mol2\");\n",
       "\tviewer_1575421894585404.setStyle({\"stick\": {\"radius\": 0.2, \"color\": \"grey\"}, \"sphere\": {\"scale\": 0.3, \"colorscheme\": {}}});\n",
       "\tviewer_1575421894585404.zoomTo();\n",
       "viewer_1575421894585404.render();\n",
       "});\n",
       "</script>"
      ]
     },
     "metadata": {},
     "output_type": "display_data"
    },
    {
     "data": {
      "text/plain": [
       "<py3Dmol.view at 0x119e06c10>"
      ]
     },
     "execution_count": 78,
     "metadata": {},
     "output_type": "execute_result"
    }
   ],
   "source": [
    "output = mb.load(\"POSCAR.xyz\")\n",
    "output.visualize()"
   ]
  },
  {
   "cell_type": "code",
   "execution_count": 79,
   "metadata": {},
   "outputs": [
    {
     "name": "stdout",
     "output_type": "stream",
     "text": [
      " # UN_100\r\n",
      "1.000000\r\n",
      "      9.82870007        0.00000000        0.00000000\r\n",
      "     -0.00001701        9.82870007        0.00000000\r\n",
      "      0.00000000        0.00000000       54.65699768\r\n",
      "N U O H O \r\n",
      "    64      64      12      24       8\r\n",
      "Selective dynamics\r\n",
      "Cartesian\r\n",
      "      3.68576040        1.22858751        1.24625369 F F F\r\n"
     ]
    }
   ],
   "source": [
    "!sed -i '' '6i\\ '$'\\n N U O H O '$'\\n ' POSCAR\n",
    "!head POSCAR"
   ]
  },
  {
   "cell_type": "code",
   "execution_count": null,
   "metadata": {},
   "outputs": [],
   "source": []
  },
  {
   "cell_type": "code",
   "execution_count": null,
   "metadata": {},
   "outputs": [],
   "source": []
  }
 ],
 "metadata": {
  "kernelspec": {
   "display_name": "Python 3",
   "language": "python",
   "name": "python3"
  },
  "language_info": {
   "codemirror_mode": {
    "name": "ipython",
    "version": 3
   },
   "file_extension": ".py",
   "mimetype": "text/x-python",
   "name": "python",
   "nbconvert_exporter": "python",
   "pygments_lexer": "ipython3",
   "version": "3.8.0"
  }
 },
 "nbformat": 4,
 "nbformat_minor": 4
}
